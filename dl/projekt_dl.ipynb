{
 "cells": [
  {
   "cell_type": "code",
   "execution_count": 4,
   "metadata": {},
   "outputs": [
    {
     "name": "stdout",
     "output_type": "stream",
     "text": [
      "Collecting opencv-python\n",
      "\u001b[?25l  Downloading https://files.pythonhosted.org/packages/d0/f0/cfe88d262c67825b20d396c778beca21829da061717c7aaa8b421ae5132e/opencv_python-4.2.0.34-cp37-cp37m-manylinux1_x86_64.whl (28.2MB)\n",
      "\u001b[K     |████████████████████████████████| 28.2MB 7.8MB/s eta 0:00:01     |██████████████████████▊         | 20.0MB 7.7MB/s eta 0:00:02\n",
      "\u001b[?25hRequirement already satisfied: numpy>=1.14.5 in /home/maciekg84/anaconda3/lib/python3.7/site-packages (from opencv-python) (1.18.3)\n",
      "Installing collected packages: opencv-python\n",
      "Successfully installed opencv-python-4.2.0.34\n"
     ]
    }
   ],
   "source": [
    "#! pip install opencv-python potrzebny do cv2"
   ]
  },
  {
   "cell_type": "code",
   "execution_count": 12,
   "metadata": {},
   "outputs": [],
   "source": [
    "import os\n",
    "import numpy as np\n",
    "import matplotlib.pyplot as plt\n",
    "import cv2\n",
    "import pickle"
   ]
  },
  {
   "cell_type": "code",
   "execution_count": 13,
   "metadata": {},
   "outputs": [],
   "source": [
    "data_dir = \"./data/flowers\"\n",
    "\n",
    "categories = ['daisy', 'dandelion', 'rose', 'sunflower', 'tulip']"
   ]
  },
  {
   "cell_type": "code",
   "execution_count": null,
   "metadata": {},
   "outputs": [],
   "source": [
    "data = []\n",
    "def make_data():\n",
    "    for category in categories:\n",
    "        path = os.path.join(data_dir, category)\n",
    "        label = categories.index(category)\n",
    "        \n",
    "        for img_name in os.listdir(path):\n",
    "            image_path = os.path.join(path, img_name)\n",
    "            image = cv2.imread(image_path)\n",
    "            \n",
    "            try:\n",
    "                image = cv2.cvtColor(image, cv2.COLOR_BGR2RGB)\n",
    "                image = cv2.resize(image, (224,224))\n",
    "                \n",
    "                image = np.array(image, dtype=np.float32)\n",
    "                \n",
    "                data.append([image, label])\n",
    "            except Exception as e:\n",
    "                pass\n",
    "    print(len(data))\n",
    "    \n",
    "    pik = open('data.pickle', 'wb')\n",
    "    pickle.dump(data,pik)\n",
    "    pik.close()"
   ]
  },
  {
   "cell_type": "code",
   "execution_count": null,
   "metadata": {},
   "outputs": [],
   "source": [
    "make_data()"
   ]
  },
  {
   "cell_type": "code",
   "execution_count": null,
   "metadata": {},
   "outputs": [],
   "source": [
    "def load_data():\n",
    "    pick = open('data.pickle','rb')\n",
    "    data = pickle.load(pick)\n",
    "    pick.close()\n",
    "    \n",
    "    np.random.shuffle(data)\n",
    "    \n",
    "    feature = []\n",
    "    labels = []\n",
    "    \n",
    "    for img, label in data:\n",
    "        feature.append(img)\n",
    "        labels.append(label)\n",
    "        \n",
    "    feature = np.array(feature, dtype=np.float32)\n",
    "    labels = np.array(labels)\n",
    "    \n",
    "    feature = feature/255.0\n",
    "    \n",
    "    return [feature, labels]"
   ]
  }
 ],
 "metadata": {
  "kernelspec": {
   "display_name": "Python 3",
   "language": "python",
   "name": "python3"
  },
  "language_info": {
   "codemirror_mode": {
    "name": "ipython",
    "version": 3
   },
   "file_extension": ".py",
   "mimetype": "text/x-python",
   "name": "python",
   "nbconvert_exporter": "python",
   "pygments_lexer": "ipython3",
   "version": "3.7.4"
  }
 },
 "nbformat": 4,
 "nbformat_minor": 2
}
