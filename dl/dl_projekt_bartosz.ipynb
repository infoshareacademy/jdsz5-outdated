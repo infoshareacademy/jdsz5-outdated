{
  "nbformat": 4,
  "nbformat_minor": 0,
  "metadata": {
    "colab": {
      "name": "dl_projekt",
      "provenance": [],
      "collapsed_sections": []
    },
    "kernelspec": {
      "name": "python3",
      "display_name": "Python 3"
    },
    "accelerator": "GPU"
  },
  "cells": [
    {
      "cell_type": "code",
      "metadata": {
        "id": "KFNBJTRJO1OH",
        "colab_type": "code",
        "colab": {}
      },
      "source": [
        "from tensorflow import keras\n",
        "import tensorflow as tf\n",
        "import numpy as np\n",
        "import matplotlib.pyplot as plt\n",
        "import os\n",
        "from glob import glob\n",
        "from tensorflow.keras.layers import Input, Conv2D, Conv2DTranspose, MaxPooling2D, Concatenate\n",
        "import cv2\n",
        "import pickle\n",
        "from scipy.ndimage import median_filter, convolve"
      ],
      "execution_count": null,
      "outputs": []
    },
    {
      "cell_type": "code",
      "metadata": {
        "id": "LIrKQEZ6O-bd",
        "colab_type": "code",
        "colab": {
          "base_uri": "https://localhost:8080/",
          "height": 54
        },
        "outputId": "4d56dffb-8699-42ed-d83d-7829f94e6380"
      },
      "source": [
        "from google.colab import drive\n",
        "drive.mount('/content/drive')"
      ],
      "execution_count": null,
      "outputs": [
        {
          "output_type": "stream",
          "text": [
            "Drive already mounted at /content/drive; to attempt to forcibly remount, call drive.mount(\"/content/drive\", force_remount=True).\n"
          ],
          "name": "stdout"
        }
      ]
    },
    {
      "cell_type": "code",
      "metadata": {
        "id": "hqVIAB8DO-vM",
        "colab_type": "code",
        "colab": {
          "base_uri": "https://localhost:8080/",
          "height": 545
        },
        "outputId": "b6afe260-01b2-4e86-fe27-9a87bd2bcae4"
      },
      "source": [
        "ls '/content/drive/My Drive/'"
      ],
      "execution_count": null,
      "outputs": [
        {
          "output_type": "stream",
          "text": [
            " \u001b[0m\u001b[01;34mBigData_SmartCities\u001b[0m/\n",
            "\u001b[01;34m'Colab Notebooks'\u001b[0m/\n",
            "'DKZ HOP ISOCARP PORTLAND small.pdf'\n",
            " \u001b[01;34mdublin\u001b[0m/\n",
            " \u001b[01;34mflowers\u001b[0m/\n",
            "\u001b[01;34m'H2020 EQSITY'\u001b[0m/\n",
            " infoHongkong.gdoc\n",
            "'KALENDARZ EVENTÓW KLASOWYCH 2016 - Arkusze Google.url'\n",
            "'kongres rewitalizacji 5-6 października ECS Współpraca-edukacja-rewitalizacja targi dobrych praktyk.gslides'\n",
            " LisbonRSA_DKZ_HOP.pptx.gslides\n",
            "'lista zadań grupy wdrożeniowej Zielony Punkt Spotkań .gsheet'\n",
            "'~$matyka restore.docx'\n",
            " \u001b[01;34mmevo\u001b[0m/\n",
            " mevo.docx\n",
            " mevo.gdoc\n",
            "\u001b[01;34m'MUF Moscow 2016 materials for participants'\u001b[0m/\n",
            "'nagroda rektora_wniosek_BM_DKZ_JB_KU.doc'\n",
            "'Network for cultural planning.gdoc'\n",
            " osoby.gdoc\n",
            " \u001b[01;34mpaper_\u001b[0m/\n",
            " PREZENTACJA.pptx\n",
            "'Prezentacja targi dobrych praktyk.pdf'\n",
            "\u001b[01;34m'rewita_rsa _gdynia_POZNAŃ 17'\u001b[0m/\n",
            " \u001b[01;34msonata\u001b[0m/\n",
            " \u001b[01;34mSOPOT\u001b[0m/\n",
            " \u001b[01;34murbcultplanning_policy_wewnetrzny\u001b[0m/\n",
            " \u001b[01;34mVI_18_19\u001b[0m/\n",
            "' Work plan of subtask 2.2 Smartness.gdoc'\n",
            "'~WRL0587.tmp'\n",
            "\u001b[01;34m\"WspółPodwórko'15\"\u001b[0m/\n"
          ],
          "name": "stdout"
        }
      ]
    },
    {
      "cell_type": "code",
      "metadata": {
        "id": "1nZI7U-3ZrgY",
        "colab_type": "code",
        "colab": {}
      },
      "source": [
        "data_dir = \"/content/drive/My Drive/flowers\"\n",
        "\n",
        "categories = ['daisy', 'dandelion', 'rose', 'sunflower', 'tulip']"
      ],
      "execution_count": null,
      "outputs": []
    },
    {
      "cell_type": "code",
      "metadata": {
        "id": "4_GBWVirZAH4",
        "colab_type": "code",
        "colab": {}
      },
      "source": [
        "data = []\n",
        "def make_data():\n",
        "    for category in categories:\n",
        "        path = os.path.join(data_dir, category)\n",
        "        label = categories.index(category)\n",
        "        \n",
        "        for img_name in os.listdir(path):\n",
        "            image_path = os.path.join(path, img_name)\n",
        "            image = cv2.imread(image_path)\n",
        "            \n",
        "            try:\n",
        "                image = cv2.cvtColor(image, cv2.COLOR_BGR2RGB)\n",
        "                image = cv2.resize(image, (224,224))\n",
        "                \n",
        "                image = np.array(image, dtype=np.float32)\n",
        "                \n",
        "                data.append([image, label])\n",
        "            except Exception as e:\n",
        "                pass\n",
        "    print(len(data))\n",
        "    \n",
        "    pik = open('data.pickle', 'wb')\n",
        "    pickle.dump(data,pik)\n",
        "    pik.close()"
      ],
      "execution_count": null,
      "outputs": []
    },
    {
      "cell_type": "code",
      "metadata": {
        "id": "MNE6oRoMZ1db",
        "colab_type": "code",
        "colab": {
          "base_uri": "https://localhost:8080/",
          "height": 34
        },
        "outputId": "6379a7da-ae52-456e-8148-307f0ac7e735"
      },
      "source": [
        "make_data()"
      ],
      "execution_count": null,
      "outputs": [
        {
          "output_type": "stream",
          "text": [
            "4346\n"
          ],
          "name": "stdout"
        }
      ]
    },
    {
      "cell_type": "code",
      "metadata": {
        "id": "Ar1sY6Gkftk9",
        "colab_type": "code",
        "colab": {}
      },
      "source": [
        "\n",
        "def load_data():\n",
        "    pick = open('data.pickle','rb')\n",
        "    data = pickle.load(pick)\n",
        "    pick.close()\n",
        "    \n",
        "    np.random.shuffle(data)\n",
        "    \n",
        "    feature = []\n",
        "    labels = []\n",
        "    \n",
        "    for img, label in data:\n",
        "        feature.append(img)\n",
        "        labels.append(label)\n",
        "        \n",
        "    feature = np.array(feature, dtype=np.float32)\n",
        "    labels = np.array(labels)\n",
        "    \n",
        "    feature = feature/255.0\n",
        "    \n",
        "    return [feature, labels]"
      ],
      "execution_count": null,
      "outputs": []
    },
    {
      "cell_type": "code",
      "metadata": {
        "id": "JPpEV-M5UVfO",
        "colab_type": "code",
        "colab": {}
      },
      "source": [
        ""
      ],
      "execution_count": null,
      "outputs": []
    }
  ]
}