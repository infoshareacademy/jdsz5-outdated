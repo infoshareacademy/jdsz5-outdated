{
  "nbformat": 4,
  "nbformat_minor": 0,
  "metadata": {
    "colab": {
      "name": "dl_projekt_vgg16_maciek.ipynb",
      "provenance": [],
      "collapsed_sections": []
    },
    "kernelspec": {
      "name": "python3",
      "display_name": "Python 3"
    }
  },
  "cells": [
    {
      "cell_type": "code",
      "metadata": {
        "id": "KFNBJTRJO1OH",
        "colab_type": "code",
        "colab": {
          "base_uri": "https://localhost:8080/",
          "height": 35
        },
        "outputId": "9bbfe268-98aa-4e45-f181-53275b5340fd"
      },
      "source": [
        "from tensorflow import keras\n",
        "import tensorflow as tf\n",
        "import numpy as np\n",
        "import matplotlib.pyplot as plt\n",
        "import os\n",
        "import sys\n",
        "from glob import glob\n",
        "from tensorflow.keras.layers import Input, Conv2D, Conv2DTranspose, MaxPooling2D, Concatenate, GlobalAveragePooling2D, Dense, Dropout, Flatten, Activation, BatchNormalization\n",
        "import cv2\n",
        "import pickle\n",
        "from scipy.ndimage import median_filter, convolve\n",
        "from sklearn.model_selection import train_test_split\n",
        "from tensorflow.keras.applications import VGG16\n",
        "from tensorflow.keras.models import Sequential, Model\n",
        "\n",
        "sys.version"
      ],
      "execution_count": null,
      "outputs": [
        {
          "output_type": "execute_result",
          "data": {
            "application/vnd.google.colaboratory.intrinsic+json": {
              "type": "string"
            },
            "text/plain": [
              "'3.6.9 (default, Jul 17 2020, 12:50:27) \\n[GCC 8.4.0]'"
            ]
          },
          "metadata": {
            "tags": []
          },
          "execution_count": 5
        }
      ]
    },
    {
      "cell_type": "code",
      "metadata": {
        "id": "LIrKQEZ6O-bd",
        "colab_type": "code",
        "colab": {
          "base_uri": "https://localhost:8080/",
          "height": 122
        },
        "outputId": "29159630-bfbb-4bc9-e877-d1a6ecd5cf54"
      },
      "source": [
        "from google.colab import drive\n",
        "drive.mount('/content/drive')"
      ],
      "execution_count": null,
      "outputs": [
        {
          "output_type": "stream",
          "text": [
            "Go to this URL in a browser: https://accounts.google.com/o/oauth2/auth?client_id=947318989803-6bn6qk8qdgf4n4g3pfee6491hc0brc4i.apps.googleusercontent.com&redirect_uri=urn%3aietf%3awg%3aoauth%3a2.0%3aoob&scope=email%20https%3a%2f%2fwww.googleapis.com%2fauth%2fdocs.test%20https%3a%2f%2fwww.googleapis.com%2fauth%2fdrive%20https%3a%2f%2fwww.googleapis.com%2fauth%2fdrive.photos.readonly%20https%3a%2f%2fwww.googleapis.com%2fauth%2fpeopleapi.readonly&response_type=code\n",
            "\n",
            "Enter your authorization code:\n",
            "··········\n",
            "Mounted at /content/drive\n"
          ],
          "name": "stdout"
        }
      ]
    },
    {
      "cell_type": "code",
      "metadata": {
        "id": "1nZI7U-3ZrgY",
        "colab_type": "code",
        "colab": {}
      },
      "source": [
        "data_dir = \"/content/drive/My Drive/flowers\"\n",
        "\n",
        "categories = ['daisy', 'dandelion', 'rose', 'sunflower', 'tulip']"
      ],
      "execution_count": null,
      "outputs": []
    },
    {
      "cell_type": "code",
      "metadata": {
        "id": "4_GBWVirZAH4",
        "colab_type": "code",
        "colab": {}
      },
      "source": [
        "data = []\n",
        "def make_data():\n",
        "    for category in categories:\n",
        "        path = os.path.join(data_dir, category)\n",
        "        label = categories.index(category)\n",
        "        \n",
        "        for img_name in os.listdir(path):\n",
        "            image_path = os.path.join(path, img_name)\n",
        "            image = cv2.imread(image_path)\n",
        "            \n",
        "            try:\n",
        "                image = cv2.cvtColor(image, cv2.COLOR_BGR2RGB)\n",
        "                image = cv2.resize(image, (224,224))\n",
        "                \n",
        "                image = np.array(image, dtype=np.float32)\n",
        "                \n",
        "                data.append([image, label])\n",
        "            except Exception as e:\n",
        "                pass\n",
        "    print(len(data))\n",
        "    \n",
        "    pik = open('data.pickle', 'wb')\n",
        "    pickle.dump(data,pik)\n",
        "    pik.close()"
      ],
      "execution_count": null,
      "outputs": []
    },
    {
      "cell_type": "code",
      "metadata": {
        "id": "MNE6oRoMZ1db",
        "colab_type": "code",
        "colab": {
          "base_uri": "https://localhost:8080/",
          "height": 34
        },
        "outputId": "caaae2ef-41c0-424d-d20d-0e297926f58c"
      },
      "source": [
        "make_data()"
      ],
      "execution_count": null,
      "outputs": [
        {
          "output_type": "stream",
          "text": [
            "4323\n"
          ],
          "name": "stdout"
        }
      ]
    },
    {
      "cell_type": "code",
      "metadata": {
        "id": "Ar1sY6Gkftk9",
        "colab_type": "code",
        "colab": {}
      },
      "source": [
        "# zmienić labelki i sprawdzić kod bo array jest niepotrzebny \n",
        "def load_data():\n",
        "    pick = open('data.pickle','rb')\n",
        "    data = pickle.load(pick)\n",
        "    pick.close()\n",
        "    \n",
        "    np.random.shuffle(data)\n",
        "    \n",
        "    feature = []\n",
        "    labels = []\n",
        "    \n",
        "    for img, label in data:\n",
        "        feature.append(img)\n",
        "        labels.append(label)\n",
        "        \n",
        "    feature = np.array(feature, dtype=np.float32)\n",
        "    labels = np.array(labels)\n",
        "    \n",
        "    feature = feature/255.0\n",
        "    \n",
        "    return [feature, labels]"
      ],
      "execution_count": null,
      "outputs": []
    },
    {
      "cell_type": "code",
      "metadata": {
        "id": "JPpEV-M5UVfO",
        "colab_type": "code",
        "colab": {}
      },
      "source": [
        "(feature, labels) = load_data()"
      ],
      "execution_count": null,
      "outputs": []
    },
    {
      "cell_type": "code",
      "metadata": {
        "id": "BFzC3JJJHUZX",
        "colab_type": "code",
        "colab": {}
      },
      "source": [
        "#preprocessing labelek \n",
        "from sklearn.preprocessing import LabelBinarizer\n",
        "label_binarizer = LabelBinarizer()\n",
        "labels = label_binarizer.fit_transform(labels)"
      ],
      "execution_count": null,
      "outputs": []
    },
    {
      "cell_type": "code",
      "metadata": {
        "id": "bXIreIuXI4iI",
        "colab_type": "code",
        "colab": {}
      },
      "source": [
        "x_train, x_test, y_train, y_test = train_test_split (feature, labels, test_size = 0.2, random_state = 0)"
      ],
      "execution_count": null,
      "outputs": []
    },
    {
      "cell_type": "code",
      "metadata": {
        "id": "Egpn5aN6qgVE",
        "colab_type": "code",
        "colab": {}
      },
      "source": [
        "# dodatkowy podział danych testowych\n",
        "X_test,X_valid, y_test, y_valid = train_test_split(x_test,y_test, test_size = 0.5)"
      ],
      "execution_count": null,
      "outputs": []
    },
    {
      "cell_type": "code",
      "metadata": {
        "id": "OlAV9R0KMUR4",
        "colab_type": "code",
        "colab": {
          "base_uri": "https://localhost:8080/",
          "height": 85
        },
        "outputId": "589dd8be-c82a-478d-cbbc-416ba482ff85"
      },
      "source": [
        "print(\"Loss of the model is - \" , model.evaluate(x_test,y_test)[0])\n",
        "print(\"Accuracy of the model is - \" , model.evaluate(x_test,y_test)[1]*100 , \"%\")"
      ],
      "execution_count": null,
      "outputs": [
        {
          "output_type": "stream",
          "text": [
            "28/28 [==============================] - 421s 15s/step - loss: 0.1257 - accuracy: 0.9607\n",
            "Loss of the model is -  0.12568208575248718\n",
            "28/28 [==============================] - 418s 15s/step - loss: 0.1257 - accuracy: 0.9607\n",
            "Accuracy of the model is -  96.06936573982239 %\n"
          ],
          "name": "stdout"
        }
      ]
    },
    {
      "cell_type": "code",
      "metadata": {
        "id": "aGQgChCTWhVw",
        "colab_type": "code",
        "colab": {
          "base_uri": "https://localhost:8080/",
          "height": 850
        },
        "outputId": "5960a1c5-018c-49f4-81f0-d0d652b345d4"
      },
      "source": [
        "# przenieść do pierwszej komórki\n",
        "from keras.models import Model\n",
        "from keras import optimizers\n",
        "from keras import applications\n",
        "from keras.preprocessing.image import ImageDataGenerator\n",
        "\n",
        "from keras.layers import GlobalAveragePooling2D,Dense,Flatten,Dropout\n",
        "from keras.models import Sequential\n",
        "from keras.callbacks import ModelCheckpoint\n",
        "\n",
        "#załadowanie modelu VGG16 bez ostatniej warstwy\n",
        "base_model = applications.VGG16(weights='imagenet', include_top=False)\n",
        "print('wczytano model!')\n",
        "\n",
        "# zamrożenie 15 pierwszych warstw (nie będą trenowane)\n",
        "for layer in base_model.layers[:15]:\n",
        "    layer.trainable = False\n",
        "    \n",
        "base_model.summary()"
      ],
      "execution_count": null,
      "outputs": [
        {
          "output_type": "stream",
          "text": [
            "Downloading data from https://storage.googleapis.com/tensorflow/keras-applications/vgg16/vgg16_weights_tf_dim_ordering_tf_kernels_notop.h5\n",
            "58892288/58889256 [==============================] - 0s 0us/step\n",
            "Loaded model!\n",
            "Model: \"vgg16\"\n",
            "_________________________________________________________________\n",
            "Layer (type)                 Output Shape              Param #   \n",
            "=================================================================\n",
            "input_1 (InputLayer)         [(None, None, None, 3)]   0         \n",
            "_________________________________________________________________\n",
            "block1_conv1 (Conv2D)        (None, None, None, 64)    1792      \n",
            "_________________________________________________________________\n",
            "block1_conv2 (Conv2D)        (None, None, None, 64)    36928     \n",
            "_________________________________________________________________\n",
            "block1_pool (MaxPooling2D)   (None, None, None, 64)    0         \n",
            "_________________________________________________________________\n",
            "block2_conv1 (Conv2D)        (None, None, None, 128)   73856     \n",
            "_________________________________________________________________\n",
            "block2_conv2 (Conv2D)        (None, None, None, 128)   147584    \n",
            "_________________________________________________________________\n",
            "block2_pool (MaxPooling2D)   (None, None, None, 128)   0         \n",
            "_________________________________________________________________\n",
            "block3_conv1 (Conv2D)        (None, None, None, 256)   295168    \n",
            "_________________________________________________________________\n",
            "block3_conv2 (Conv2D)        (None, None, None, 256)   590080    \n",
            "_________________________________________________________________\n",
            "block3_conv3 (Conv2D)        (None, None, None, 256)   590080    \n",
            "_________________________________________________________________\n",
            "block3_pool (MaxPooling2D)   (None, None, None, 256)   0         \n",
            "_________________________________________________________________\n",
            "block4_conv1 (Conv2D)        (None, None, None, 512)   1180160   \n",
            "_________________________________________________________________\n",
            "block4_conv2 (Conv2D)        (None, None, None, 512)   2359808   \n",
            "_________________________________________________________________\n",
            "block4_conv3 (Conv2D)        (None, None, None, 512)   2359808   \n",
            "_________________________________________________________________\n",
            "block4_pool (MaxPooling2D)   (None, None, None, 512)   0         \n",
            "_________________________________________________________________\n",
            "block5_conv1 (Conv2D)        (None, None, None, 512)   2359808   \n",
            "_________________________________________________________________\n",
            "block5_conv2 (Conv2D)        (None, None, None, 512)   2359808   \n",
            "_________________________________________________________________\n",
            "block5_conv3 (Conv2D)        (None, None, None, 512)   2359808   \n",
            "_________________________________________________________________\n",
            "block5_pool (MaxPooling2D)   (None, None, None, 512)   0         \n",
            "=================================================================\n",
            "Total params: 14,714,688\n",
            "Trainable params: 7,079,424\n",
            "Non-trainable params: 7,635,264\n",
            "_________________________________________________________________\n"
          ],
          "name": "stdout"
        }
      ]
    },
    {
      "cell_type": "code",
      "metadata": {
        "id": "QyBFtctgXpGQ",
        "colab_type": "code",
        "colab": {
          "base_uri": "https://localhost:8080/",
          "height": 221
        },
        "outputId": "17bdebd4-c8cb-420a-8811-668129a5a819"
      },
      "source": [
        "# top_model dodawany do modelu bazowego \n",
        "top_model = Sequential()\n",
        "top_model.add(GlobalAveragePooling2D(input_shape=base_model.output_shape[1:]))\n",
        "top_model.add(Dense(5, activation='softmax')) \n",
        "top_model.summary()"
      ],
      "execution_count": null,
      "outputs": [
        {
          "output_type": "stream",
          "text": [
            "Model: \"sequential\"\n",
            "_________________________________________________________________\n",
            "Layer (type)                 Output Shape              Param #   \n",
            "=================================================================\n",
            "global_average_pooling2d (Gl (None, 512)               0         \n",
            "_________________________________________________________________\n",
            "dense (Dense)                (None, 5)                 2565      \n",
            "=================================================================\n",
            "Total params: 2,565\n",
            "Trainable params: 2,565\n",
            "Non-trainable params: 0\n",
            "_________________________________________________________________\n"
          ],
          "name": "stdout"
        }
      ]
    },
    {
      "cell_type": "code",
      "metadata": {
        "id": "OVYz9KVtXsAl",
        "colab_type": "code",
        "colab": {
          "base_uri": "https://localhost:8080/",
          "height": 221
        },
        "outputId": "e231b1cd-9144-4cd4-8c4f-c1d38bbb6abc"
      },
      "source": [
        "# Połączenie modeli base i top\n",
        "model = Sequential()\n",
        "model.add(base_model)\n",
        "model.add(top_model)\n",
        "model.summary()\n",
        "\n",
        "model.compile(loss='categorical_crossentropy',\n",
        "              optimizer=optimizers.SGD(lr=1e-4, momentum=0.9),\n",
        "              metrics=['accuracy'])"
      ],
      "execution_count": null,
      "outputs": [
        {
          "output_type": "stream",
          "text": [
            "Model: \"sequential_1\"\n",
            "_________________________________________________________________\n",
            "Layer (type)                 Output Shape              Param #   \n",
            "=================================================================\n",
            "vgg16 (Functional)           (None, None, None, 512)   14714688  \n",
            "_________________________________________________________________\n",
            "sequential (Sequential)      (None, 5)                 2565      \n",
            "=================================================================\n",
            "Total params: 14,717,253\n",
            "Trainable params: 7,081,989\n",
            "Non-trainable params: 7,635,264\n",
            "_________________________________________________________________\n"
          ],
          "name": "stdout"
        }
      ]
    },
    {
      "cell_type": "code",
      "metadata": {
        "id": "OHUjmfp6Xxhe",
        "colab_type": "code",
        "colab": {
          "base_uri": "https://localhost:8080/",
          "height": 1000
        },
        "outputId": "86a8dd42-f186-47d3-a85f-4479de166ff1"
      },
      "source": [
        "# Trenowanie modelu z użyciem generatorów na 100 epokach\n",
        "epochs = 100\n",
        "batch_size=32\n",
        "best_model_finetuned_path = 'best_finetuned_model.hdf5'\n",
        "\n",
        "train_datagen = ImageDataGenerator(\n",
        "    shear_range=0.2,\n",
        "    zoom_range=0.2,\n",
        "    horizontal_flip=True)\n",
        "\n",
        "test_datagen = ImageDataGenerator()\n",
        "\n",
        "train_generator = train_datagen.flow(\n",
        "    x_train, y_train,\n",
        "    batch_size=batch_size)\n",
        "\n",
        "validation_generator = test_datagen.flow(\n",
        "    X_valid,y_valid,\n",
        "    batch_size=batch_size)\n",
        "\n",
        "checkpointer = ModelCheckpoint(best_model_finetuned_path,save_best_only = True,verbose = 1)\n",
        "\n",
        "history = model.fit_generator(\n",
        "    train_generator,\n",
        "    steps_per_epoch=len(x_train) // batch_size,\n",
        "    epochs= epochs,\n",
        "    validation_data=validation_generator,\n",
        "    validation_steps=len(X_valid) // batch_size,\n",
        "    callbacks=[checkpointer])"
      ],
      "execution_count": null,
      "outputs": [
        {
          "output_type": "stream",
          "text": [
            "WARNING:tensorflow:From <ipython-input-16-ec3a1f1c3f81>:29: Model.fit_generator (from tensorflow.python.keras.engine.training) is deprecated and will be removed in a future version.\n",
            "Instructions for updating:\n",
            "Please use Model.fit, which supports generators.\n",
            "Epoch 1/100\n",
            "108/108 [==============================] - ETA: 0s - loss: 1.5195 - accuracy: 0.3336\n",
            "Epoch 00001: val_loss improved from inf to 1.41975, saving model to best_finetuned_model.hdf5\n",
            "108/108 [==============================] - 41s 378ms/step - loss: 1.5195 - accuracy: 0.3336 - val_loss: 1.4198 - val_accuracy: 0.4159\n",
            "Epoch 2/100\n",
            "108/108 [==============================] - ETA: 0s - loss: 1.2785 - accuracy: 0.5467\n",
            "Epoch 00002: val_loss improved from 1.41975 to 1.16429, saving model to best_finetuned_model.hdf5\n",
            "108/108 [==============================] - 41s 383ms/step - loss: 1.2785 - accuracy: 0.5467 - val_loss: 1.1643 - val_accuracy: 0.5962\n",
            "Epoch 3/100\n",
            "108/108 [==============================] - ETA: 0s - loss: 1.0197 - accuracy: 0.6471\n",
            "Epoch 00003: val_loss improved from 1.16429 to 0.97276, saving model to best_finetuned_model.hdf5\n",
            "108/108 [==============================] - 42s 387ms/step - loss: 1.0197 - accuracy: 0.6471 - val_loss: 0.9728 - val_accuracy: 0.6611\n",
            "Epoch 4/100\n",
            "108/108 [==============================] - ETA: 0s - loss: 0.8382 - accuracy: 0.7102\n",
            "Epoch 00004: val_loss improved from 0.97276 to 0.82408, saving model to best_finetuned_model.hdf5\n",
            "108/108 [==============================] - 42s 388ms/step - loss: 0.8382 - accuracy: 0.7102 - val_loss: 0.8241 - val_accuracy: 0.6731\n",
            "Epoch 5/100\n",
            "108/108 [==============================] - ETA: 0s - loss: 0.7194 - accuracy: 0.7487\n",
            "Epoch 00005: val_loss improved from 0.82408 to 0.73378, saving model to best_finetuned_model.hdf5\n",
            "108/108 [==============================] - 42s 389ms/step - loss: 0.7194 - accuracy: 0.7487 - val_loss: 0.7338 - val_accuracy: 0.7163\n",
            "Epoch 6/100\n",
            "108/108 [==============================] - ETA: 0s - loss: 0.6471 - accuracy: 0.7671\n",
            "Epoch 00006: val_loss improved from 0.73378 to 0.67905, saving model to best_finetuned_model.hdf5\n",
            "108/108 [==============================] - 42s 387ms/step - loss: 0.6471 - accuracy: 0.7671 - val_loss: 0.6791 - val_accuracy: 0.7356\n",
            "Epoch 7/100\n",
            "108/108 [==============================] - ETA: 0s - loss: 0.6061 - accuracy: 0.7831\n",
            "Epoch 00007: val_loss improved from 0.67905 to 0.65654, saving model to best_finetuned_model.hdf5\n",
            "108/108 [==============================] - 41s 383ms/step - loss: 0.6061 - accuracy: 0.7831 - val_loss: 0.6565 - val_accuracy: 0.7452\n",
            "Epoch 8/100\n",
            "108/108 [==============================] - ETA: 0s - loss: 0.5764 - accuracy: 0.7968\n",
            "Epoch 00008: val_loss improved from 0.65654 to 0.60430, saving model to best_finetuned_model.hdf5\n",
            "108/108 [==============================] - 41s 384ms/step - loss: 0.5764 - accuracy: 0.7968 - val_loss: 0.6043 - val_accuracy: 0.7957\n",
            "Epoch 9/100\n",
            "108/108 [==============================] - ETA: 0s - loss: 0.5326 - accuracy: 0.8167\n",
            "Epoch 00009: val_loss improved from 0.60430 to 0.58351, saving model to best_finetuned_model.hdf5\n",
            "108/108 [==============================] - 42s 385ms/step - loss: 0.5326 - accuracy: 0.8167 - val_loss: 0.5835 - val_accuracy: 0.7837\n",
            "Epoch 10/100\n",
            "108/108 [==============================] - ETA: 0s - loss: 0.5284 - accuracy: 0.8120\n",
            "Epoch 00010: val_loss did not improve from 0.58351\n",
            "108/108 [==============================] - 41s 381ms/step - loss: 0.5284 - accuracy: 0.8120 - val_loss: 0.6120 - val_accuracy: 0.7933\n",
            "Epoch 11/100\n",
            "108/108 [==============================] - ETA: 0s - loss: 0.4943 - accuracy: 0.8249\n",
            "Epoch 00011: val_loss improved from 0.58351 to 0.52823, saving model to best_finetuned_model.hdf5\n",
            "108/108 [==============================] - 42s 384ms/step - loss: 0.4943 - accuracy: 0.8249 - val_loss: 0.5282 - val_accuracy: 0.8197\n",
            "Epoch 12/100\n",
            "108/108 [==============================] - ETA: 0s - loss: 0.4723 - accuracy: 0.8342\n",
            "Epoch 00012: val_loss did not improve from 0.52823\n",
            "108/108 [==============================] - 41s 380ms/step - loss: 0.4723 - accuracy: 0.8342 - val_loss: 0.5391 - val_accuracy: 0.8077\n",
            "Epoch 13/100\n",
            "108/108 [==============================] - ETA: 0s - loss: 0.4541 - accuracy: 0.8415\n",
            "Epoch 00013: val_loss improved from 0.52823 to 0.52045, saving model to best_finetuned_model.hdf5\n",
            "108/108 [==============================] - 42s 385ms/step - loss: 0.4541 - accuracy: 0.8415 - val_loss: 0.5204 - val_accuracy: 0.7981\n",
            "Epoch 14/100\n",
            "108/108 [==============================] - ETA: 0s - loss: 0.4399 - accuracy: 0.8471\n",
            "Epoch 00014: val_loss improved from 0.52045 to 0.51320, saving model to best_finetuned_model.hdf5\n",
            "108/108 [==============================] - 41s 383ms/step - loss: 0.4399 - accuracy: 0.8471 - val_loss: 0.5132 - val_accuracy: 0.7981\n",
            "Epoch 15/100\n",
            "108/108 [==============================] - ETA: 0s - loss: 0.4438 - accuracy: 0.8471\n",
            "Epoch 00015: val_loss improved from 0.51320 to 0.50553, saving model to best_finetuned_model.hdf5\n",
            "108/108 [==============================] - 42s 385ms/step - loss: 0.4438 - accuracy: 0.8471 - val_loss: 0.5055 - val_accuracy: 0.8197\n",
            "Epoch 16/100\n",
            "108/108 [==============================] - ETA: 0s - loss: 0.4265 - accuracy: 0.8508\n",
            "Epoch 00016: val_loss improved from 0.50553 to 0.50411, saving model to best_finetuned_model.hdf5\n",
            "108/108 [==============================] - 41s 384ms/step - loss: 0.4265 - accuracy: 0.8508 - val_loss: 0.5041 - val_accuracy: 0.8317\n",
            "Epoch 17/100\n",
            "108/108 [==============================] - ETA: 0s - loss: 0.4047 - accuracy: 0.8608\n",
            "Epoch 00017: val_loss improved from 0.50411 to 0.48407, saving model to best_finetuned_model.hdf5\n",
            "108/108 [==============================] - 42s 387ms/step - loss: 0.4047 - accuracy: 0.8608 - val_loss: 0.4841 - val_accuracy: 0.8197\n",
            "Epoch 18/100\n",
            "108/108 [==============================] - ETA: 0s - loss: 0.3953 - accuracy: 0.8619\n",
            "Epoch 00018: val_loss did not improve from 0.48407\n",
            "108/108 [==============================] - 41s 382ms/step - loss: 0.3953 - accuracy: 0.8619 - val_loss: 0.4845 - val_accuracy: 0.8149\n",
            "Epoch 19/100\n",
            "108/108 [==============================] - ETA: 0s - loss: 0.3842 - accuracy: 0.8663\n",
            "Epoch 00019: val_loss improved from 0.48407 to 0.45980, saving model to best_finetuned_model.hdf5\n",
            "108/108 [==============================] - 41s 383ms/step - loss: 0.3842 - accuracy: 0.8663 - val_loss: 0.4598 - val_accuracy: 0.8341\n",
            "Epoch 20/100\n",
            "108/108 [==============================] - ETA: 0s - loss: 0.3770 - accuracy: 0.8663\n",
            "Epoch 00020: val_loss improved from 0.45980 to 0.44631, saving model to best_finetuned_model.hdf5\n",
            "108/108 [==============================] - 40s 374ms/step - loss: 0.3770 - accuracy: 0.8663 - val_loss: 0.4463 - val_accuracy: 0.8341\n",
            "Epoch 21/100\n",
            "108/108 [==============================] - ETA: 0s - loss: 0.3740 - accuracy: 0.8687\n",
            "Epoch 00021: val_loss did not improve from 0.44631\n",
            "108/108 [==============================] - 40s 374ms/step - loss: 0.3740 - accuracy: 0.8687 - val_loss: 0.4547 - val_accuracy: 0.8534\n",
            "Epoch 22/100\n",
            "108/108 [==============================] - ETA: 0s - loss: 0.3547 - accuracy: 0.8818\n",
            "Epoch 00022: val_loss improved from 0.44631 to 0.43993, saving model to best_finetuned_model.hdf5\n",
            "108/108 [==============================] - 40s 373ms/step - loss: 0.3547 - accuracy: 0.8818 - val_loss: 0.4399 - val_accuracy: 0.8389\n",
            "Epoch 23/100\n",
            "108/108 [==============================] - ETA: 0s - loss: 0.3508 - accuracy: 0.8768\n",
            "Epoch 00023: val_loss did not improve from 0.43993\n",
            "108/108 [==============================] - 40s 372ms/step - loss: 0.3508 - accuracy: 0.8768 - val_loss: 0.4643 - val_accuracy: 0.8341\n",
            "Epoch 24/100\n",
            "108/108 [==============================] - ETA: 0s - loss: 0.3398 - accuracy: 0.8800\n",
            "Epoch 00024: val_loss improved from 0.43993 to 0.43758, saving model to best_finetuned_model.hdf5\n",
            "108/108 [==============================] - 41s 376ms/step - loss: 0.3398 - accuracy: 0.8800 - val_loss: 0.4376 - val_accuracy: 0.8510\n",
            "Epoch 25/100\n",
            "108/108 [==============================] - ETA: 0s - loss: 0.3252 - accuracy: 0.8850\n",
            "Epoch 00025: val_loss improved from 0.43758 to 0.40922, saving model to best_finetuned_model.hdf5\n",
            "108/108 [==============================] - 42s 390ms/step - loss: 0.3252 - accuracy: 0.8850 - val_loss: 0.4092 - val_accuracy: 0.8630\n",
            "Epoch 26/100\n",
            "108/108 [==============================] - ETA: 0s - loss: 0.3320 - accuracy: 0.8818\n",
            "Epoch 00026: val_loss did not improve from 0.40922\n",
            "108/108 [==============================] - 41s 382ms/step - loss: 0.3320 - accuracy: 0.8818 - val_loss: 0.4360 - val_accuracy: 0.8365\n",
            "Epoch 27/100\n",
            "108/108 [==============================] - ETA: 0s - loss: 0.3338 - accuracy: 0.8780\n",
            "Epoch 00027: val_loss did not improve from 0.40922\n",
            "108/108 [==============================] - 41s 381ms/step - loss: 0.3338 - accuracy: 0.8780 - val_loss: 0.4348 - val_accuracy: 0.8462\n",
            "Epoch 28/100\n",
            "108/108 [==============================] - ETA: 0s - loss: 0.3224 - accuracy: 0.8832\n",
            "Epoch 00028: val_loss did not improve from 0.40922\n",
            "108/108 [==============================] - 41s 375ms/step - loss: 0.3224 - accuracy: 0.8832 - val_loss: 0.4155 - val_accuracy: 0.8702\n",
            "Epoch 29/100\n",
            "108/108 [==============================] - ETA: 0s - loss: 0.3042 - accuracy: 0.9008\n",
            "Epoch 00029: val_loss did not improve from 0.40922\n",
            "108/108 [==============================] - 41s 377ms/step - loss: 0.3042 - accuracy: 0.9008 - val_loss: 0.4383 - val_accuracy: 0.8462\n",
            "Epoch 30/100\n",
            "108/108 [==============================] - ETA: 0s - loss: 0.3050 - accuracy: 0.8970\n",
            "Epoch 00030: val_loss improved from 0.40922 to 0.40892, saving model to best_finetuned_model.hdf5\n",
            "108/108 [==============================] - 41s 378ms/step - loss: 0.3050 - accuracy: 0.8970 - val_loss: 0.4089 - val_accuracy: 0.8486\n",
            "Epoch 31/100\n",
            "108/108 [==============================] - ETA: 0s - loss: 0.2914 - accuracy: 0.8984\n",
            "Epoch 00031: val_loss did not improve from 0.40892\n",
            "108/108 [==============================] - 41s 380ms/step - loss: 0.2914 - accuracy: 0.8984 - val_loss: 0.4117 - val_accuracy: 0.8558\n",
            "Epoch 32/100\n",
            "108/108 [==============================] - ETA: 0s - loss: 0.2913 - accuracy: 0.8955\n",
            "Epoch 00032: val_loss did not improve from 0.40892\n",
            "108/108 [==============================] - 42s 390ms/step - loss: 0.2913 - accuracy: 0.8955 - val_loss: 0.4228 - val_accuracy: 0.8389\n",
            "Epoch 33/100\n",
            "108/108 [==============================] - ETA: 0s - loss: 0.2849 - accuracy: 0.9025\n",
            "Epoch 00033: val_loss did not improve from 0.40892\n",
            "108/108 [==============================] - 41s 383ms/step - loss: 0.2849 - accuracy: 0.9025 - val_loss: 0.4166 - val_accuracy: 0.8606\n",
            "Epoch 34/100\n",
            "108/108 [==============================] - ETA: 0s - loss: 0.2853 - accuracy: 0.9005\n",
            "Epoch 00034: val_loss improved from 0.40892 to 0.38719, saving model to best_finetuned_model.hdf5\n",
            "108/108 [==============================] - 41s 384ms/step - loss: 0.2853 - accuracy: 0.9005 - val_loss: 0.3872 - val_accuracy: 0.8582\n",
            "Epoch 35/100\n",
            "108/108 [==============================] - ETA: 0s - loss: 0.3006 - accuracy: 0.8955\n",
            "Epoch 00035: val_loss did not improve from 0.38719\n",
            "108/108 [==============================] - 41s 380ms/step - loss: 0.3006 - accuracy: 0.8955 - val_loss: 0.3890 - val_accuracy: 0.8558\n",
            "Epoch 36/100\n",
            "108/108 [==============================] - ETA: 0s - loss: 0.2824 - accuracy: 0.9037\n",
            "Epoch 00036: val_loss improved from 0.38719 to 0.37979, saving model to best_finetuned_model.hdf5\n",
            "108/108 [==============================] - 42s 385ms/step - loss: 0.2824 - accuracy: 0.9037 - val_loss: 0.3798 - val_accuracy: 0.8630\n",
            "Epoch 37/100\n",
            "107/108 [============================>.] - ETA: 0s - loss: 0.2640 - accuracy: 0.9074\n",
            "Epoch 00037: val_loss did not improve from 0.37979\n",
            "108/108 [==============================] - 41s 380ms/step - loss: 0.2640 - accuracy: 0.9075 - val_loss: 0.4181 - val_accuracy: 0.8678\n",
            "Epoch 38/100\n",
            "108/108 [==============================] - ETA: 0s - loss: 0.2677 - accuracy: 0.9054\n",
            "Epoch 00038: val_loss did not improve from 0.37979\n",
            "108/108 [==============================] - 41s 381ms/step - loss: 0.2677 - accuracy: 0.9054 - val_loss: 0.3821 - val_accuracy: 0.8678\n",
            "Epoch 39/100\n",
            "108/108 [==============================] - ETA: 0s - loss: 0.2574 - accuracy: 0.9119\n",
            "Epoch 00039: val_loss did not improve from 0.37979\n",
            "108/108 [==============================] - 40s 369ms/step - loss: 0.2574 - accuracy: 0.9119 - val_loss: 0.4176 - val_accuracy: 0.8582\n",
            "Epoch 40/100\n",
            "108/108 [==============================] - ETA: 0s - loss: 0.2569 - accuracy: 0.9119\n",
            "Epoch 00040: val_loss improved from 0.37979 to 0.37946, saving model to best_finetuned_model.hdf5\n",
            "108/108 [==============================] - 40s 373ms/step - loss: 0.2569 - accuracy: 0.9119 - val_loss: 0.3795 - val_accuracy: 0.8702\n",
            "Epoch 41/100\n",
            "108/108 [==============================] - ETA: 0s - loss: 0.2527 - accuracy: 0.9136\n",
            "Epoch 00041: val_loss did not improve from 0.37946\n",
            "108/108 [==============================] - 40s 369ms/step - loss: 0.2527 - accuracy: 0.9136 - val_loss: 0.3823 - val_accuracy: 0.8702\n",
            "Epoch 42/100\n",
            "108/108 [==============================] - ETA: 0s - loss: 0.2442 - accuracy: 0.9148\n",
            "Epoch 00042: val_loss did not improve from 0.37946\n",
            "108/108 [==============================] - 41s 382ms/step - loss: 0.2442 - accuracy: 0.9148 - val_loss: 0.4276 - val_accuracy: 0.8462\n",
            "Epoch 43/100\n",
            "108/108 [==============================] - ETA: 0s - loss: 0.2485 - accuracy: 0.9136\n",
            "Epoch 00043: val_loss did not improve from 0.37946\n",
            "108/108 [==============================] - 42s 388ms/step - loss: 0.2485 - accuracy: 0.9136 - val_loss: 0.3920 - val_accuracy: 0.8678\n",
            "Epoch 44/100\n",
            "108/108 [==============================] - ETA: 0s - loss: 0.2414 - accuracy: 0.9171\n",
            "Epoch 00044: val_loss improved from 0.37946 to 0.37630, saving model to best_finetuned_model.hdf5\n",
            "108/108 [==============================] - 42s 387ms/step - loss: 0.2414 - accuracy: 0.9171 - val_loss: 0.3763 - val_accuracy: 0.8702\n",
            "Epoch 45/100\n",
            "108/108 [==============================] - ETA: 0s - loss: 0.2442 - accuracy: 0.9156\n",
            "Epoch 00045: val_loss improved from 0.37630 to 0.35550, saving model to best_finetuned_model.hdf5\n",
            "108/108 [==============================] - 42s 387ms/step - loss: 0.2442 - accuracy: 0.9156 - val_loss: 0.3555 - val_accuracy: 0.8702\n",
            "Epoch 46/100\n",
            "108/108 [==============================] - ETA: 0s - loss: 0.2361 - accuracy: 0.9186\n",
            "Epoch 00046: val_loss did not improve from 0.35550\n",
            "108/108 [==============================] - 41s 382ms/step - loss: 0.2361 - accuracy: 0.9186 - val_loss: 0.4083 - val_accuracy: 0.8606\n",
            "Epoch 47/100\n",
            "108/108 [==============================] - ETA: 0s - loss: 0.2381 - accuracy: 0.9194\n",
            "Epoch 00047: val_loss did not improve from 0.35550\n",
            "108/108 [==============================] - 41s 377ms/step - loss: 0.2381 - accuracy: 0.9194 - val_loss: 0.3726 - val_accuracy: 0.8750\n",
            "Epoch 48/100\n",
            "108/108 [==============================] - ETA: 0s - loss: 0.2450 - accuracy: 0.9095\n",
            "Epoch 00048: val_loss improved from 0.35550 to 0.34821, saving model to best_finetuned_model.hdf5\n",
            "108/108 [==============================] - 42s 385ms/step - loss: 0.2450 - accuracy: 0.9095 - val_loss: 0.3482 - val_accuracy: 0.8798\n",
            "Epoch 49/100\n",
            "108/108 [==============================] - ETA: 0s - loss: 0.2173 - accuracy: 0.9273\n",
            "Epoch 00049: val_loss did not improve from 0.34821\n",
            "108/108 [==============================] - 41s 378ms/step - loss: 0.2173 - accuracy: 0.9273 - val_loss: 0.4189 - val_accuracy: 0.8534\n",
            "Epoch 50/100\n",
            "108/108 [==============================] - ETA: 0s - loss: 0.2171 - accuracy: 0.9285\n",
            "Epoch 00050: val_loss did not improve from 0.34821\n",
            "108/108 [==============================] - 42s 386ms/step - loss: 0.2171 - accuracy: 0.9285 - val_loss: 0.3805 - val_accuracy: 0.8678\n",
            "Epoch 51/100\n",
            "108/108 [==============================] - ETA: 0s - loss: 0.2135 - accuracy: 0.9276\n",
            "Epoch 00051: val_loss did not improve from 0.34821\n",
            "108/108 [==============================] - 41s 380ms/step - loss: 0.2135 - accuracy: 0.9276 - val_loss: 0.3886 - val_accuracy: 0.8630\n",
            "Epoch 52/100\n",
            "108/108 [==============================] - ETA: 0s - loss: 0.2117 - accuracy: 0.9262\n",
            "Epoch 00052: val_loss did not improve from 0.34821\n",
            "108/108 [==============================] - 41s 383ms/step - loss: 0.2117 - accuracy: 0.9262 - val_loss: 0.3750 - val_accuracy: 0.8702\n",
            "Epoch 53/100\n",
            "108/108 [==============================] - ETA: 0s - loss: 0.2058 - accuracy: 0.9276\n",
            "Epoch 00053: val_loss did not improve from 0.34821\n",
            "108/108 [==============================] - 41s 383ms/step - loss: 0.2058 - accuracy: 0.9276 - val_loss: 0.3680 - val_accuracy: 0.8630\n",
            "Epoch 54/100\n",
            "108/108 [==============================] - ETA: 0s - loss: 0.2180 - accuracy: 0.9241\n",
            "Epoch 00054: val_loss did not improve from 0.34821\n",
            "108/108 [==============================] - 42s 386ms/step - loss: 0.2180 - accuracy: 0.9241 - val_loss: 0.3631 - val_accuracy: 0.8846\n",
            "Epoch 55/100\n",
            "108/108 [==============================] - ETA: 0s - loss: 0.2054 - accuracy: 0.9270\n",
            "Epoch 00055: val_loss did not improve from 0.34821\n",
            "108/108 [==============================] - 42s 385ms/step - loss: 0.2054 - accuracy: 0.9270 - val_loss: 0.3794 - val_accuracy: 0.8678\n",
            "Epoch 56/100\n",
            "108/108 [==============================] - ETA: 0s - loss: 0.1984 - accuracy: 0.9326\n",
            "Epoch 00056: val_loss did not improve from 0.34821\n",
            "108/108 [==============================] - 42s 385ms/step - loss: 0.1984 - accuracy: 0.9326 - val_loss: 0.3830 - val_accuracy: 0.8822\n",
            "Epoch 57/100\n",
            "108/108 [==============================] - ETA: 0s - loss: 0.1934 - accuracy: 0.9340\n",
            "Epoch 00057: val_loss did not improve from 0.34821\n",
            "108/108 [==============================] - 42s 384ms/step - loss: 0.1934 - accuracy: 0.9340 - val_loss: 0.3941 - val_accuracy: 0.8798\n",
            "Epoch 58/100\n",
            "108/108 [==============================] - ETA: 0s - loss: 0.1908 - accuracy: 0.9372\n",
            "Epoch 00058: val_loss did not improve from 0.34821\n",
            "108/108 [==============================] - 42s 385ms/step - loss: 0.1908 - accuracy: 0.9372 - val_loss: 0.3741 - val_accuracy: 0.8870\n",
            "Epoch 59/100\n",
            "108/108 [==============================] - ETA: 0s - loss: 0.1876 - accuracy: 0.9387\n",
            "Epoch 00059: val_loss did not improve from 0.34821\n",
            "108/108 [==============================] - 41s 379ms/step - loss: 0.1876 - accuracy: 0.9387 - val_loss: 0.3531 - val_accuracy: 0.8822\n",
            "Epoch 60/100\n",
            "108/108 [==============================] - ETA: 0s - loss: 0.2003 - accuracy: 0.9285\n",
            "Epoch 00060: val_loss did not improve from 0.34821\n",
            "108/108 [==============================] - 41s 384ms/step - loss: 0.2003 - accuracy: 0.9285 - val_loss: 0.3773 - val_accuracy: 0.8702\n",
            "Epoch 61/100\n",
            "108/108 [==============================] - ETA: 0s - loss: 0.1995 - accuracy: 0.9267\n",
            "Epoch 00061: val_loss did not improve from 0.34821\n",
            "108/108 [==============================] - 42s 385ms/step - loss: 0.1995 - accuracy: 0.9267 - val_loss: 0.3709 - val_accuracy: 0.8822\n",
            "Epoch 62/100\n",
            "108/108 [==============================] - ETA: 0s - loss: 0.1874 - accuracy: 0.9355\n",
            "Epoch 00062: val_loss did not improve from 0.34821\n",
            "108/108 [==============================] - 42s 385ms/step - loss: 0.1874 - accuracy: 0.9355 - val_loss: 0.3608 - val_accuracy: 0.8774\n",
            "Epoch 63/100\n",
            "108/108 [==============================] - ETA: 0s - loss: 0.1743 - accuracy: 0.9489\n",
            "Epoch 00063: val_loss did not improve from 0.34821\n",
            "108/108 [==============================] - 41s 383ms/step - loss: 0.1743 - accuracy: 0.9489 - val_loss: 0.3866 - val_accuracy: 0.8702\n",
            "Epoch 64/100\n",
            "108/108 [==============================] - ETA: 0s - loss: 0.1777 - accuracy: 0.9381\n",
            "Epoch 00064: val_loss did not improve from 0.34821\n",
            "108/108 [==============================] - 41s 380ms/step - loss: 0.1777 - accuracy: 0.9381 - val_loss: 0.3647 - val_accuracy: 0.8774\n",
            "Epoch 65/100\n",
            "108/108 [==============================] - ETA: 0s - loss: 0.1776 - accuracy: 0.9416\n",
            "Epoch 00065: val_loss did not improve from 0.34821\n",
            "108/108 [==============================] - 41s 381ms/step - loss: 0.1776 - accuracy: 0.9416 - val_loss: 0.3708 - val_accuracy: 0.8822\n",
            "Epoch 66/100\n",
            "108/108 [==============================] - ETA: 0s - loss: 0.1787 - accuracy: 0.9349\n",
            "Epoch 00066: val_loss improved from 0.34821 to 0.33890, saving model to best_finetuned_model.hdf5\n",
            "108/108 [==============================] - 42s 385ms/step - loss: 0.1787 - accuracy: 0.9349 - val_loss: 0.3389 - val_accuracy: 0.8774\n",
            "Epoch 67/100\n",
            "108/108 [==============================] - ETA: 0s - loss: 0.1804 - accuracy: 0.9378\n",
            "Epoch 00067: val_loss did not improve from 0.33890\n",
            "108/108 [==============================] - 41s 382ms/step - loss: 0.1804 - accuracy: 0.9378 - val_loss: 0.4419 - val_accuracy: 0.8702\n",
            "Epoch 68/100\n",
            "108/108 [==============================] - ETA: 0s - loss: 0.1698 - accuracy: 0.9413\n",
            "Epoch 00068: val_loss did not improve from 0.33890\n",
            "108/108 [==============================] - 41s 376ms/step - loss: 0.1698 - accuracy: 0.9413 - val_loss: 0.4271 - val_accuracy: 0.8726\n",
            "Epoch 69/100\n",
            "108/108 [==============================] - ETA: 0s - loss: 0.1628 - accuracy: 0.9466\n",
            "Epoch 00069: val_loss did not improve from 0.33890\n",
            "108/108 [==============================] - 40s 369ms/step - loss: 0.1628 - accuracy: 0.9466 - val_loss: 0.3712 - val_accuracy: 0.8870\n",
            "Epoch 70/100\n",
            "108/108 [==============================] - ETA: 0s - loss: 0.1648 - accuracy: 0.9451\n",
            "Epoch 00070: val_loss did not improve from 0.33890\n",
            "108/108 [==============================] - 40s 370ms/step - loss: 0.1648 - accuracy: 0.9451 - val_loss: 0.3693 - val_accuracy: 0.8798\n",
            "Epoch 71/100\n",
            "108/108 [==============================] - ETA: 0s - loss: 0.1600 - accuracy: 0.9469\n",
            "Epoch 00071: val_loss did not improve from 0.33890\n",
            "108/108 [==============================] - 40s 368ms/step - loss: 0.1600 - accuracy: 0.9469 - val_loss: 0.3784 - val_accuracy: 0.8750\n",
            "Epoch 72/100\n",
            "108/108 [==============================] - ETA: 0s - loss: 0.1588 - accuracy: 0.9489\n",
            "Epoch 00072: val_loss did not improve from 0.33890\n",
            "108/108 [==============================] - 40s 369ms/step - loss: 0.1588 - accuracy: 0.9489 - val_loss: 0.3513 - val_accuracy: 0.8774\n",
            "Epoch 73/100\n",
            "108/108 [==============================] - ETA: 0s - loss: 0.1625 - accuracy: 0.9419\n",
            "Epoch 00073: val_loss improved from 0.33890 to 0.33502, saving model to best_finetuned_model.hdf5\n",
            "108/108 [==============================] - 40s 373ms/step - loss: 0.1625 - accuracy: 0.9419 - val_loss: 0.3350 - val_accuracy: 0.8870\n",
            "Epoch 74/100\n",
            "108/108 [==============================] - ETA: 0s - loss: 0.1605 - accuracy: 0.9440\n",
            "Epoch 00074: val_loss did not improve from 0.33502\n",
            "108/108 [==============================] - 40s 370ms/step - loss: 0.1605 - accuracy: 0.9440 - val_loss: 0.3506 - val_accuracy: 0.8798\n",
            "Epoch 75/100\n",
            "108/108 [==============================] - ETA: 0s - loss: 0.1515 - accuracy: 0.9492\n",
            "Epoch 00075: val_loss did not improve from 0.33502\n",
            "108/108 [==============================] - 40s 371ms/step - loss: 0.1515 - accuracy: 0.9492 - val_loss: 0.3665 - val_accuracy: 0.8870\n",
            "Epoch 76/100\n",
            "108/108 [==============================] - ETA: 0s - loss: 0.1621 - accuracy: 0.9431\n",
            "Epoch 00076: val_loss did not improve from 0.33502\n",
            "108/108 [==============================] - 40s 370ms/step - loss: 0.1621 - accuracy: 0.9431 - val_loss: 0.3648 - val_accuracy: 0.8702\n",
            "Epoch 77/100\n",
            "108/108 [==============================] - ETA: 0s - loss: 0.1512 - accuracy: 0.9463\n",
            "Epoch 00077: val_loss did not improve from 0.33502\n",
            "108/108 [==============================] - 40s 366ms/step - loss: 0.1512 - accuracy: 0.9463 - val_loss: 0.3950 - val_accuracy: 0.8702\n",
            "Epoch 78/100\n",
            "108/108 [==============================] - ETA: 0s - loss: 0.1436 - accuracy: 0.9521\n",
            "Epoch 00078: val_loss did not improve from 0.33502\n",
            "108/108 [==============================] - 39s 365ms/step - loss: 0.1436 - accuracy: 0.9521 - val_loss: 0.3863 - val_accuracy: 0.8702\n",
            "Epoch 79/100\n",
            "108/108 [==============================] - ETA: 0s - loss: 0.1397 - accuracy: 0.9533\n",
            "Epoch 00079: val_loss did not improve from 0.33502\n",
            "108/108 [==============================] - 39s 364ms/step - loss: 0.1397 - accuracy: 0.9533 - val_loss: 0.4539 - val_accuracy: 0.8462\n",
            "Epoch 80/100\n",
            "108/108 [==============================] - ETA: 0s - loss: 0.1481 - accuracy: 0.9495\n",
            "Epoch 00080: val_loss did not improve from 0.33502\n",
            "108/108 [==============================] - 39s 361ms/step - loss: 0.1481 - accuracy: 0.9495 - val_loss: 0.3745 - val_accuracy: 0.8846\n",
            "Epoch 81/100\n",
            "108/108 [==============================] - ETA: 0s - loss: 0.1413 - accuracy: 0.9521\n",
            "Epoch 00081: val_loss did not improve from 0.33502\n",
            "108/108 [==============================] - 39s 362ms/step - loss: 0.1413 - accuracy: 0.9521 - val_loss: 0.3868 - val_accuracy: 0.8750\n",
            "Epoch 82/100\n",
            "108/108 [==============================] - ETA: 0s - loss: 0.1322 - accuracy: 0.9586\n",
            "Epoch 00082: val_loss did not improve from 0.33502\n",
            "108/108 [==============================] - 41s 382ms/step - loss: 0.1322 - accuracy: 0.9586 - val_loss: 0.3690 - val_accuracy: 0.8822\n",
            "Epoch 83/100\n",
            "108/108 [==============================] - ETA: 0s - loss: 0.1322 - accuracy: 0.9550\n",
            "Epoch 00083: val_loss did not improve from 0.33502\n",
            "108/108 [==============================] - 42s 385ms/step - loss: 0.1322 - accuracy: 0.9550 - val_loss: 0.3645 - val_accuracy: 0.8798\n",
            "Epoch 84/100\n",
            "108/108 [==============================] - ETA: 0s - loss: 0.1246 - accuracy: 0.9612\n",
            "Epoch 00084: val_loss did not improve from 0.33502\n",
            "108/108 [==============================] - 42s 386ms/step - loss: 0.1246 - accuracy: 0.9612 - val_loss: 0.3746 - val_accuracy: 0.8750\n",
            "Epoch 85/100\n",
            "108/108 [==============================] - ETA: 0s - loss: 0.1297 - accuracy: 0.9577\n",
            "Epoch 00085: val_loss did not improve from 0.33502\n",
            "108/108 [==============================] - 42s 386ms/step - loss: 0.1297 - accuracy: 0.9577 - val_loss: 0.4153 - val_accuracy: 0.8798\n",
            "Epoch 86/100\n",
            "108/108 [==============================] - ETA: 0s - loss: 0.1180 - accuracy: 0.9632\n",
            "Epoch 00086: val_loss did not improve from 0.33502\n",
            "108/108 [==============================] - 42s 389ms/step - loss: 0.1180 - accuracy: 0.9632 - val_loss: 0.3689 - val_accuracy: 0.8894\n",
            "Epoch 87/100\n",
            "108/108 [==============================] - ETA: 0s - loss: 0.1303 - accuracy: 0.9568\n",
            "Epoch 00087: val_loss did not improve from 0.33502\n",
            "108/108 [==============================] - 42s 386ms/step - loss: 0.1303 - accuracy: 0.9568 - val_loss: 0.3359 - val_accuracy: 0.8870\n",
            "Epoch 88/100\n",
            "108/108 [==============================] - ETA: 0s - loss: 0.1121 - accuracy: 0.9694\n",
            "Epoch 00088: val_loss did not improve from 0.33502\n",
            "108/108 [==============================] - 40s 374ms/step - loss: 0.1121 - accuracy: 0.9694 - val_loss: 0.3775 - val_accuracy: 0.8846\n",
            "Epoch 89/100\n",
            "108/108 [==============================] - ETA: 0s - loss: 0.1201 - accuracy: 0.9623\n",
            "Epoch 00089: val_loss did not improve from 0.33502\n",
            "108/108 [==============================] - 40s 371ms/step - loss: 0.1201 - accuracy: 0.9623 - val_loss: 0.3557 - val_accuracy: 0.8798\n",
            "Epoch 90/100\n",
            "108/108 [==============================] - ETA: 0s - loss: 0.1269 - accuracy: 0.9577\n",
            "Epoch 00090: val_loss did not improve from 0.33502\n",
            "108/108 [==============================] - 41s 381ms/step - loss: 0.1269 - accuracy: 0.9577 - val_loss: 0.3739 - val_accuracy: 0.8822\n",
            "Epoch 91/100\n",
            "108/108 [==============================] - ETA: 0s - loss: 0.1139 - accuracy: 0.9647\n",
            "Epoch 00091: val_loss did not improve from 0.33502\n",
            "108/108 [==============================] - 43s 396ms/step - loss: 0.1139 - accuracy: 0.9647 - val_loss: 0.3375 - val_accuracy: 0.8942\n",
            "Epoch 92/100\n",
            "108/108 [==============================] - ETA: 0s - loss: 0.1066 - accuracy: 0.9679\n",
            "Epoch 00092: val_loss did not improve from 0.33502\n",
            "108/108 [==============================] - 43s 399ms/step - loss: 0.1066 - accuracy: 0.9679 - val_loss: 0.4255 - val_accuracy: 0.8798\n",
            "Epoch 93/100\n",
            "108/108 [==============================] - ETA: 0s - loss: 0.1193 - accuracy: 0.9606\n",
            "Epoch 00093: val_loss did not improve from 0.33502\n",
            "108/108 [==============================] - 43s 399ms/step - loss: 0.1193 - accuracy: 0.9606 - val_loss: 0.3632 - val_accuracy: 0.8894\n",
            "Epoch 94/100\n",
            "108/108 [==============================] - ETA: 0s - loss: 0.1097 - accuracy: 0.9670\n",
            "Epoch 00094: val_loss did not improve from 0.33502\n",
            "108/108 [==============================] - 43s 399ms/step - loss: 0.1097 - accuracy: 0.9670 - val_loss: 0.3613 - val_accuracy: 0.8846\n",
            "Epoch 95/100\n",
            "108/108 [==============================] - ETA: 0s - loss: 0.1129 - accuracy: 0.9638\n",
            "Epoch 00095: val_loss did not improve from 0.33502\n",
            "108/108 [==============================] - 43s 398ms/step - loss: 0.1129 - accuracy: 0.9638 - val_loss: 0.3627 - val_accuracy: 0.8870\n",
            "Epoch 96/100\n",
            "108/108 [==============================] - ETA: 0s - loss: 0.1251 - accuracy: 0.9553\n",
            "Epoch 00096: val_loss did not improve from 0.33502\n",
            "108/108 [==============================] - 43s 398ms/step - loss: 0.1251 - accuracy: 0.9553 - val_loss: 0.3606 - val_accuracy: 0.8798\n",
            "Epoch 97/100\n",
            "108/108 [==============================] - ETA: 0s - loss: 0.1131 - accuracy: 0.9658\n",
            "Epoch 00097: val_loss did not improve from 0.33502\n",
            "108/108 [==============================] - 43s 402ms/step - loss: 0.1131 - accuracy: 0.9658 - val_loss: 0.3695 - val_accuracy: 0.8918\n",
            "Epoch 98/100\n",
            "108/108 [==============================] - ETA: 0s - loss: 0.1031 - accuracy: 0.9661\n",
            "Epoch 00098: val_loss improved from 0.33502 to 0.31430, saving model to best_finetuned_model.hdf5\n",
            "108/108 [==============================] - 43s 401ms/step - loss: 0.1031 - accuracy: 0.9661 - val_loss: 0.3143 - val_accuracy: 0.9062\n",
            "Epoch 99/100\n",
            "108/108 [==============================] - ETA: 0s - loss: 0.0998 - accuracy: 0.9702\n",
            "Epoch 00099: val_loss did not improve from 0.31430\n",
            "108/108 [==============================] - 43s 400ms/step - loss: 0.0998 - accuracy: 0.9702 - val_loss: 0.4197 - val_accuracy: 0.8750\n",
            "Epoch 100/100\n",
            "108/108 [==============================] - ETA: 0s - loss: 0.1035 - accuracy: 0.9696\n",
            "Epoch 00100: val_loss did not improve from 0.31430\n",
            "108/108 [==============================] - 43s 399ms/step - loss: 0.1035 - accuracy: 0.9696 - val_loss: 0.3829 - val_accuracy: 0.8942\n"
          ],
          "name": "stdout"
        }
      ]
    },
    {
      "cell_type": "code",
      "metadata": {
        "id": "Y-DIcuDsbmGq",
        "colab_type": "code",
        "colab": {
          "base_uri": "https://localhost:8080/",
          "height": 68
        },
        "outputId": "f47fd34d-0261-4a84-fa54-63aabf88ee47"
      },
      "source": [
        "# ocena modelu\n",
        "model.load_weights(best_model_finetuned_path)  \n",
        "   \n",
        "(eval_loss, eval_accuracy) = model.evaluate(  \n",
        "     X_test, y_test, batch_size=batch_size, verbose=1)\n",
        "\n",
        "print(\"Accuracy: {:.2f}%\".format(eval_accuracy * 100))  \n",
        "print(\"Loss: {}\".format(eval_loss)) "
      ],
      "execution_count": null,
      "outputs": [
        {
          "output_type": "stream",
          "text": [
            "14/14 [==============================] - 2s 175ms/step - loss: 0.2411 - accuracy: 0.9190\n",
            "Accuracy: 91.90%\n",
            "Loss: 0.24110263586044312\n"
          ],
          "name": "stdout"
        }
      ]
    },
    {
      "cell_type": "code",
      "metadata": {
        "id": "RqQV9hPnYUEz",
        "colab_type": "code",
        "colab": {
          "base_uri": "https://localhost:8080/",
          "height": 34
        },
        "outputId": "d1ce8f21-ceec-4bbf-a0ea-6368737804f7"
      },
      "source": [
        "# zapisywanie modelu na komputer lokalnie\n",
        "from google.colab import files\n",
        "files.download('best_finetuned_model.hdf5') "
      ],
      "execution_count": null,
      "outputs": [
        {
          "output_type": "display_data",
          "data": {
            "application/javascript": [
              "\n",
              "    async function download(id, filename, size) {\n",
              "      if (!google.colab.kernel.accessAllowed) {\n",
              "        return;\n",
              "      }\n",
              "      const div = document.createElement('div');\n",
              "      const label = document.createElement('label');\n",
              "      label.textContent = `Downloading \"${filename}\": `;\n",
              "      div.appendChild(label);\n",
              "      const progress = document.createElement('progress');\n",
              "      progress.max = size;\n",
              "      div.appendChild(progress);\n",
              "      document.body.appendChild(div);\n",
              "\n",
              "      const buffers = [];\n",
              "      let downloaded = 0;\n",
              "\n",
              "      const channel = await google.colab.kernel.comms.open(id);\n",
              "      // Send a message to notify the kernel that we're ready.\n",
              "      channel.send({})\n",
              "\n",
              "      for await (const message of channel.messages) {\n",
              "        // Send a message to notify the kernel that we're ready.\n",
              "        channel.send({})\n",
              "        if (message.buffers) {\n",
              "          for (const buffer of message.buffers) {\n",
              "            buffers.push(buffer);\n",
              "            downloaded += buffer.byteLength;\n",
              "            progress.value = downloaded;\n",
              "          }\n",
              "        }\n",
              "      }\n",
              "      const blob = new Blob(buffers, {type: 'application/binary'});\n",
              "      const a = document.createElement('a');\n",
              "      a.href = window.URL.createObjectURL(blob);\n",
              "      a.download = filename;\n",
              "      div.appendChild(a);\n",
              "      a.click();\n",
              "      div.remove();\n",
              "    }\n",
              "  "
            ],
            "text/plain": [
              "<IPython.core.display.Javascript object>"
            ]
          },
          "metadata": {
            "tags": []
          }
        },
        {
          "output_type": "display_data",
          "data": {
            "application/javascript": [
              "download(\"download_dc6a2cd4-3f8e-4dd2-a10c-6f2ac0ac26b2\", \"best_finetuned_model.hdf5\", 87266192)"
            ],
            "text/plain": [
              "<IPython.core.display.Javascript object>"
            ]
          },
          "metadata": {
            "tags": []
          }
        }
      ]
    },
    {
      "cell_type": "code",
      "metadata": {
        "id": "szeI5cTifBK4",
        "colab_type": "code",
        "colab": {
          "resources": {
            "http://localhost:8080/nbextensions/google.colab/files.js": {
              "data": "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",
              "ok": true,
              "headers": [
                [
                  "content-type",
                  "application/javascript"
                ]
              ],
              "status": 200,
              "status_text": ""
            }
          },
          "base_uri": "https://localhost:8080/",
          "height": 72
        },
        "outputId": "e576b39a-0347-49ad-c34b-e774535b9d44"
      },
      "source": [
        "# sprawdzenie wczytania samego wytrenowanego modelu już z pliku \n",
        "from google.colab import files\n",
        "files.upload()"
      ],
      "execution_count": null,
      "outputs": [
        {
          "output_type": "display_data",
          "data": {
            "text/html": [
              "\n",
              "     <input type=\"file\" id=\"files-527daded-6558-4704-98ae-20fe63d65cf1\" name=\"files[]\" multiple disabled\n",
              "        style=\"border:none\" />\n",
              "     <output id=\"result-527daded-6558-4704-98ae-20fe63d65cf1\">\n",
              "      Upload widget is only available when the cell has been executed in the\n",
              "      current browser session. Please rerun this cell to enable.\n",
              "      </output>\n",
              "      <script src=\"/nbextensions/google.colab/files.js\"></script> "
            ],
            "text/plain": [
              "<IPython.core.display.HTML object>"
            ]
          },
          "metadata": {
            "tags": []
          }
        },
        {
          "output_type": "stream",
          "text": [
            "Saving best_finetuned_model_92.hdf5 to best_finetuned_model_92.hdf5\n"
          ],
          "name": "stdout"
        }
      ]
    },
    {
      "cell_type": "code",
      "metadata": {
        "id": "YGYZCRs6jccZ",
        "colab_type": "code",
        "colab": {}
      },
      "source": [
        "model = tf.keras.models.load_model('best_finetuned_model_92.hdf5')"
      ],
      "execution_count": null,
      "outputs": []
    }
  ]
}