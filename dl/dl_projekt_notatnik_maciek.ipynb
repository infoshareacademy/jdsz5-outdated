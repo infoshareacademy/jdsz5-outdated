{
  "nbformat": 4,
  "nbformat_minor": 0,
  "metadata": {
    "colab": {
      "name": "dl_projekt_notatnik_maciek.ipynb",
      "provenance": [],
      "collapsed_sections": []
    },
    "kernelspec": {
      "name": "python3",
      "display_name": "Python 3"
    },
    "accelerator": "GPU"
  },
  "cells": [
    {
      "cell_type": "code",
      "metadata": {
        "id": "KFNBJTRJO1OH",
        "colab_type": "code",
        "colab": {
          "base_uri": "https://localhost:8080/",
          "height": 92
        },
        "outputId": "6e245890-e391-48b0-ad72-e648f7cac5a0"
      },
      "source": [
        "import pandas as pd\n",
        "import seaborn as sns\n",
        "from tensorflow import keras\n",
        "import tensorflow as tf\n",
        "import numpy as np\n",
        "import matplotlib.pyplot as plt\n",
        "import os\n",
        "import sys\n",
        "from glob import glob\n",
        "from tensorflow.keras.layers import Input, Conv2D, Conv2DTranspose, MaxPooling2D, Concatenate, GlobalAveragePooling2D, Dense, Dropout, Flatten, Activation, BatchNormalization\n",
        "import cv2\n",
        "import pickle\n",
        "from scipy.ndimage import median_filter, convolve\n",
        "from sklearn.model_selection import train_test_split\n",
        "from tensorflow.keras.applications import VGG16\n",
        "from tensorflow.keras.models import Sequential, Model\n",
        "from sklearn.metrics import classification_report,confusion_matrix\n",
        "from keras.preprocessing.image import ImageDataGenerator\n",
        "from keras.preprocessing import image\n",
        "from keras.callbacks import ModelCheckpoint\n",
        "from keras import optimizers\n",
        "from keras import applications\n",
        "\n",
        "sys.version"
      ],
      "execution_count": 1,
      "outputs": [
        {
          "output_type": "stream",
          "text": [
            "/usr/local/lib/python3.6/dist-packages/statsmodels/tools/_testing.py:19: FutureWarning: pandas.util.testing is deprecated. Use the functions in the public API at pandas.testing instead.\n",
            "  import pandas.util.testing as tm\n"
          ],
          "name": "stderr"
        },
        {
          "output_type": "execute_result",
          "data": {
            "application/vnd.google.colaboratory.intrinsic+json": {
              "type": "string"
            },
            "text/plain": [
              "'3.6.9 (default, Jul 17 2020, 12:50:27) \\n[GCC 8.4.0]'"
            ]
          },
          "metadata": {
            "tags": []
          },
          "execution_count": 1
        }
      ]
    },
    {
      "cell_type": "code",
      "metadata": {
        "id": "LIrKQEZ6O-bd",
        "colab_type": "code",
        "colab": {
          "base_uri": "https://localhost:8080/",
          "height": 35
        },
        "outputId": "dd48d2bc-8d58-4b6e-ea24-b29cc2024d07"
      },
      "source": [
        "from google.colab import drive\n",
        "drive.mount('/content/drive')"
      ],
      "execution_count": 6,
      "outputs": [
        {
          "output_type": "stream",
          "text": [
            "Drive already mounted at /content/drive; to attempt to forcibly remount, call drive.mount(\"/content/drive\", force_remount=True).\n"
          ],
          "name": "stdout"
        }
      ]
    },
    {
      "cell_type": "code",
      "metadata": {
        "id": "1nZI7U-3ZrgY",
        "colab_type": "code",
        "colab": {}
      },
      "source": [
        "data_dir = \"/content/drive/My Drive/flowers\"\n",
        "\n",
        "categories = ['daisy', 'dandelion', 'rose', 'sunflower', 'tulip']"
      ],
      "execution_count": 7,
      "outputs": []
    },
    {
      "cell_type": "code",
      "metadata": {
        "id": "4_GBWVirZAH4",
        "colab_type": "code",
        "colab": {}
      },
      "source": [
        "# przygotowanie i zaczytanie danych\n",
        "data = []\n",
        "def make_data():\n",
        "    for category in categories:\n",
        "        path = os.path.join(data_dir, category)\n",
        "        label = categories.index(category)\n",
        "        \n",
        "        for img_name in os.listdir(path):\n",
        "            image_path = os.path.join(path, img_name)\n",
        "            image = cv2.imread(image_path)\n",
        "            \n",
        "            try:\n",
        "                image = cv2.cvtColor(image, cv2.COLOR_BGR2RGB)\n",
        "                image = cv2.resize(image, (224,224))\n",
        "                \n",
        "                image = np.array(image, dtype=np.float32)\n",
        "                \n",
        "                data.append([image, label])\n",
        "            except Exception as e:\n",
        "                pass\n",
        "    print(len(data))\n",
        "    \n",
        "    pik = open('data.pickle', 'wb')\n",
        "    pickle.dump(data,pik)\n",
        "    pik.close()"
      ],
      "execution_count": 9,
      "outputs": []
    },
    {
      "cell_type": "code",
      "metadata": {
        "id": "MNE6oRoMZ1db",
        "colab_type": "code",
        "colab": {
          "base_uri": "https://localhost:8080/",
          "height": 35
        },
        "outputId": "b1c8df6e-278c-4c3f-91f4-d621c6869899"
      },
      "source": [
        "make_data()"
      ],
      "execution_count": 10,
      "outputs": [
        {
          "output_type": "stream",
          "text": [
            "4323\n"
          ],
          "name": "stdout"
        }
      ]
    },
    {
      "cell_type": "code",
      "metadata": {
        "id": "Ar1sY6Gkftk9",
        "colab_type": "code",
        "colab": {}
      },
      "source": [
        "def load_data():\n",
        "    pick = open('data.pickle','rb')\n",
        "    data = pickle.load(pick)\n",
        "    pick.close()\n",
        "    \n",
        "    np.random.shuffle(data)\n",
        "    \n",
        "    feature = []\n",
        "    labels = []\n",
        "    \n",
        "    for img, label in data:\n",
        "        feature.append(img)\n",
        "        labels.append(label)\n",
        "        \n",
        "    feature = np.array(feature, dtype=np.float32)\n",
        "    labels = np.array(labels)\n",
        "    \n",
        "    feature = feature/255.0\n",
        "    \n",
        "    return [feature, labels]"
      ],
      "execution_count": 11,
      "outputs": []
    },
    {
      "cell_type": "code",
      "metadata": {
        "id": "JPpEV-M5UVfO",
        "colab_type": "code",
        "colab": {}
      },
      "source": [
        "(feature, labels) = load_data()"
      ],
      "execution_count": 12,
      "outputs": []
    },
    {
      "cell_type": "code",
      "metadata": {
        "id": "BFzC3JJJHUZX",
        "colab_type": "code",
        "colab": {}
      },
      "source": [
        "#preprocessing labelek \n",
        "from sklearn.preprocessing import LabelBinarizer\n",
        "label_binarizer = LabelBinarizer()\n",
        "labels = label_binarizer.fit_transform(labels)"
      ],
      "execution_count": 13,
      "outputs": []
    },
    {
      "cell_type": "code",
      "metadata": {
        "id": "bXIreIuXI4iI",
        "colab_type": "code",
        "colab": {}
      },
      "source": [
        "x_train, x_test, y_train, y_test = train_test_split (feature, labels, test_size = 0.2, random_state = 0)"
      ],
      "execution_count": 14,
      "outputs": []
    },
    {
      "cell_type": "code",
      "metadata": {
        "id": "KRWp0GsfICY-",
        "colab_type": "code",
        "colab": {}
      },
      "source": [
        "# dodatkowy podział danych testowych\n",
        "X_test,X_valid, y_test, y_valid = train_test_split(x_test,y_test, test_size = 0.5)"
      ],
      "execution_count": 15,
      "outputs": []
    },
    {
      "cell_type": "code",
      "metadata": {
        "id": "aGQgChCTWhVw",
        "colab_type": "code",
        "colab": {
          "base_uri": "https://localhost:8080/",
          "height": 928
        },
        "outputId": "f85556f6-c6bf-4269-9572-c9c5422a2e33"
      },
      "source": [
        "#MODEL VGG16 z wagami imagenet jako model bazowy\n",
        "#załadowanie modelu VGG16 bez ostatniej warstwy\n",
        "base_model = applications.VGG16(weights='imagenet', include_top=False)\n",
        "print('wczytano model!')\n",
        "\n",
        "# zamrożenie pierwszych warstw (nie będą trenowane)\n",
        "for layer in base_model.layers[:15]:\n",
        "    layer.trainable = False\n",
        "    \n",
        "base_model.summary()"
      ],
      "execution_count": 16,
      "outputs": [
        {
          "output_type": "stream",
          "text": [
            "Downloading data from https://storage.googleapis.com/tensorflow/keras-applications/vgg16/vgg16_weights_tf_dim_ordering_tf_kernels_notop.h5\n",
            "58892288/58889256 [==============================] - 1s 0us/step\n",
            "wczytano model!\n",
            "Model: \"vgg16\"\n",
            "_________________________________________________________________\n",
            "Layer (type)                 Output Shape              Param #   \n",
            "=================================================================\n",
            "input_1 (InputLayer)         [(None, None, None, 3)]   0         \n",
            "_________________________________________________________________\n",
            "block1_conv1 (Conv2D)        (None, None, None, 64)    1792      \n",
            "_________________________________________________________________\n",
            "block1_conv2 (Conv2D)        (None, None, None, 64)    36928     \n",
            "_________________________________________________________________\n",
            "block1_pool (MaxPooling2D)   (None, None, None, 64)    0         \n",
            "_________________________________________________________________\n",
            "block2_conv1 (Conv2D)        (None, None, None, 128)   73856     \n",
            "_________________________________________________________________\n",
            "block2_conv2 (Conv2D)        (None, None, None, 128)   147584    \n",
            "_________________________________________________________________\n",
            "block2_pool (MaxPooling2D)   (None, None, None, 128)   0         \n",
            "_________________________________________________________________\n",
            "block3_conv1 (Conv2D)        (None, None, None, 256)   295168    \n",
            "_________________________________________________________________\n",
            "block3_conv2 (Conv2D)        (None, None, None, 256)   590080    \n",
            "_________________________________________________________________\n",
            "block3_conv3 (Conv2D)        (None, None, None, 256)   590080    \n",
            "_________________________________________________________________\n",
            "block3_pool (MaxPooling2D)   (None, None, None, 256)   0         \n",
            "_________________________________________________________________\n",
            "block4_conv1 (Conv2D)        (None, None, None, 512)   1180160   \n",
            "_________________________________________________________________\n",
            "block4_conv2 (Conv2D)        (None, None, None, 512)   2359808   \n",
            "_________________________________________________________________\n",
            "block4_conv3 (Conv2D)        (None, None, None, 512)   2359808   \n",
            "_________________________________________________________________\n",
            "block4_pool (MaxPooling2D)   (None, None, None, 512)   0         \n",
            "_________________________________________________________________\n",
            "block5_conv1 (Conv2D)        (None, None, None, 512)   2359808   \n",
            "_________________________________________________________________\n",
            "block5_conv2 (Conv2D)        (None, None, None, 512)   2359808   \n",
            "_________________________________________________________________\n",
            "block5_conv3 (Conv2D)        (None, None, None, 512)   2359808   \n",
            "_________________________________________________________________\n",
            "block5_pool (MaxPooling2D)   (None, None, None, 512)   0         \n",
            "=================================================================\n",
            "Total params: 14,714,688\n",
            "Trainable params: 7,079,424\n",
            "Non-trainable params: 7,635,264\n",
            "_________________________________________________________________\n"
          ],
          "name": "stdout"
        }
      ]
    },
    {
      "cell_type": "code",
      "metadata": {
        "id": "QyBFtctgXpGQ",
        "colab_type": "code",
        "colab": {
          "base_uri": "https://localhost:8080/",
          "height": 235
        },
        "outputId": "500762be-5052-4d36-d348-1cb0c4f3009c"
      },
      "source": [
        "# top_model dodawany do modelu bazowego \n",
        "top_model = Sequential()\n",
        "top_model.add(GlobalAveragePooling2D(input_shape=base_model.output_shape[1:]))\n",
        "top_model.add(Dense(5, activation='softmax')) \n",
        "top_model.summary()"
      ],
      "execution_count": 17,
      "outputs": [
        {
          "output_type": "stream",
          "text": [
            "Model: \"sequential\"\n",
            "_________________________________________________________________\n",
            "Layer (type)                 Output Shape              Param #   \n",
            "=================================================================\n",
            "global_average_pooling2d (Gl (None, 512)               0         \n",
            "_________________________________________________________________\n",
            "dense (Dense)                (None, 5)                 2565      \n",
            "=================================================================\n",
            "Total params: 2,565\n",
            "Trainable params: 2,565\n",
            "Non-trainable params: 0\n",
            "_________________________________________________________________\n"
          ],
          "name": "stdout"
        }
      ]
    },
    {
      "cell_type": "code",
      "metadata": {
        "id": "OVYz9KVtXsAl",
        "colab_type": "code",
        "colab": {
          "base_uri": "https://localhost:8080/",
          "height": 235
        },
        "outputId": "f2a76f25-d482-42a8-af52-af47eef8c4b4"
      },
      "source": [
        "# Połączenie modeli base i top\n",
        "model = Sequential()\n",
        "model.add(base_model)\n",
        "model.add(top_model)\n",
        "model.summary()\n",
        "\n",
        "model.compile(loss='categorical_crossentropy',\n",
        "              optimizer=optimizers.SGD(lr=1e-4, momentum=0.9),\n",
        "              metrics=['accuracy'])"
      ],
      "execution_count": 18,
      "outputs": [
        {
          "output_type": "stream",
          "text": [
            "Model: \"sequential_1\"\n",
            "_________________________________________________________________\n",
            "Layer (type)                 Output Shape              Param #   \n",
            "=================================================================\n",
            "vgg16 (Functional)           (None, None, None, 512)   14714688  \n",
            "_________________________________________________________________\n",
            "sequential (Sequential)      (None, 5)                 2565      \n",
            "=================================================================\n",
            "Total params: 14,717,253\n",
            "Trainable params: 7,081,989\n",
            "Non-trainable params: 7,635,264\n",
            "_________________________________________________________________\n"
          ],
          "name": "stdout"
        }
      ]
    },
    {
      "cell_type": "code",
      "metadata": {
        "id": "OHUjmfp6Xxhe",
        "colab_type": "code",
        "colab": {
          "base_uri": "https://localhost:8080/",
          "height": 1000
        },
        "outputId": "d052415f-4733-4999-8711-808c7cdf06b6"
      },
      "source": [
        "# Trenowanie modelu z użyciem generatorów na 100 epokach\n",
        "epochs = 100\n",
        "batch_size=32\n",
        "best_model_finetuned_path = 'best_finetuned_model.hdf5'\n",
        "\n",
        "train_datagen = ImageDataGenerator(\n",
        "    shear_range=0.2,\n",
        "    zoom_range=0.2,\n",
        "    horizontal_flip=True)\n",
        "\n",
        "test_datagen = ImageDataGenerator()\n",
        "\n",
        "train_generator = train_datagen.flow(\n",
        "    x_train, y_train,\n",
        "    batch_size=batch_size)\n",
        "\n",
        "validation_generator = test_datagen.flow(\n",
        "    X_valid,y_valid,\n",
        "    batch_size=batch_size)\n",
        "\n",
        "checkpointer = ModelCheckpoint(best_model_finetuned_path,save_best_only = True,verbose = 1)\n",
        "\n",
        "history = model.fit_generator(\n",
        "    train_generator,\n",
        "    steps_per_epoch=len(x_train) // batch_size,\n",
        "    epochs= epochs,\n",
        "    validation_data=validation_generator,\n",
        "    validation_steps=len(X_valid) // batch_size,\n",
        "    callbacks=[checkpointer])"
      ],
      "execution_count": 19,
      "outputs": [
        {
          "output_type": "stream",
          "text": [
            "WARNING:tensorflow:From <ipython-input-19-d8eb34a2cb55>:29: Model.fit_generator (from tensorflow.python.keras.engine.training) is deprecated and will be removed in a future version.\n",
            "Instructions for updating:\n",
            "Please use Model.fit, which supports generators.\n",
            "Epoch 1/100\n",
            "108/108 [==============================] - ETA: 0s - loss: 1.4956 - accuracy: 0.3876\n",
            "Epoch 00001: val_loss improved from inf to 1.36478, saving model to best_finetuned_model.hdf5\n",
            "108/108 [==============================] - 41s 375ms/step - loss: 1.4956 - accuracy: 0.3876 - val_loss: 1.3648 - val_accuracy: 0.5553\n",
            "Epoch 2/100\n",
            "108/108 [==============================] - ETA: 0s - loss: 1.2185 - accuracy: 0.5788\n",
            "Epoch 00002: val_loss improved from 1.36478 to 1.07008, saving model to best_finetuned_model.hdf5\n",
            "108/108 [==============================] - 42s 390ms/step - loss: 1.2185 - accuracy: 0.5788 - val_loss: 1.0701 - val_accuracy: 0.6490\n",
            "Epoch 3/100\n",
            "108/108 [==============================] - ETA: 0s - loss: 0.9630 - accuracy: 0.6730\n",
            "Epoch 00003: val_loss improved from 1.07008 to 0.87176, saving model to best_finetuned_model.hdf5\n",
            "108/108 [==============================] - 41s 383ms/step - loss: 0.9630 - accuracy: 0.6730 - val_loss: 0.8718 - val_accuracy: 0.6947\n",
            "Epoch 4/100\n",
            "108/108 [==============================] - ETA: 0s - loss: 0.7982 - accuracy: 0.7242\n",
            "Epoch 00004: val_loss improved from 0.87176 to 0.75624, saving model to best_finetuned_model.hdf5\n",
            "108/108 [==============================] - 41s 384ms/step - loss: 0.7982 - accuracy: 0.7242 - val_loss: 0.7562 - val_accuracy: 0.7284\n",
            "Epoch 5/100\n",
            "108/108 [==============================] - ETA: 0s - loss: 0.7066 - accuracy: 0.7475\n",
            "Epoch 00005: val_loss improved from 0.75624 to 0.72339, saving model to best_finetuned_model.hdf5\n",
            "108/108 [==============================] - 40s 374ms/step - loss: 0.7066 - accuracy: 0.7475 - val_loss: 0.7234 - val_accuracy: 0.7476\n",
            "Epoch 6/100\n",
            "108/108 [==============================] - ETA: 0s - loss: 0.6445 - accuracy: 0.7633\n",
            "Epoch 00006: val_loss improved from 0.72339 to 0.68090, saving model to best_finetuned_model.hdf5\n",
            "108/108 [==============================] - 42s 385ms/step - loss: 0.6445 - accuracy: 0.7633 - val_loss: 0.6809 - val_accuracy: 0.7476\n",
            "Epoch 7/100\n",
            "108/108 [==============================] - ETA: 0s - loss: 0.6021 - accuracy: 0.7849\n",
            "Epoch 00007: val_loss improved from 0.68090 to 0.65965, saving model to best_finetuned_model.hdf5\n",
            "108/108 [==============================] - 43s 394ms/step - loss: 0.6021 - accuracy: 0.7849 - val_loss: 0.6597 - val_accuracy: 0.7620\n",
            "Epoch 8/100\n",
            "108/108 [==============================] - ETA: 0s - loss: 0.5656 - accuracy: 0.8062\n",
            "Epoch 00008: val_loss improved from 0.65965 to 0.57446, saving model to best_finetuned_model.hdf5\n",
            "108/108 [==============================] - 42s 386ms/step - loss: 0.5656 - accuracy: 0.8062 - val_loss: 0.5745 - val_accuracy: 0.8341\n",
            "Epoch 9/100\n",
            "108/108 [==============================] - ETA: 0s - loss: 0.5434 - accuracy: 0.8085\n",
            "Epoch 00009: val_loss improved from 0.57446 to 0.56631, saving model to best_finetuned_model.hdf5\n",
            "108/108 [==============================] - 42s 391ms/step - loss: 0.5434 - accuracy: 0.8085 - val_loss: 0.5663 - val_accuracy: 0.7885\n",
            "Epoch 10/100\n",
            "108/108 [==============================] - ETA: 0s - loss: 0.5145 - accuracy: 0.8167\n",
            "Epoch 00010: val_loss did not improve from 0.56631\n",
            "108/108 [==============================] - 42s 386ms/step - loss: 0.5145 - accuracy: 0.8167 - val_loss: 0.5818 - val_accuracy: 0.7981\n",
            "Epoch 11/100\n",
            "108/108 [==============================] - ETA: 0s - loss: 0.4966 - accuracy: 0.8249\n",
            "Epoch 00011: val_loss improved from 0.56631 to 0.51387, saving model to best_finetuned_model.hdf5\n",
            "108/108 [==============================] - 42s 392ms/step - loss: 0.4966 - accuracy: 0.8249 - val_loss: 0.5139 - val_accuracy: 0.8389\n",
            "Epoch 12/100\n",
            "108/108 [==============================] - ETA: 0s - loss: 0.4666 - accuracy: 0.8307\n",
            "Epoch 00012: val_loss did not improve from 0.51387\n",
            "108/108 [==============================] - 41s 382ms/step - loss: 0.4666 - accuracy: 0.8307 - val_loss: 0.5257 - val_accuracy: 0.8197\n",
            "Epoch 13/100\n",
            "108/108 [==============================] - ETA: 0s - loss: 0.4684 - accuracy: 0.8351\n",
            "Epoch 00013: val_loss improved from 0.51387 to 0.51205, saving model to best_finetuned_model.hdf5\n",
            "108/108 [==============================] - 42s 386ms/step - loss: 0.4684 - accuracy: 0.8351 - val_loss: 0.5120 - val_accuracy: 0.8438\n",
            "Epoch 14/100\n",
            "108/108 [==============================] - ETA: 0s - loss: 0.4429 - accuracy: 0.8450\n",
            "Epoch 00014: val_loss did not improve from 0.51205\n",
            "108/108 [==============================] - 41s 381ms/step - loss: 0.4429 - accuracy: 0.8450 - val_loss: 0.5371 - val_accuracy: 0.8341\n",
            "Epoch 15/100\n",
            "108/108 [==============================] - ETA: 0s - loss: 0.4299 - accuracy: 0.8441\n",
            "Epoch 00015: val_loss improved from 0.51205 to 0.49776, saving model to best_finetuned_model.hdf5\n",
            "108/108 [==============================] - 41s 383ms/step - loss: 0.4299 - accuracy: 0.8441 - val_loss: 0.4978 - val_accuracy: 0.8341\n",
            "Epoch 16/100\n",
            "108/108 [==============================] - ETA: 0s - loss: 0.4112 - accuracy: 0.8532\n",
            "Epoch 00016: val_loss improved from 0.49776 to 0.48404, saving model to best_finetuned_model.hdf5\n",
            "108/108 [==============================] - 42s 385ms/step - loss: 0.4112 - accuracy: 0.8532 - val_loss: 0.4840 - val_accuracy: 0.8389\n",
            "Epoch 17/100\n",
            "108/108 [==============================] - ETA: 0s - loss: 0.4134 - accuracy: 0.8523\n",
            "Epoch 00017: val_loss improved from 0.48404 to 0.44430, saving model to best_finetuned_model.hdf5\n",
            "108/108 [==============================] - 42s 387ms/step - loss: 0.4134 - accuracy: 0.8523 - val_loss: 0.4443 - val_accuracy: 0.8413\n",
            "Epoch 18/100\n",
            "108/108 [==============================] - ETA: 0s - loss: 0.3894 - accuracy: 0.8651\n",
            "Epoch 00018: val_loss did not improve from 0.44430\n",
            "108/108 [==============================] - 41s 381ms/step - loss: 0.3894 - accuracy: 0.8651 - val_loss: 0.4557 - val_accuracy: 0.8462\n",
            "Epoch 19/100\n",
            "108/108 [==============================] - ETA: 0s - loss: 0.3920 - accuracy: 0.8602\n",
            "Epoch 00019: val_loss improved from 0.44430 to 0.43379, saving model to best_finetuned_model.hdf5\n",
            "108/108 [==============================] - 41s 381ms/step - loss: 0.3920 - accuracy: 0.8602 - val_loss: 0.4338 - val_accuracy: 0.8654\n",
            "Epoch 20/100\n",
            "108/108 [==============================] - ETA: 0s - loss: 0.3781 - accuracy: 0.8643\n",
            "Epoch 00020: val_loss did not improve from 0.43379\n",
            "108/108 [==============================] - 41s 377ms/step - loss: 0.3781 - accuracy: 0.8643 - val_loss: 0.4591 - val_accuracy: 0.8534\n",
            "Epoch 21/100\n",
            "108/108 [==============================] - ETA: 0s - loss: 0.3757 - accuracy: 0.8637\n",
            "Epoch 00021: val_loss did not improve from 0.43379\n",
            "108/108 [==============================] - 41s 381ms/step - loss: 0.3757 - accuracy: 0.8637 - val_loss: 0.4397 - val_accuracy: 0.8558\n",
            "Epoch 22/100\n",
            "108/108 [==============================] - ETA: 0s - loss: 0.3566 - accuracy: 0.8730\n",
            "Epoch 00022: val_loss improved from 0.43379 to 0.41059, saving model to best_finetuned_model.hdf5\n",
            "108/108 [==============================] - 41s 384ms/step - loss: 0.3566 - accuracy: 0.8730 - val_loss: 0.4106 - val_accuracy: 0.8702\n",
            "Epoch 23/100\n",
            "108/108 [==============================] - ETA: 0s - loss: 0.3613 - accuracy: 0.8724\n",
            "Epoch 00023: val_loss did not improve from 0.41059\n",
            "108/108 [==============================] - 41s 381ms/step - loss: 0.3613 - accuracy: 0.8724 - val_loss: 0.4306 - val_accuracy: 0.8582\n",
            "Epoch 24/100\n",
            "108/108 [==============================] - ETA: 0s - loss: 0.3430 - accuracy: 0.8780\n",
            "Epoch 00024: val_loss did not improve from 0.41059\n",
            "108/108 [==============================] - 41s 380ms/step - loss: 0.3430 - accuracy: 0.8780 - val_loss: 0.4497 - val_accuracy: 0.8534\n",
            "Epoch 25/100\n",
            "108/108 [==============================] - ETA: 0s - loss: 0.3430 - accuracy: 0.8765\n",
            "Epoch 00025: val_loss did not improve from 0.41059\n",
            "108/108 [==============================] - 41s 381ms/step - loss: 0.3430 - accuracy: 0.8765 - val_loss: 0.4676 - val_accuracy: 0.8389\n",
            "Epoch 26/100\n",
            "108/108 [==============================] - ETA: 0s - loss: 0.3406 - accuracy: 0.8733\n",
            "Epoch 00026: val_loss did not improve from 0.41059\n",
            "108/108 [==============================] - 41s 377ms/step - loss: 0.3406 - accuracy: 0.8733 - val_loss: 0.4416 - val_accuracy: 0.8438\n",
            "Epoch 27/100\n",
            "108/108 [==============================] - ETA: 0s - loss: 0.3222 - accuracy: 0.8911\n",
            "Epoch 00027: val_loss improved from 0.41059 to 0.41011, saving model to best_finetuned_model.hdf5\n",
            "108/108 [==============================] - 41s 377ms/step - loss: 0.3222 - accuracy: 0.8911 - val_loss: 0.4101 - val_accuracy: 0.8822\n",
            "Epoch 28/100\n",
            "108/108 [==============================] - ETA: 0s - loss: 0.3177 - accuracy: 0.8850\n",
            "Epoch 00028: val_loss did not improve from 0.41011\n",
            "108/108 [==============================] - 40s 374ms/step - loss: 0.3177 - accuracy: 0.8850 - val_loss: 0.4117 - val_accuracy: 0.8678\n",
            "Epoch 29/100\n",
            "108/108 [==============================] - ETA: 0s - loss: 0.3124 - accuracy: 0.8905\n",
            "Epoch 00029: val_loss did not improve from 0.41011\n",
            "108/108 [==============================] - 40s 374ms/step - loss: 0.3124 - accuracy: 0.8905 - val_loss: 0.4123 - val_accuracy: 0.8726\n",
            "Epoch 30/100\n",
            "108/108 [==============================] - ETA: 0s - loss: 0.3038 - accuracy: 0.8873\n",
            "Epoch 00030: val_loss improved from 0.41011 to 0.40893, saving model to best_finetuned_model.hdf5\n",
            "108/108 [==============================] - 41s 378ms/step - loss: 0.3038 - accuracy: 0.8873 - val_loss: 0.4089 - val_accuracy: 0.8702\n",
            "Epoch 31/100\n",
            "108/108 [==============================] - ETA: 0s - loss: 0.3017 - accuracy: 0.8929\n",
            "Epoch 00031: val_loss did not improve from 0.40893\n",
            "108/108 [==============================] - 41s 379ms/step - loss: 0.3017 - accuracy: 0.8929 - val_loss: 0.4291 - val_accuracy: 0.8582\n",
            "Epoch 32/100\n",
            "108/108 [==============================] - ETA: 0s - loss: 0.3234 - accuracy: 0.8853\n",
            "Epoch 00032: val_loss improved from 0.40893 to 0.38753, saving model to best_finetuned_model.hdf5\n",
            "108/108 [==============================] - 41s 380ms/step - loss: 0.3234 - accuracy: 0.8853 - val_loss: 0.3875 - val_accuracy: 0.8726\n",
            "Epoch 33/100\n",
            "108/108 [==============================] - ETA: 0s - loss: 0.2842 - accuracy: 0.8996\n",
            "Epoch 00033: val_loss improved from 0.38753 to 0.38371, saving model to best_finetuned_model.hdf5\n",
            "108/108 [==============================] - 41s 378ms/step - loss: 0.2842 - accuracy: 0.8996 - val_loss: 0.3837 - val_accuracy: 0.8870\n",
            "Epoch 34/100\n",
            "108/108 [==============================] - ETA: 0s - loss: 0.2792 - accuracy: 0.9028\n",
            "Epoch 00034: val_loss improved from 0.38371 to 0.37887, saving model to best_finetuned_model.hdf5\n",
            "108/108 [==============================] - 41s 380ms/step - loss: 0.2792 - accuracy: 0.9028 - val_loss: 0.3789 - val_accuracy: 0.8750\n",
            "Epoch 35/100\n",
            "108/108 [==============================] - ETA: 0s - loss: 0.2739 - accuracy: 0.9019\n",
            "Epoch 00035: val_loss improved from 0.37887 to 0.37128, saving model to best_finetuned_model.hdf5\n",
            "108/108 [==============================] - 41s 383ms/step - loss: 0.2739 - accuracy: 0.9019 - val_loss: 0.3713 - val_accuracy: 0.8798\n",
            "Epoch 36/100\n",
            "108/108 [==============================] - ETA: 0s - loss: 0.2837 - accuracy: 0.9005\n",
            "Epoch 00036: val_loss did not improve from 0.37128\n",
            "108/108 [==============================] - 41s 379ms/step - loss: 0.2837 - accuracy: 0.9005 - val_loss: 0.4036 - val_accuracy: 0.8702\n",
            "Epoch 37/100\n",
            "108/108 [==============================] - ETA: 0s - loss: 0.2674 - accuracy: 0.9046\n",
            "Epoch 00037: val_loss improved from 0.37128 to 0.36956, saving model to best_finetuned_model.hdf5\n",
            "108/108 [==============================] - 41s 381ms/step - loss: 0.2674 - accuracy: 0.9046 - val_loss: 0.3696 - val_accuracy: 0.8798\n",
            "Epoch 38/100\n",
            "108/108 [==============================] - ETA: 0s - loss: 0.2747 - accuracy: 0.9054\n",
            "Epoch 00038: val_loss did not improve from 0.36956\n",
            "108/108 [==============================] - 41s 378ms/step - loss: 0.2747 - accuracy: 0.9054 - val_loss: 0.3852 - val_accuracy: 0.8774\n",
            "Epoch 39/100\n",
            "108/108 [==============================] - ETA: 0s - loss: 0.2619 - accuracy: 0.9083\n",
            "Epoch 00039: val_loss improved from 0.36956 to 0.36263, saving model to best_finetuned_model.hdf5\n",
            "108/108 [==============================] - 41s 379ms/step - loss: 0.2619 - accuracy: 0.9083 - val_loss: 0.3626 - val_accuracy: 0.8894\n",
            "Epoch 40/100\n",
            "108/108 [==============================] - ETA: 0s - loss: 0.2551 - accuracy: 0.9116\n",
            "Epoch 00040: val_loss did not improve from 0.36263\n",
            "108/108 [==============================] - 41s 375ms/step - loss: 0.2551 - accuracy: 0.9116 - val_loss: 0.4478 - val_accuracy: 0.8462\n",
            "Epoch 41/100\n",
            "108/108 [==============================] - ETA: 0s - loss: 0.2649 - accuracy: 0.9019\n",
            "Epoch 00041: val_loss did not improve from 0.36263\n",
            "108/108 [==============================] - 40s 374ms/step - loss: 0.2649 - accuracy: 0.9019 - val_loss: 0.3678 - val_accuracy: 0.8870\n",
            "Epoch 42/100\n",
            "108/108 [==============================] - ETA: 0s - loss: 0.2481 - accuracy: 0.9148\n",
            "Epoch 00042: val_loss did not improve from 0.36263\n",
            "108/108 [==============================] - 41s 378ms/step - loss: 0.2481 - accuracy: 0.9148 - val_loss: 0.3788 - val_accuracy: 0.8822\n",
            "Epoch 43/100\n",
            "108/108 [==============================] - ETA: 0s - loss: 0.2728 - accuracy: 0.9031\n",
            "Epoch 00043: val_loss did not improve from 0.36263\n",
            "108/108 [==============================] - 41s 378ms/step - loss: 0.2728 - accuracy: 0.9031 - val_loss: 0.3811 - val_accuracy: 0.8822\n",
            "Epoch 44/100\n",
            "108/108 [==============================] - ETA: 0s - loss: 0.2396 - accuracy: 0.9189\n",
            "Epoch 00044: val_loss did not improve from 0.36263\n",
            "108/108 [==============================] - 41s 378ms/step - loss: 0.2396 - accuracy: 0.9189 - val_loss: 0.3894 - val_accuracy: 0.8798\n",
            "Epoch 45/100\n",
            "108/108 [==============================] - ETA: 0s - loss: 0.2295 - accuracy: 0.9168\n",
            "Epoch 00045: val_loss did not improve from 0.36263\n",
            "108/108 [==============================] - 41s 377ms/step - loss: 0.2295 - accuracy: 0.9168 - val_loss: 0.4534 - val_accuracy: 0.8462\n",
            "Epoch 46/100\n",
            "108/108 [==============================] - ETA: 0s - loss: 0.2304 - accuracy: 0.9212\n",
            "Epoch 00046: val_loss did not improve from 0.36263\n",
            "108/108 [==============================] - 41s 379ms/step - loss: 0.2304 - accuracy: 0.9212 - val_loss: 0.4139 - val_accuracy: 0.8558\n",
            "Epoch 47/100\n",
            "108/108 [==============================] - ETA: 0s - loss: 0.2256 - accuracy: 0.9177\n",
            "Epoch 00047: val_loss did not improve from 0.36263\n",
            "108/108 [==============================] - 40s 374ms/step - loss: 0.2256 - accuracy: 0.9177 - val_loss: 0.3677 - val_accuracy: 0.8966\n",
            "Epoch 48/100\n",
            "108/108 [==============================] - ETA: 0s - loss: 0.2262 - accuracy: 0.9218\n",
            "Epoch 00048: val_loss did not improve from 0.36263\n",
            "108/108 [==============================] - 40s 375ms/step - loss: 0.2262 - accuracy: 0.9218 - val_loss: 0.3817 - val_accuracy: 0.8846\n",
            "Epoch 49/100\n",
            "108/108 [==============================] - ETA: 0s - loss: 0.2159 - accuracy: 0.9244\n",
            "Epoch 00049: val_loss did not improve from 0.36263\n",
            "108/108 [==============================] - 40s 374ms/step - loss: 0.2159 - accuracy: 0.9244 - val_loss: 0.4159 - val_accuracy: 0.8606\n",
            "Epoch 50/100\n",
            "108/108 [==============================] - ETA: 0s - loss: 0.2171 - accuracy: 0.9218\n",
            "Epoch 00050: val_loss improved from 0.36263 to 0.36240, saving model to best_finetuned_model.hdf5\n",
            "108/108 [==============================] - 41s 377ms/step - loss: 0.2171 - accuracy: 0.9218 - val_loss: 0.3624 - val_accuracy: 0.8894\n",
            "Epoch 51/100\n",
            "108/108 [==============================] - ETA: 0s - loss: 0.2128 - accuracy: 0.9270\n",
            "Epoch 00051: val_loss did not improve from 0.36240\n",
            "108/108 [==============================] - 40s 372ms/step - loss: 0.2128 - accuracy: 0.9270 - val_loss: 0.3735 - val_accuracy: 0.8918\n",
            "Epoch 52/100\n",
            "108/108 [==============================] - ETA: 0s - loss: 0.2104 - accuracy: 0.9267\n",
            "Epoch 00052: val_loss did not improve from 0.36240\n",
            "108/108 [==============================] - 41s 377ms/step - loss: 0.2104 - accuracy: 0.9267 - val_loss: 0.3880 - val_accuracy: 0.8750\n",
            "Epoch 53/100\n",
            "108/108 [==============================] - ETA: 0s - loss: 0.1991 - accuracy: 0.9317\n",
            "Epoch 00053: val_loss did not improve from 0.36240\n",
            "108/108 [==============================] - 41s 376ms/step - loss: 0.1991 - accuracy: 0.9317 - val_loss: 0.3826 - val_accuracy: 0.8918\n",
            "Epoch 54/100\n",
            "108/108 [==============================] - ETA: 0s - loss: 0.2053 - accuracy: 0.9267\n",
            "Epoch 00054: val_loss did not improve from 0.36240\n",
            "108/108 [==============================] - 41s 377ms/step - loss: 0.2053 - accuracy: 0.9267 - val_loss: 0.3938 - val_accuracy: 0.8702\n",
            "Epoch 55/100\n",
            "108/108 [==============================] - ETA: 0s - loss: 0.1992 - accuracy: 0.9285\n",
            "Epoch 00055: val_loss did not improve from 0.36240\n",
            "108/108 [==============================] - 41s 377ms/step - loss: 0.1992 - accuracy: 0.9285 - val_loss: 0.3809 - val_accuracy: 0.8798\n",
            "Epoch 56/100\n",
            "108/108 [==============================] - ETA: 0s - loss: 0.1988 - accuracy: 0.9323\n",
            "Epoch 00056: val_loss improved from 0.36240 to 0.34639, saving model to best_finetuned_model.hdf5\n",
            "108/108 [==============================] - 41s 379ms/step - loss: 0.1988 - accuracy: 0.9323 - val_loss: 0.3464 - val_accuracy: 0.8966\n",
            "Epoch 57/100\n",
            "108/108 [==============================] - ETA: 0s - loss: 0.1998 - accuracy: 0.9311\n",
            "Epoch 00057: val_loss did not improve from 0.34639\n",
            "108/108 [==============================] - 40s 373ms/step - loss: 0.1998 - accuracy: 0.9311 - val_loss: 0.4145 - val_accuracy: 0.8750\n",
            "Epoch 58/100\n",
            "108/108 [==============================] - ETA: 0s - loss: 0.1935 - accuracy: 0.9299\n",
            "Epoch 00058: val_loss did not improve from 0.34639\n",
            "108/108 [==============================] - 41s 377ms/step - loss: 0.1935 - accuracy: 0.9299 - val_loss: 0.3734 - val_accuracy: 0.9014\n",
            "Epoch 59/100\n",
            "108/108 [==============================] - ETA: 0s - loss: 0.2256 - accuracy: 0.9189\n",
            "Epoch 00059: val_loss did not improve from 0.34639\n",
            "108/108 [==============================] - 41s 376ms/step - loss: 0.2256 - accuracy: 0.9189 - val_loss: 0.3923 - val_accuracy: 0.8726\n",
            "Epoch 60/100\n",
            "108/108 [==============================] - ETA: 0s - loss: 0.1888 - accuracy: 0.9343\n",
            "Epoch 00060: val_loss did not improve from 0.34639\n",
            "108/108 [==============================] - 41s 377ms/step - loss: 0.1888 - accuracy: 0.9343 - val_loss: 0.4094 - val_accuracy: 0.8726\n",
            "Epoch 61/100\n",
            "108/108 [==============================] - ETA: 0s - loss: 0.1826 - accuracy: 0.9393\n",
            "Epoch 00061: val_loss did not improve from 0.34639\n",
            "108/108 [==============================] - 41s 378ms/step - loss: 0.1826 - accuracy: 0.9393 - val_loss: 0.3718 - val_accuracy: 0.8774\n",
            "Epoch 62/100\n",
            "108/108 [==============================] - ETA: 0s - loss: 0.1866 - accuracy: 0.9349\n",
            "Epoch 00062: val_loss did not improve from 0.34639\n",
            "108/108 [==============================] - 41s 376ms/step - loss: 0.1866 - accuracy: 0.9349 - val_loss: 0.3604 - val_accuracy: 0.8918\n",
            "Epoch 63/100\n",
            "108/108 [==============================] - ETA: 0s - loss: 0.1731 - accuracy: 0.9416\n",
            "Epoch 00063: val_loss did not improve from 0.34639\n",
            "108/108 [==============================] - 40s 372ms/step - loss: 0.1731 - accuracy: 0.9416 - val_loss: 0.3616 - val_accuracy: 0.8918\n",
            "Epoch 64/100\n",
            "108/108 [==============================] - ETA: 0s - loss: 0.1788 - accuracy: 0.9393\n",
            "Epoch 00064: val_loss did not improve from 0.34639\n",
            "108/108 [==============================] - 40s 375ms/step - loss: 0.1788 - accuracy: 0.9393 - val_loss: 0.3591 - val_accuracy: 0.8894\n",
            "Epoch 65/100\n",
            "108/108 [==============================] - ETA: 0s - loss: 0.1671 - accuracy: 0.9466\n",
            "Epoch 00065: val_loss did not improve from 0.34639\n",
            "108/108 [==============================] - 40s 374ms/step - loss: 0.1671 - accuracy: 0.9466 - val_loss: 0.3544 - val_accuracy: 0.8966\n",
            "Epoch 66/100\n",
            "108/108 [==============================] - ETA: 0s - loss: 0.1627 - accuracy: 0.9469\n",
            "Epoch 00066: val_loss improved from 0.34639 to 0.33657, saving model to best_finetuned_model.hdf5\n",
            "108/108 [==============================] - 41s 376ms/step - loss: 0.1627 - accuracy: 0.9469 - val_loss: 0.3366 - val_accuracy: 0.9062\n",
            "Epoch 67/100\n",
            "108/108 [==============================] - ETA: 0s - loss: 0.1570 - accuracy: 0.9451\n",
            "Epoch 00067: val_loss did not improve from 0.33657\n",
            "108/108 [==============================] - 40s 374ms/step - loss: 0.1570 - accuracy: 0.9451 - val_loss: 0.3740 - val_accuracy: 0.8870\n",
            "Epoch 68/100\n",
            "108/108 [==============================] - ETA: 0s - loss: 0.1666 - accuracy: 0.9428\n",
            "Epoch 00068: val_loss did not improve from 0.33657\n",
            "108/108 [==============================] - 40s 372ms/step - loss: 0.1666 - accuracy: 0.9428 - val_loss: 0.3998 - val_accuracy: 0.8774\n",
            "Epoch 69/100\n",
            "108/108 [==============================] - ETA: 0s - loss: 0.1668 - accuracy: 0.9434\n",
            "Epoch 00069: val_loss did not improve from 0.33657\n",
            "108/108 [==============================] - 40s 374ms/step - loss: 0.1668 - accuracy: 0.9434 - val_loss: 0.3707 - val_accuracy: 0.8942\n",
            "Epoch 70/100\n",
            "108/108 [==============================] - ETA: 0s - loss: 0.1700 - accuracy: 0.9410\n",
            "Epoch 00070: val_loss did not improve from 0.33657\n",
            "108/108 [==============================] - 40s 373ms/step - loss: 0.1700 - accuracy: 0.9410 - val_loss: 0.3537 - val_accuracy: 0.9038\n",
            "Epoch 71/100\n",
            "108/108 [==============================] - ETA: 0s - loss: 0.1595 - accuracy: 0.9445\n",
            "Epoch 00071: val_loss did not improve from 0.33657\n",
            "108/108 [==============================] - 40s 374ms/step - loss: 0.1595 - accuracy: 0.9445 - val_loss: 0.3658 - val_accuracy: 0.8918\n",
            "Epoch 72/100\n",
            "108/108 [==============================] - ETA: 0s - loss: 0.1497 - accuracy: 0.9513\n",
            "Epoch 00072: val_loss did not improve from 0.33657\n",
            "108/108 [==============================] - 40s 372ms/step - loss: 0.1497 - accuracy: 0.9513 - val_loss: 0.3778 - val_accuracy: 0.8846\n",
            "Epoch 73/100\n",
            "108/108 [==============================] - ETA: 0s - loss: 0.1581 - accuracy: 0.9495\n",
            "Epoch 00073: val_loss did not improve from 0.33657\n",
            "108/108 [==============================] - 40s 373ms/step - loss: 0.1581 - accuracy: 0.9495 - val_loss: 0.3814 - val_accuracy: 0.8894\n",
            "Epoch 74/100\n",
            "108/108 [==============================] - ETA: 0s - loss: 0.1502 - accuracy: 0.9489\n",
            "Epoch 00074: val_loss did not improve from 0.33657\n",
            "108/108 [==============================] - 40s 374ms/step - loss: 0.1502 - accuracy: 0.9489 - val_loss: 0.3932 - val_accuracy: 0.8846\n",
            "Epoch 75/100\n",
            "108/108 [==============================] - ETA: 0s - loss: 0.1586 - accuracy: 0.9478\n",
            "Epoch 00075: val_loss did not improve from 0.33657\n",
            "108/108 [==============================] - 40s 371ms/step - loss: 0.1586 - accuracy: 0.9478 - val_loss: 0.3755 - val_accuracy: 0.8822\n",
            "Epoch 76/100\n",
            "108/108 [==============================] - ETA: 0s - loss: 0.1412 - accuracy: 0.9568\n",
            "Epoch 00076: val_loss did not improve from 0.33657\n",
            "108/108 [==============================] - 40s 373ms/step - loss: 0.1412 - accuracy: 0.9568 - val_loss: 0.4094 - val_accuracy: 0.8678\n",
            "Epoch 77/100\n",
            "108/108 [==============================] - ETA: 0s - loss: 0.1498 - accuracy: 0.9521\n",
            "Epoch 00077: val_loss did not improve from 0.33657\n",
            "108/108 [==============================] - 40s 372ms/step - loss: 0.1498 - accuracy: 0.9521 - val_loss: 0.3588 - val_accuracy: 0.8990\n",
            "Epoch 78/100\n",
            "108/108 [==============================] - ETA: 0s - loss: 0.1441 - accuracy: 0.9513\n",
            "Epoch 00078: val_loss did not improve from 0.33657\n",
            "108/108 [==============================] - 40s 370ms/step - loss: 0.1441 - accuracy: 0.9513 - val_loss: 0.3557 - val_accuracy: 0.8990\n",
            "Epoch 79/100\n",
            "108/108 [==============================] - ETA: 0s - loss: 0.1390 - accuracy: 0.9530\n",
            "Epoch 00079: val_loss did not improve from 0.33657\n",
            "108/108 [==============================] - 40s 369ms/step - loss: 0.1390 - accuracy: 0.9530 - val_loss: 0.4053 - val_accuracy: 0.8726\n",
            "Epoch 80/100\n",
            "108/108 [==============================] - ETA: 0s - loss: 0.1389 - accuracy: 0.9559\n",
            "Epoch 00080: val_loss did not improve from 0.33657\n",
            "108/108 [==============================] - 40s 370ms/step - loss: 0.1389 - accuracy: 0.9559 - val_loss: 0.3659 - val_accuracy: 0.8918\n",
            "Epoch 81/100\n",
            "108/108 [==============================] - ETA: 0s - loss: 0.1299 - accuracy: 0.9597\n",
            "Epoch 00081: val_loss did not improve from 0.33657\n",
            "108/108 [==============================] - 40s 371ms/step - loss: 0.1299 - accuracy: 0.9597 - val_loss: 0.3684 - val_accuracy: 0.9014\n",
            "Epoch 82/100\n",
            "108/108 [==============================] - ETA: 0s - loss: 0.1356 - accuracy: 0.9527\n",
            "Epoch 00082: val_loss did not improve from 0.33657\n",
            "108/108 [==============================] - 40s 371ms/step - loss: 0.1356 - accuracy: 0.9527 - val_loss: 0.3750 - val_accuracy: 0.8894\n",
            "Epoch 83/100\n",
            "108/108 [==============================] - ETA: 0s - loss: 0.1319 - accuracy: 0.9527\n",
            "Epoch 00083: val_loss did not improve from 0.33657\n",
            "108/108 [==============================] - 40s 370ms/step - loss: 0.1319 - accuracy: 0.9527 - val_loss: 0.4006 - val_accuracy: 0.8750\n",
            "Epoch 84/100\n",
            "108/108 [==============================] - ETA: 0s - loss: 0.1313 - accuracy: 0.9597\n",
            "Epoch 00084: val_loss did not improve from 0.33657\n",
            "108/108 [==============================] - 40s 371ms/step - loss: 0.1313 - accuracy: 0.9597 - val_loss: 0.3847 - val_accuracy: 0.8822\n",
            "Epoch 85/100\n",
            "108/108 [==============================] - ETA: 0s - loss: 0.1266 - accuracy: 0.9580\n",
            "Epoch 00085: val_loss did not improve from 0.33657\n",
            "108/108 [==============================] - 40s 369ms/step - loss: 0.1266 - accuracy: 0.9580 - val_loss: 0.3893 - val_accuracy: 0.8846\n",
            "Epoch 86/100\n",
            "108/108 [==============================] - ETA: 0s - loss: 0.1244 - accuracy: 0.9615\n",
            "Epoch 00086: val_loss did not improve from 0.33657\n",
            "108/108 [==============================] - 40s 371ms/step - loss: 0.1244 - accuracy: 0.9615 - val_loss: 0.3767 - val_accuracy: 0.8918\n",
            "Epoch 87/100\n",
            "108/108 [==============================] - ETA: 0s - loss: 0.1301 - accuracy: 0.9591\n",
            "Epoch 00087: val_loss did not improve from 0.33657\n",
            "108/108 [==============================] - 40s 371ms/step - loss: 0.1301 - accuracy: 0.9591 - val_loss: 0.3696 - val_accuracy: 0.8870\n",
            "Epoch 88/100\n",
            "108/108 [==============================] - ETA: 0s - loss: 0.1180 - accuracy: 0.9667\n",
            "Epoch 00088: val_loss did not improve from 0.33657\n",
            "108/108 [==============================] - 40s 370ms/step - loss: 0.1180 - accuracy: 0.9667 - val_loss: 0.4012 - val_accuracy: 0.8774\n",
            "Epoch 89/100\n",
            "108/108 [==============================] - ETA: 0s - loss: 0.1538 - accuracy: 0.9513\n",
            "Epoch 00089: val_loss did not improve from 0.33657\n",
            "108/108 [==============================] - 40s 375ms/step - loss: 0.1538 - accuracy: 0.9513 - val_loss: 0.3393 - val_accuracy: 0.9062\n",
            "Epoch 90/100\n",
            "108/108 [==============================] - ETA: 0s - loss: 0.1226 - accuracy: 0.9565\n",
            "Epoch 00090: val_loss did not improve from 0.33657\n",
            "108/108 [==============================] - 41s 376ms/step - loss: 0.1226 - accuracy: 0.9565 - val_loss: 0.3601 - val_accuracy: 0.8966\n",
            "Epoch 91/100\n",
            "108/108 [==============================] - ETA: 0s - loss: 0.1177 - accuracy: 0.9615\n",
            "Epoch 00091: val_loss did not improve from 0.33657\n",
            "108/108 [==============================] - 40s 375ms/step - loss: 0.1177 - accuracy: 0.9615 - val_loss: 0.3590 - val_accuracy: 0.9014\n",
            "Epoch 92/100\n",
            "108/108 [==============================] - ETA: 0s - loss: 0.1116 - accuracy: 0.9653\n",
            "Epoch 00092: val_loss did not improve from 0.33657\n",
            "108/108 [==============================] - 41s 376ms/step - loss: 0.1116 - accuracy: 0.9653 - val_loss: 0.3740 - val_accuracy: 0.8942\n",
            "Epoch 93/100\n",
            "108/108 [==============================] - ETA: 0s - loss: 0.1077 - accuracy: 0.9638\n",
            "Epoch 00093: val_loss did not improve from 0.33657\n",
            "108/108 [==============================] - 41s 377ms/step - loss: 0.1077 - accuracy: 0.9638 - val_loss: 0.4109 - val_accuracy: 0.8870\n",
            "Epoch 94/100\n",
            "108/108 [==============================] - ETA: 0s - loss: 0.1082 - accuracy: 0.9661\n",
            "Epoch 00094: val_loss did not improve from 0.33657\n",
            "108/108 [==============================] - 40s 372ms/step - loss: 0.1082 - accuracy: 0.9661 - val_loss: 0.3865 - val_accuracy: 0.8894\n",
            "Epoch 95/100\n",
            "108/108 [==============================] - ETA: 0s - loss: 0.1101 - accuracy: 0.9626\n",
            "Epoch 00095: val_loss did not improve from 0.33657\n",
            "108/108 [==============================] - 40s 374ms/step - loss: 0.1101 - accuracy: 0.9626 - val_loss: 0.3487 - val_accuracy: 0.9087\n",
            "Epoch 96/100\n",
            "108/108 [==============================] - ETA: 0s - loss: 0.1147 - accuracy: 0.9626\n",
            "Epoch 00096: val_loss did not improve from 0.33657\n",
            "108/108 [==============================] - 40s 373ms/step - loss: 0.1147 - accuracy: 0.9626 - val_loss: 0.3889 - val_accuracy: 0.8942\n",
            "Epoch 97/100\n",
            "108/108 [==============================] - ETA: 0s - loss: 0.1182 - accuracy: 0.9586\n",
            "Epoch 00097: val_loss did not improve from 0.33657\n",
            "108/108 [==============================] - 40s 374ms/step - loss: 0.1182 - accuracy: 0.9586 - val_loss: 0.4001 - val_accuracy: 0.8846\n",
            "Epoch 98/100\n",
            "108/108 [==============================] - ETA: 0s - loss: 0.1084 - accuracy: 0.9667\n",
            "Epoch 00098: val_loss did not improve from 0.33657\n",
            "108/108 [==============================] - 40s 373ms/step - loss: 0.1084 - accuracy: 0.9667 - val_loss: 0.4713 - val_accuracy: 0.8654\n",
            "Epoch 99/100\n",
            "108/108 [==============================] - ETA: 0s - loss: 0.0979 - accuracy: 0.9696\n",
            "Epoch 00099: val_loss did not improve from 0.33657\n",
            "108/108 [==============================] - 41s 379ms/step - loss: 0.0979 - accuracy: 0.9696 - val_loss: 0.3982 - val_accuracy: 0.8870\n",
            "Epoch 100/100\n",
            "107/108 [============================>.] - ETA: 0s - loss: 0.0944 - accuracy: 0.9749\n",
            "Epoch 00100: val_loss did not improve from 0.33657\n",
            "108/108 [==============================] - 41s 377ms/step - loss: 0.0947 - accuracy: 0.9746 - val_loss: 0.4210 - val_accuracy: 0.8774\n"
          ],
          "name": "stdout"
        }
      ]
    },
    {
      "cell_type": "code",
      "metadata": {
        "id": "QQEXIr9vjg5O",
        "colab_type": "code",
        "colab": {
          "base_uri": "https://localhost:8080/",
          "height": 295
        },
        "outputId": "0c787bd5-20eb-4098-a11e-5a8268dcb008"
      },
      "source": [
        "#wykres zmian wartości loss, accuracy poprzez epoki\n",
        "plt.plot(history.history[\"loss\"], label = 'Loss') \n",
        "plt.plot(history.history['accuracy'], label = 'Accuracy')\n",
        "plt.ylim(0, 1)\n",
        "plt.legend(loc = 'lower left')\n",
        "plt.title(\"Loss/ accuracy per epochs\")\n",
        "plt.ylabel('Loss/ accuracy values')\n",
        "plt.xlabel('Epochs')\n",
        "plt.show()"
      ],
      "execution_count": 43,
      "outputs": [
        {
          "output_type": "display_data",
          "data": {
            "image/png": "[encoded data removed]",
            "text/plain": [
              "<Figure size 432x288 with 1 Axes>"
            ]
          },
          "metadata": {
            "tags": [],
            "needs_background": "light"
          }
        }
      ]
    },
    {
      "cell_type": "code",
      "metadata": {
        "id": "B9E-2koAlMqA",
        "colab_type": "code",
        "colab": {
          "base_uri": "https://localhost:8080/",
          "height": 295
        },
        "outputId": "ef4a6375-70ff-484e-9361-392b39899d05"
      },
      "source": [
        "#wykres zmian wartości loss, accuracy  poprzez epoki\n",
        "plt.plot(history.history[\"val_loss\"], label = 'Validation Loss') \n",
        "plt.plot(history.history['val_accuracy'], label = 'Validation Accuracy')\n",
        "plt.ylim(0, 1)\n",
        "plt.legend(loc = 'lower left')\n",
        "plt.title(\"Validation Loss/ Accuracy per epochs\")\n",
        "plt.ylabel('Validation Loss/ Accuracy values')\n",
        "plt.xlabel('Epochs')\n",
        "plt.show()"
      ],
      "execution_count": 44,
      "outputs": [
        {
          "output_type": "display_data",
          "data": {
            "image/png": "[encoded data removed]",
            "text/plain": [
              "<Figure size 432x288 with 1 Axes>"
            ]
          },
          "metadata": {
            "tags": [],
            "needs_background": "light"
          }
        }
      ]
    },
    {
      "cell_type": "code",
      "metadata": {
        "id": "8oVoEnPejlPk",
        "colab_type": "code",
        "colab": {
          "base_uri": "https://localhost:8080/",
          "height": 35
        },
        "outputId": "32053229-6460-4929-a27c-c0a8b38803bd"
      },
      "source": [
        "history.history.keys()"
      ],
      "execution_count": 28,
      "outputs": [
        {
          "output_type": "execute_result",
          "data": {
            "text/plain": [
              "dict_keys(['loss', 'accuracy', 'val_loss', 'val_accuracy'])"
            ]
          },
          "metadata": {
            "tags": []
          },
          "execution_count": 28
        }
      ]
    },
    {
      "cell_type": "code",
      "metadata": {
        "id": "Y-DIcuDsbmGq",
        "colab_type": "code",
        "colab": {
          "base_uri": "https://localhost:8080/",
          "height": 72
        },
        "outputId": "8dcd2c4e-cd9d-49db-c4ce-7632cb11d374"
      },
      "source": [
        "# ocena modelu\n",
        "model.load_weights(best_model_finetuned_path)  \n",
        "   \n",
        "(eval_loss, eval_accuracy) = model.evaluate(  \n",
        "     X_test, y_test, batch_size=batch_size, verbose=1)\n",
        "\n",
        "print(\"Accuracy: {:.2f}%\".format(eval_accuracy * 100))  \n",
        "print(\"Loss: {}\".format(eval_loss)) "
      ],
      "execution_count": 20,
      "outputs": [
        {
          "output_type": "stream",
          "text": [
            "14/14 [==============================] - 3s 184ms/step - loss: 0.4153 - accuracy: 0.8657\n",
            "Accuracy: 86.57%\n",
            "Loss: 0.4152967631816864\n"
          ],
          "name": "stdout"
        }
      ]
    },
    {
      "cell_type": "code",
      "metadata": {
        "id": "RqQV9hPnYUEz",
        "colab_type": "code",
        "colab": {
          "base_uri": "https://localhost:8080/",
          "height": 17
        },
        "outputId": "a328d7b1-b49a-4cfb-c006-1d5352a75b17"
      },
      "source": [
        "# zapisywanie modelu na komputer lokalnie\n",
        "from google.colab import files\n",
        "files.download('best_finetuned_model.hdf5') "
      ],
      "execution_count": 24,
      "outputs": [
        {
          "output_type": "display_data",
          "data": {
            "application/javascript": [
              "\n",
              "    async function download(id, filename, size) {\n",
              "      if (!google.colab.kernel.accessAllowed) {\n",
              "        return;\n",
              "      }\n",
              "      const div = document.createElement('div');\n",
              "      const label = document.createElement('label');\n",
              "      label.textContent = `Downloading \"${filename}\": `;\n",
              "      div.appendChild(label);\n",
              "      const progress = document.createElement('progress');\n",
              "      progress.max = size;\n",
              "      div.appendChild(progress);\n",
              "      document.body.appendChild(div);\n",
              "\n",
              "      const buffers = [];\n",
              "      let downloaded = 0;\n",
              "\n",
              "      const channel = await google.colab.kernel.comms.open(id);\n",
              "      // Send a message to notify the kernel that we're ready.\n",
              "      channel.send({})\n",
              "\n",
              "      for await (const message of channel.messages) {\n",
              "        // Send a message to notify the kernel that we're ready.\n",
              "        channel.send({})\n",
              "        if (message.buffers) {\n",
              "          for (const buffer of message.buffers) {\n",
              "            buffers.push(buffer);\n",
              "            downloaded += buffer.byteLength;\n",
              "            progress.value = downloaded;\n",
              "          }\n",
              "        }\n",
              "      }\n",
              "      const blob = new Blob(buffers, {type: 'application/binary'});\n",
              "      const a = document.createElement('a');\n",
              "      a.href = window.URL.createObjectURL(blob);\n",
              "      a.download = filename;\n",
              "      div.appendChild(a);\n",
              "      a.click();\n",
              "      div.remove();\n",
              "    }\n",
              "  "
            ],
            "text/plain": [
              "<IPython.core.display.Javascript object>"
            ]
          },
          "metadata": {
            "tags": []
          }
        },
        {
          "output_type": "display_data",
          "data": {
            "application/javascript": [
              "download(\"download_c21208ff-aabc-497d-96bf-a31b50c2d0c9\", \"best_finetuned_model.hdf5\", 87266192)"
            ],
            "text/plain": [
              "<IPython.core.display.Javascript object>"
            ]
          },
          "metadata": {
            "tags": []
          }
        }
      ]
    },
    {
      "cell_type": "code",
      "metadata": {
        "id": "szeI5cTifBK4",
        "colab_type": "code",
        "colab": {
          "resources": {
            "http://localhost:8080/nbextensions/google.colab/files.js": {
              "data": "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",
              "ok": true,
              "headers": [
                [
                  "content-type",
                  "application/javascript"
                ]
              ],
              "status": 200,
              "status_text": ""
            }
          },
          "base_uri": "https://localhost:8080/",
          "height": 55
        },
        "outputId": "97cf0a2d-da52-4ea3-a0ba-23553fc167ad"
      },
      "source": [
        "# sprawdzenie wczytania samego wytrenowanego modelu już z pliku \n",
        "from google.colab import files\n",
        "files.upload()"
      ],
      "execution_count": 23,
      "outputs": [
        {
          "output_type": "display_data",
          "data": {
            "text/html": [
              "\n",
              "     <input type=\"file\" id=\"files-e2a3b7a1-3944-4317-b2e9-49bb9d3d486d\" name=\"files[]\" multiple disabled\n",
              "        style=\"border:none\" />\n",
              "     <output id=\"result-e2a3b7a1-3944-4317-b2e9-49bb9d3d486d\">\n",
              "      Upload widget is only available when the cell has been executed in the\n",
              "      current browser session. Please rerun this cell to enable.\n",
              "      </output>\n",
              "      <script src=\"/nbextensions/google.colab/files.js\"></script> "
            ],
            "text/plain": [
              "<IPython.core.display.HTML object>"
            ]
          },
          "metadata": {
            "tags": []
          }
        },
        {
          "output_type": "execute_result",
          "data": {
            "text/plain": [
              "{}"
            ]
          },
          "metadata": {
            "tags": []
          },
          "execution_count": 23
        }
      ]
    },
    {
      "cell_type": "code",
      "metadata": {
        "id": "YGYZCRs6jccZ",
        "colab_type": "code",
        "colab": {}
      },
      "source": [
        "model = tf.keras.models.load_model('best_finetuned_model_92.hdf5')"
      ],
      "execution_count": null,
      "outputs": []
    },
    {
      "cell_type": "code",
      "metadata": {
        "id": "8l4Eh3vx1eJq",
        "colab_type": "code",
        "colab": {}
      },
      "source": [
        "print(\"Loss of the model is - \" , model.evaluate(x_test,y_test)[0])\n",
        "print(\"Accuracy of the model is - \" , model.evaluate(x_test,y_test)[1]*100 , \"%\")"
      ],
      "execution_count": null,
      "outputs": []
    },
    {
      "cell_type": "code",
      "metadata": {
        "id": "lqSXwCpFkQaK",
        "colab_type": "code",
        "colab": {}
      },
      "source": [
        "predictions = model.predict_classes(x_test)"
      ],
      "execution_count": null,
      "outputs": []
    },
    {
      "cell_type": "code",
      "metadata": {
        "id": "R-W-YuxgkYT6",
        "colab_type": "code",
        "colab": {}
      },
      "source": [
        "y_test_inv = label_binarizer.inverse_transform(y_test)"
      ],
      "execution_count": null,
      "outputs": []
    },
    {
      "cell_type": "code",
      "metadata": {
        "id": "YhwmPG-0mJhO",
        "colab_type": "code",
        "colab": {}
      },
      "source": [
        "# Classification Report\n",
        "print(classification_report(y_test_inv, predictions, target_names = categories))"
      ],
      "execution_count": null,
      "outputs": []
    },
    {
      "cell_type": "code",
      "metadata": {
        "id": "FRw19wUAm5f3",
        "colab_type": "code",
        "colab": {}
      },
      "source": [
        "#Confusion Matrix\n",
        "cm = confusion_matrix(y_test_inv,predictions)\n",
        "cm"
      ],
      "execution_count": null,
      "outputs": []
    },
    {
      "cell_type": "code",
      "metadata": {
        "id": "31RFVC-mm9yI",
        "colab_type": "code",
        "colab": {}
      },
      "source": [
        "cm = pd.DataFrame(cm , index = categories , columns = categories)"
      ],
      "execution_count": null,
      "outputs": []
    },
    {
      "cell_type": "code",
      "metadata": {
        "id": "Rs4k5OEMnWFW",
        "colab_type": "code",
        "colab": {}
      },
      "source": [
        "#Heatmapa Confusion Matrix\n",
        "plt.figure(figsize = (15,15))\n",
        "sns.heatmap(cm,cmap= \"Blues\", linecolor = 'black' , linewidth = 1 , annot = True, fmt='' , xticklabels = categories , yticklabels = categories)"
      ],
      "execution_count": null,
      "outputs": []
    },
    {
      "cell_type": "code",
      "metadata": {
        "id": "VTEnSlGNpW1k",
        "colab_type": "code",
        "colab": {}
      },
      "source": [
        "# przygotowanie do wizualizacji predykcji\n",
        "i=0\n",
        "prop_class=[]\n",
        "mis_class=[]\n",
        "\n",
        "for i in range(len(y_test_inv)):\n",
        "    if(y_test_inv[i] == predictions[i]):\n",
        "        prop_class.append(i)\n",
        "    if(len(prop_class)==8):\n",
        "        break\n",
        "\n",
        "i=0\n",
        "for i in range(len(y_test_inv)):\n",
        "    if(y_test_inv[i] != predictions[i]):\n",
        "        mis_class.append(i)\n",
        "    if(len(mis_class)==8):\n",
        "        break"
      ],
      "execution_count": null,
      "outputs": []
    },
    {
      "cell_type": "code",
      "metadata": {
        "id": "f1Iv_MZ3pbIG",
        "colab_type": "code",
        "colab": {}
      },
      "source": [
        "#Prawidłowe predykcje\n",
        "count=0\n",
        "fig,ax=plt.subplots(4,2)\n",
        "fig.set_size_inches(15,15)\n",
        "for i in range (4):\n",
        "    for j in range (2):\n",
        "        ax[i,j].imshow(x_test[prop_class[count]])\n",
        "        ax[i,j].set_title(\"Predicted Flower : \"+ categories[predictions[prop_class[count]]] +\"\\n\"+\"Actual Flower : \"+ categories[y_test_inv[prop_class[count]]])\n",
        "        plt.tight_layout()\n",
        "        count+=1"
      ],
      "execution_count": null,
      "outputs": []
    },
    {
      "cell_type": "code",
      "metadata": {
        "id": "impuF-0cp63O",
        "colab_type": "code",
        "colab": {}
      },
      "source": [
        "# Błędne predykcje\n",
        "count=0\n",
        "fig,ax=plt.subplots(4,2)\n",
        "fig.set_size_inches(15,15)\n",
        "for i in range (4):\n",
        "    for j in range (2):\n",
        "        ax[i,j].imshow(x_test[mis_class[count]])\n",
        "        ax[i,j].set_title(\"Predicted Flower : \"+categories[predictions[mis_class[count]]]+\"\\n\"+\"Actual Flower : \"+categories[y_test_inv[mis_class[count]]])\n",
        "        plt.tight_layout()\n",
        "        count+=1"
      ],
      "execution_count": null,
      "outputs": []
    },
    {
      "cell_type": "code",
      "metadata": {
        "id": "cFJeDB0vJCGs",
        "colab_type": "code",
        "colab": {}
      },
      "source": [
        "# załadowanie obrazka z dysku\n",
        "from google.colab import files\n",
        "files.upload()"
      ],
      "execution_count": null,
      "outputs": []
    },
    {
      "cell_type": "code",
      "metadata": {
        "id": "CvYVcwiiUc66",
        "colab_type": "code",
        "colab": {}
      },
      "source": [
        "# wczytanie obrazka z internetu\n",
        "!wget https://4gift.pl/media/catalog/product/cache/1/thumbnail/600x/9df78eab33525d08d6e5fb8d27136e95/t/u/tulip-zaparzaczka-do-herbaty6.jpg"
      ],
      "execution_count": null,
      "outputs": []
    },
    {
      "cell_type": "code",
      "metadata": {
        "id": "QoGVZElEJNMZ",
        "colab_type": "code",
        "colab": {}
      },
      "source": [
        "# przerobienie obrazka\n",
        "def load_image(img_path, show=False):\n",
        "\n",
        "    img = image.load_img(img_path, target_size=(224, 224))\n",
        "    img_tensor = image.img_to_array(img)                   \n",
        "    img_tensor = np.expand_dims(img_tensor, axis=0)        \n",
        "    img_tensor /= 255.                                      \n",
        "\n",
        "    if show:\n",
        "        plt.imshow(img_tensor[0])                           \n",
        "        plt.axis('off')\n",
        "        plt.show()\n",
        "\n",
        "    return img_tensor"
      ],
      "execution_count": null,
      "outputs": []
    },
    {
      "cell_type": "code",
      "metadata": {
        "id": "_ZV9Y-5xJYQQ",
        "colab_type": "code",
        "colab": {}
      },
      "source": [
        "#  załadowanie obrazka i sprawdzenie predykcji\n",
        "img_path = 'tulip-zaparzaczka-do-herbaty6.jpg'\n",
        "new_image = load_image(img_path)\n",
        "img = cv2.imread('tulip-zaparzaczka-do-herbaty6.jpg')\n",
        "img = cv2.cvtColor(img, cv2.COLOR_BGR2RGB)\n",
        "plt.imshow(img)\n",
        "pred = model.predict(new_image)\n",
        "print(pred.argmax())\n",
        "print (categories[pred.argmax()])"
      ],
      "execution_count": null,
      "outputs": []
    }
  ]
}