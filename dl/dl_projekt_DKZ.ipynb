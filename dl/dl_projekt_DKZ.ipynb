{
  "nbformat": 4,
  "nbformat_minor": 0,
  "metadata": {
    "colab": {
      "name": "dl_projekt_DKZ",
      "provenance": [],
      "collapsed_sections": []
    },
    "kernelspec": {
      "name": "python3",
      "display_name": "Python 3"
    },
    "accelerator": "GPU"
  },
  "cells": [
    {
      "cell_type": "code",
      "metadata": {
        "id": "KFNBJTRJO1OH",
        "colab_type": "code",
        "colab": {}
      },
      "source": [
        "from tensorflow import keras\n",
        "import tensorflow as tf\n",
        "import numpy as np\n",
        "import matplotlib.pyplot as plt\n",
        "import os\n",
        "from glob import glob\n",
        "from tensorflow.keras.layers import *\n",
        "import cv2\n",
        "import pickle\n",
        "from scipy.ndimage import median_filter, convolve\n",
        "from sklearn.model_selection import train_test_split\n",
        "from sklearn.metrics import confusion_matrix\n",
        "import sklearn\n",
        "\n",
        "from keras.models import *\n",
        "from keras.layers import *\n",
        "from keras.optimizers import *\n",
        "from keras.callbacks import ModelCheckpoint, LearningRateScheduler\n",
        "from keras import backend as keras\n"
      ],
      "execution_count": null,
      "outputs": []
    },
    {
      "cell_type": "code",
      "metadata": {
        "id": "LIrKQEZ6O-bd",
        "colab_type": "code",
        "colab": {
          "base_uri": "https://localhost:8080/",
          "height": 125
        },
        "outputId": "3ab430f8-e543-4704-84f4-7204305f481c"
      },
      "source": [
        "from google.colab import drive\n",
        "drive.mount('/content/drive')"
      ],
      "execution_count": null,
      "outputs": [
        {
          "output_type": "stream",
          "text": [
            "Go to this URL in a browser: https://accounts.google.com/o/oauth2/auth?client_id=947318989803-6bn6qk8qdgf4n4g3pfee6491hc0brc4i.apps.googleusercontent.com&redirect_uri=urn%3aietf%3awg%3aoauth%3a2.0%3aoob&scope=email%20https%3a%2f%2fwww.googleapis.com%2fauth%2fdocs.test%20https%3a%2f%2fwww.googleapis.com%2fauth%2fdrive%20https%3a%2f%2fwww.googleapis.com%2fauth%2fdrive.photos.readonly%20https%3a%2f%2fwww.googleapis.com%2fauth%2fpeopleapi.readonly&response_type=code\n",
            "\n",
            "Enter your authorization code:\n",
            "··········\n",
            "Mounted at /content/drive\n"
          ],
          "name": "stdout"
        }
      ]
    },
    {
      "cell_type": "code",
      "metadata": {
        "id": "hqVIAB8DO-vM",
        "colab_type": "code",
        "colab": {
          "base_uri": "https://localhost:8080/",
          "height": 34
        },
        "outputId": "070f7347-85b3-481c-c6c3-edae638202c1"
      },
      "source": [
        "ls '/content/drive/My Drive/flowers/'"
      ],
      "execution_count": null,
      "outputs": [
        {
          "output_type": "stream",
          "text": [
            "\u001b[0m\u001b[01;34mdaisy\u001b[0m/  \u001b[01;34mdandelion\u001b[0m/  \u001b[01;34mflowers\u001b[0m/  \u001b[01;34mrose\u001b[0m/  \u001b[01;34msunflower\u001b[0m/  \u001b[01;34mtulip\u001b[0m/\n"
          ],
          "name": "stdout"
        }
      ]
    },
    {
      "cell_type": "code",
      "metadata": {
        "id": "1nZI7U-3ZrgY",
        "colab_type": "code",
        "colab": {}
      },
      "source": [
        "data_dir = \"/content/drive/My Drive/flowers\"\n",
        "\n",
        "categories = ['daisy', 'dandelion', 'rose', 'sunflower', 'tulip']"
      ],
      "execution_count": null,
      "outputs": []
    },
    {
      "cell_type": "code",
      "metadata": {
        "id": "4_GBWVirZAH4",
        "colab_type": "code",
        "colab": {}
      },
      "source": [
        "data = []\n",
        "def make_data():\n",
        "    for category in categories:\n",
        "        path = os.path.join(data_dir, category)\n",
        "        label = categories.index(category)\n",
        "        \n",
        "        for img_name in os.listdir(path):\n",
        "            image_path = os.path.join(path, img_name)\n",
        "            image = cv2.imread(image_path)\n",
        "            \n",
        "            try:\n",
        "                image = cv2.cvtColor(image, cv2.COLOR_BGR2RGB)\n",
        "                image = cv2.resize(image, (224,224))\n",
        "                \n",
        "                image = np.array(image, dtype=np.float32)\n",
        "                \n",
        "                data.append([image, label])\n",
        "            except Exception as e:\n",
        "                pass\n",
        "    print(len(data))\n",
        "    \n",
        "    pik = open('data.pickle', 'wb')\n",
        "    pickle.dump(data,pik)\n",
        "    pik.close()"
      ],
      "execution_count": null,
      "outputs": []
    },
    {
      "cell_type": "code",
      "metadata": {
        "id": "Hmvf1Z8yLiVR",
        "colab_type": "code",
        "colab": {
          "base_uri": "https://localhost:8080/",
          "height": 34
        },
        "outputId": "ad85346b-835b-4c5d-d102-5a4a90612740"
      },
      "source": [
        "make_data()"
      ],
      "execution_count": null,
      "outputs": [
        {
          "output_type": "stream",
          "text": [
            "4346\n"
          ],
          "name": "stdout"
        }
      ]
    },
    {
      "cell_type": "code",
      "metadata": {
        "id": "Ar1sY6Gkftk9",
        "colab_type": "code",
        "colab": {}
      },
      "source": [
        "def load_data():\n",
        "    pick = open('data.pickle','rb')\n",
        "    data = pickle.load(pick)\n",
        "    pick.close()\n",
        "    \n",
        "    np.random.shuffle(data)\n",
        "    \n",
        "    feature = []\n",
        "    labels = []\n",
        "    \n",
        "    for img, label in data:\n",
        "        feature.append(img)\n",
        "        labels.append(label)\n",
        "        \n",
        "    feature = np.array(feature, dtype=np.float32)\n",
        "    labels = np.array(labels)\n",
        "    \n",
        "    feature = feature/255.0\n",
        "    \n",
        "    return [feature, labels]"
      ],
      "execution_count": null,
      "outputs": []
    },
    {
      "cell_type": "code",
      "metadata": {
        "id": "O4HaXjO_Z1n_",
        "colab_type": "code",
        "colab": {}
      },
      "source": [
        "(feature, labels) = load_data()"
      ],
      "execution_count": null,
      "outputs": []
    },
    {
      "cell_type": "code",
      "metadata": {
        "id": "PJw7bQ9oj4oZ",
        "colab_type": "code",
        "colab": {
          "base_uri": "https://localhost:8080/",
          "height": 34
        },
        "outputId": "387fa84d-3ca5-4e0b-8ebc-9283c607f65e"
      },
      "source": [
        "labels"
      ],
      "execution_count": null,
      "outputs": [
        {
          "output_type": "execute_result",
          "data": {
            "text/plain": [
              "array([0, 4, 4, ..., 4, 1, 0])"
            ]
          },
          "metadata": {
            "tags": []
          },
          "execution_count": 9
        }
      ]
    },
    {
      "cell_type": "code",
      "metadata": {
        "id": "e89J-58EZ3t3",
        "colab_type": "code",
        "colab": {}
      },
      "source": [
        "\n",
        "labels = labels.reshape((-1,1))"
      ],
      "execution_count": null,
      "outputs": []
    },
    {
      "cell_type": "code",
      "metadata": {
        "id": "bYnih8rcZ9xa",
        "colab_type": "code",
        "colab": {
          "base_uri": "https://localhost:8080/",
          "height": 34
        },
        "outputId": "c996759d-bef1-440d-f01c-1ee6e4c01ff4"
      },
      "source": [
        "\n",
        "labels.shape"
      ],
      "execution_count": null,
      "outputs": [
        {
          "output_type": "execute_result",
          "data": {
            "text/plain": [
              "(4346, 1)"
            ]
          },
          "metadata": {
            "tags": []
          },
          "execution_count": 11
        }
      ]
    },
    {
      "cell_type": "code",
      "metadata": {
        "id": "oc36w_6_K7Uy",
        "colab_type": "code",
        "colab": {}
      },
      "source": [
        "\n",
        "\n",
        "x_train, x_test, y_train, y_test = train_test_split (feature, labels, test_size = 0.1)"
      ],
      "execution_count": null,
      "outputs": []
    },
    {
      "cell_type": "code",
      "metadata": {
        "id": "-DS3f0dSRljE",
        "colab_type": "code",
        "colab": {
          "base_uri": "https://localhost:8080/",
          "height": 34
        },
        "outputId": "60c5d9e9-c94c-4d91-d619-2ce3b63f55f4"
      },
      "source": [
        "x_train.shape"
      ],
      "execution_count": null,
      "outputs": [
        {
          "output_type": "execute_result",
          "data": {
            "text/plain": [
              "(3911, 224, 224, 3)"
            ]
          },
          "metadata": {
            "tags": []
          },
          "execution_count": 13
        }
      ]
    },
    {
      "cell_type": "code",
      "metadata": {
        "id": "ObUG9CsySPrx",
        "colab_type": "code",
        "colab": {
          "base_uri": "https://localhost:8080/",
          "height": 34
        },
        "outputId": "2928d6cb-466a-4ea1-8280-28730c8fd724"
      },
      "source": [
        "y_test.shape"
      ],
      "execution_count": null,
      "outputs": [
        {
          "output_type": "execute_result",
          "data": {
            "text/plain": [
              "(435, 1)"
            ]
          },
          "metadata": {
            "tags": []
          },
          "execution_count": 45
        }
      ]
    },
    {
      "cell_type": "code",
      "metadata": {
        "id": "qVeRDXMVQHCG",
        "colab_type": "code",
        "colab": {
          "base_uri": "https://localhost:8080/",
          "height": 369
        },
        "outputId": "f87ac526-3a3b-4b2d-aac6-55e965398605"
      },
      "source": [
        "input_shape = (224,224,3)\n",
        "input = tf.keras.layers.Input(input_shape, dtype = tf.uint8)\n",
        "x = tf.cast(input, tf.float32)\n",
        "x = tf.keras.applications.mobilenet_v2.preprocess_input(x)\n",
        "#x = tf.keras.layers.experimental.preprocessing.RandomRotation(0.5)(x)\n",
        "#x = tf.keras.layers.experimental.preprocessing.RandomFlip()(x)\n",
        "\n",
        "base_model = tf.keras.applications.MobileNetV2(\n",
        "    weights='imagenet',  # Load weights pre-trained on ImageNet.\n",
        "    input_shape=input_shape,\n",
        "    include_top=False)\n",
        "base_model.trainable = False\n",
        "x = base_model(input, training=False)\n",
        "x = tf.keras.layers.GlobalAveragePooling2D()(x)\n",
        "x = tf.keras.layers.Dropout(0.2)(x)\n",
        "output = tf.keras.layers.Dense(5)(x)\n",
        "output = tf.keras.layers.Softmax()(output)\n",
        "\n",
        "model = tf.keras.Model(input, output)\n",
        "model.summary()"
      ],
      "execution_count": null,
      "outputs": [
        {
          "output_type": "stream",
          "text": [
            "Model: \"functional_7\"\n",
            "_________________________________________________________________\n",
            "Layer (type)                 Output Shape              Param #   \n",
            "=================================================================\n",
            "input_8 (InputLayer)         [(None, 224, 224, 3)]     0         \n",
            "_________________________________________________________________\n",
            "mobilenetv2_1.00_224 (Functi (None, 7, 7, 1280)        2257984   \n",
            "_________________________________________________________________\n",
            "global_average_pooling2d_3 ( (None, 1280)              0         \n",
            "_________________________________________________________________\n",
            "dropout_3 (Dropout)          (None, 1280)              0         \n",
            "_________________________________________________________________\n",
            "dense_5 (Dense)              (None, 5)                 6405      \n",
            "_________________________________________________________________\n",
            "softmax_3 (Softmax)          (None, 5)                 0         \n",
            "=================================================================\n",
            "Total params: 2,264,389\n",
            "Trainable params: 6,405\n",
            "Non-trainable params: 2,257,984\n",
            "_________________________________________________________________\n"
          ],
          "name": "stdout"
        }
      ]
    },
    {
      "cell_type": "code",
      "metadata": {
        "id": "1JQNYggZTPc-",
        "colab_type": "code",
        "colab": {}
      },
      "source": [
        "model.compile(\n",
        "    optimizer=tf.keras.optimizers.Adam(),\n",
        "    loss=tf.keras.losses.SparseCategoricalCrossentropy(),\n",
        "    metrics=[\"accuracy\"]\n",
        ")"
      ],
      "execution_count": null,
      "outputs": []
    },
    {
      "cell_type": "code",
      "metadata": {
        "id": "Z48Z_TdDU9kO",
        "colab_type": "code",
        "colab": {
          "base_uri": "https://localhost:8080/",
          "height": 1000
        },
        "outputId": "d4264103-fe3c-4a5a-d0a3-d1c1df98ecdb"
      },
      "source": [
        "batch_size = 64\n",
        "epochs = 40\n",
        "patience = 10\n",
        "model.fit(x=x_train,y=y_train, batch_size=batch_size, epochs=epochs, validation_data=(x_test, y_test), \n",
        "          callbacks = [tf.keras.callbacks.EarlyStopping(patience=patience)])"
      ],
      "execution_count": null,
      "outputs": [
        {
          "output_type": "stream",
          "text": [
            "Epoch 1/40\n",
            "62/62 [==============================] - 11s 183ms/step - loss: 1.6589 - accuracy: 0.2692 - val_loss: 1.5441 - val_accuracy: 0.3218\n",
            "Epoch 2/40\n",
            "62/62 [==============================] - 10s 169ms/step - loss: 1.5834 - accuracy: 0.2953 - val_loss: 1.5322 - val_accuracy: 0.3172\n",
            "Epoch 3/40\n",
            "62/62 [==============================] - 10s 168ms/step - loss: 1.5462 - accuracy: 0.3178 - val_loss: 1.4952 - val_accuracy: 0.3333\n",
            "Epoch 4/40\n",
            "62/62 [==============================] - 10s 168ms/step - loss: 1.5246 - accuracy: 0.3393 - val_loss: 1.4808 - val_accuracy: 0.3563\n",
            "Epoch 5/40\n",
            "62/62 [==============================] - 10s 168ms/step - loss: 1.5070 - accuracy: 0.3429 - val_loss: 1.4880 - val_accuracy: 0.3609\n",
            "Epoch 6/40\n",
            "62/62 [==============================] - 10s 169ms/step - loss: 1.4903 - accuracy: 0.3513 - val_loss: 1.4740 - val_accuracy: 0.3586\n",
            "Epoch 7/40\n",
            "62/62 [==============================] - 10s 168ms/step - loss: 1.4794 - accuracy: 0.3631 - val_loss: 1.4972 - val_accuracy: 0.3632\n",
            "Epoch 8/40\n",
            "62/62 [==============================] - 10s 168ms/step - loss: 1.4624 - accuracy: 0.3738 - val_loss: 1.4979 - val_accuracy: 0.3540\n",
            "Epoch 9/40\n",
            "62/62 [==============================] - 10s 168ms/step - loss: 1.4512 - accuracy: 0.3838 - val_loss: 1.4697 - val_accuracy: 0.3655\n",
            "Epoch 10/40\n",
            "62/62 [==============================] - 10s 168ms/step - loss: 1.4359 - accuracy: 0.3935 - val_loss: 1.4718 - val_accuracy: 0.3724\n",
            "Epoch 11/40\n",
            "62/62 [==============================] - 10s 168ms/step - loss: 1.4267 - accuracy: 0.3958 - val_loss: 1.5236 - val_accuracy: 0.3425\n",
            "Epoch 12/40\n",
            "62/62 [==============================] - 10s 168ms/step - loss: 1.4361 - accuracy: 0.3812 - val_loss: 1.4950 - val_accuracy: 0.3356\n",
            "Epoch 13/40\n",
            "62/62 [==============================] - 10s 167ms/step - loss: 1.4379 - accuracy: 0.3812 - val_loss: 1.4621 - val_accuracy: 0.3770\n",
            "Epoch 14/40\n",
            "62/62 [==============================] - 10s 168ms/step - loss: 1.4170 - accuracy: 0.3840 - val_loss: 1.4827 - val_accuracy: 0.3632\n",
            "Epoch 15/40\n",
            "62/62 [==============================] - 10s 168ms/step - loss: 1.4169 - accuracy: 0.4048 - val_loss: 1.4665 - val_accuracy: 0.3793\n",
            "Epoch 16/40\n",
            "62/62 [==============================] - 10s 167ms/step - loss: 1.4176 - accuracy: 0.3904 - val_loss: 1.4710 - val_accuracy: 0.3609\n",
            "Epoch 17/40\n",
            "62/62 [==============================] - 10s 168ms/step - loss: 1.4003 - accuracy: 0.3950 - val_loss: 1.4613 - val_accuracy: 0.3747\n",
            "Epoch 18/40\n",
            "62/62 [==============================] - 10s 168ms/step - loss: 1.4047 - accuracy: 0.4007 - val_loss: 1.4820 - val_accuracy: 0.3747\n",
            "Epoch 19/40\n",
            "62/62 [==============================] - 10s 168ms/step - loss: 1.4003 - accuracy: 0.4012 - val_loss: 1.4643 - val_accuracy: 0.3839\n",
            "Epoch 20/40\n",
            "62/62 [==============================] - 10s 168ms/step - loss: 1.3999 - accuracy: 0.4129 - val_loss: 1.4598 - val_accuracy: 0.3977\n",
            "Epoch 21/40\n",
            "62/62 [==============================] - 10s 168ms/step - loss: 1.3891 - accuracy: 0.4142 - val_loss: 1.4779 - val_accuracy: 0.3586\n",
            "Epoch 22/40\n",
            "62/62 [==============================] - 10s 169ms/step - loss: 1.3913 - accuracy: 0.4088 - val_loss: 1.4748 - val_accuracy: 0.3747\n",
            "Epoch 23/40\n",
            "62/62 [==============================] - 10s 168ms/step - loss: 1.3847 - accuracy: 0.4035 - val_loss: 1.4660 - val_accuracy: 0.3885\n",
            "Epoch 24/40\n",
            "62/62 [==============================] - 10s 168ms/step - loss: 1.3842 - accuracy: 0.4019 - val_loss: 1.5130 - val_accuracy: 0.3402\n",
            "Epoch 25/40\n",
            "62/62 [==============================] - 10s 167ms/step - loss: 1.3918 - accuracy: 0.4101 - val_loss: 1.4887 - val_accuracy: 0.3540\n",
            "Epoch 26/40\n",
            "62/62 [==============================] - 10s 167ms/step - loss: 1.3781 - accuracy: 0.4037 - val_loss: 1.4917 - val_accuracy: 0.3609\n",
            "Epoch 27/40\n",
            "62/62 [==============================] - 10s 167ms/step - loss: 1.3762 - accuracy: 0.4058 - val_loss: 1.4737 - val_accuracy: 0.3747\n",
            "Epoch 28/40\n",
            "62/62 [==============================] - 10s 167ms/step - loss: 1.3646 - accuracy: 0.4234 - val_loss: 1.4719 - val_accuracy: 0.3816\n",
            "Epoch 29/40\n",
            "62/62 [==============================] - 10s 167ms/step - loss: 1.3697 - accuracy: 0.4076 - val_loss: 1.4987 - val_accuracy: 0.3862\n",
            "Epoch 30/40\n",
            "62/62 [==============================] - 10s 167ms/step - loss: 1.3654 - accuracy: 0.4216 - val_loss: 1.5025 - val_accuracy: 0.3425\n"
          ],
          "name": "stdout"
        },
        {
          "output_type": "execute_result",
          "data": {
            "text/plain": [
              "<tensorflow.python.keras.callbacks.History at 0x7f193206d780>"
            ]
          },
          "metadata": {
            "tags": []
          },
          "execution_count": 34
        }
      ]
    },
    {
      "cell_type": "code",
      "metadata": {
        "id": "NwW_n_CTJFt1",
        "colab_type": "code",
        "colab": {}
      },
      "source": [
        "# zapisywanie modelu do pliku na colabie\n",
        "model.save('outdated_network.h5')"
      ],
      "execution_count": null,
      "outputs": []
    },
    {
      "cell_type": "code",
      "metadata": {
        "id": "JgNB3eImJODl",
        "colab_type": "code",
        "colab": {
          "base_uri": "https://localhost:8080/",
          "height": 34
        },
        "outputId": "280c430b-4be4-4d80-8926-345723ea52bb"
      },
      "source": [
        "# zapisywanie modelu na komputer lokalnie\n",
        "from google.colab import files\n",
        "files.download('outdated_network.h5')"
      ],
      "execution_count": null,
      "outputs": [
        {
          "output_type": "display_data",
          "data": {
            "application/javascript": [
              "\n",
              "    async function download(id, filename, size) {\n",
              "      if (!google.colab.kernel.accessAllowed) {\n",
              "        return;\n",
              "      }\n",
              "      const div = document.createElement('div');\n",
              "      const label = document.createElement('label');\n",
              "      label.textContent = `Downloading \"${filename}\": `;\n",
              "      div.appendChild(label);\n",
              "      const progress = document.createElement('progress');\n",
              "      progress.max = size;\n",
              "      div.appendChild(progress);\n",
              "      document.body.appendChild(div);\n",
              "\n",
              "      const buffers = [];\n",
              "      let downloaded = 0;\n",
              "\n",
              "      const channel = await google.colab.kernel.comms.open(id);\n",
              "      // Send a message to notify the kernel that we're ready.\n",
              "      channel.send({})\n",
              "\n",
              "      for await (const message of channel.messages) {\n",
              "        // Send a message to notify the kernel that we're ready.\n",
              "        channel.send({})\n",
              "        if (message.buffers) {\n",
              "          for (const buffer of message.buffers) {\n",
              "            buffers.push(buffer);\n",
              "            downloaded += buffer.byteLength;\n",
              "            progress.value = downloaded;\n",
              "          }\n",
              "        }\n",
              "      }\n",
              "      const blob = new Blob(buffers, {type: 'application/binary'});\n",
              "      const a = document.createElement('a');\n",
              "      a.href = window.URL.createObjectURL(blob);\n",
              "      a.download = filename;\n",
              "      div.appendChild(a);\n",
              "      a.click();\n",
              "      div.remove();\n",
              "    }\n",
              "  "
            ],
            "text/plain": [
              "<IPython.core.display.Javascript object>"
            ]
          },
          "metadata": {
            "tags": []
          }
        },
        {
          "output_type": "display_data",
          "data": {
            "application/javascript": [
              "download(\"download_a0b70bce-2e4e-4429-9f3a-56060df141d8\", \"outdated_network.h5\", 9412584)"
            ],
            "text/plain": [
              "<IPython.core.display.Javascript object>"
            ]
          },
          "metadata": {
            "tags": []
          }
        }
      ]
    },
    {
      "cell_type": "code",
      "metadata": {
        "id": "EXw0wELJTdE4",
        "colab_type": "code",
        "colab": {}
      },
      "source": [
        "y_pred = model.predict(x_test)"
      ],
      "execution_count": null,
      "outputs": []
    },
    {
      "cell_type": "code",
      "metadata": {
        "id": "_nM6XjxwjMfy",
        "colab_type": "code",
        "colab": {
          "base_uri": "https://localhost:8080/",
          "height": 34
        },
        "outputId": "52707ce8-361a-469c-a8bc-fba5f15fb224"
      },
      "source": [
        "y_pred.shape"
      ],
      "execution_count": null,
      "outputs": [
        {
          "output_type": "execute_result",
          "data": {
            "text/plain": [
              "(435, 5)"
            ]
          },
          "metadata": {
            "tags": []
          },
          "execution_count": 38
        }
      ]
    },
    {
      "cell_type": "code",
      "metadata": {
        "id": "_VOSG6OSn5Wz",
        "colab_type": "code",
        "colab": {
          "base_uri": "https://localhost:8080/",
          "height": 158
        },
        "outputId": "825ddcda-b44e-4056-f620-2b95f62b6083"
      },
      "source": [
        "y_pred"
      ],
      "execution_count": null,
      "outputs": [
        {
          "output_type": "execute_result",
          "data": {
            "text/plain": [
              "array([[0.21027134, 0.235938  , 0.25323692, 0.16677302, 0.13378072],\n",
              "       [0.3398712 , 0.25793695, 0.17218776, 0.11879643, 0.11120773],\n",
              "       [0.42159814, 0.12799104, 0.26610547, 0.08451737, 0.09978797],\n",
              "       ...,\n",
              "       [0.3398712 , 0.25793695, 0.17218776, 0.11879643, 0.11120773],\n",
              "       [0.19211742, 0.12903082, 0.12349488, 0.31291875, 0.24243814],\n",
              "       [0.44433546, 0.13150671, 0.13171215, 0.15582232, 0.13662332]],\n",
              "      dtype=float32)"
            ]
          },
          "metadata": {
            "tags": []
          },
          "execution_count": 42
        }
      ]
    },
    {
      "cell_type": "code",
      "metadata": {
        "id": "eJUmtCpYjMKT",
        "colab_type": "code",
        "colab": {
          "base_uri": "https://localhost:8080/",
          "height": 34
        },
        "outputId": "2852fc74-bfdc-4343-a966-623a52d1b1f0"
      },
      "source": [
        "x_test.shape"
      ],
      "execution_count": null,
      "outputs": [
        {
          "output_type": "execute_result",
          "data": {
            "text/plain": [
              "(435, 224, 224, 3)"
            ]
          },
          "metadata": {
            "tags": []
          },
          "execution_count": 67
        }
      ]
    },
    {
      "cell_type": "code",
      "metadata": {
        "id": "Vg9hka_MyUhj",
        "colab_type": "code",
        "colab": {}
      },
      "source": [
        "from sklearn.metrics import classification_report\n",
        "print(classification_report(y_test, y_preds.argmax(1)))"
      ],
      "execution_count": null,
      "outputs": []
    },
    {
      "cell_type": "code",
      "metadata": {
        "id": "dDHxXbXPjYEY",
        "colab_type": "code",
        "colab": {
          "base_uri": "https://localhost:8080/",
          "height": 34
        },
        "outputId": "b9d24ef1-b3f8-439e-ed41-3dea5d9b5c54"
      },
      "source": [
        "y_test.shape"
      ],
      "execution_count": null,
      "outputs": [
        {
          "output_type": "execute_result",
          "data": {
            "text/plain": [
              "(435, 1)"
            ]
          },
          "metadata": {
            "tags": []
          },
          "execution_count": 43
        }
      ]
    },
    {
      "cell_type": "code",
      "metadata": {
        "id": "tnarPzJwiD6f",
        "colab_type": "code",
        "colab": {
          "base_uri": "https://localhost:8080/",
          "height": 105
        },
        "outputId": "1f048007-8cd8-4b02-bddd-be8d9c82e6b8"
      },
      "source": [
        "sklearn.metrics.confusion_matrix(y_test, y_pred.argmax(1))"
      ],
      "execution_count": null,
      "outputs": [
        {
          "output_type": "execute_result",
          "data": {
            "text/plain": [
              "array([[68, 11,  0,  2,  1],\n",
              "       [77, 22,  0,  1,  0],\n",
              "       [58, 17,  0,  2,  1],\n",
              "       [63, 14,  0,  0,  0],\n",
              "       [75, 20,  1,  2,  0]])"
            ]
          },
          "metadata": {
            "tags": []
          },
          "execution_count": 66
        }
      ]
    }
  ]
}