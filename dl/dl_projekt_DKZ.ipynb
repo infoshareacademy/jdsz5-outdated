{
  "nbformat": 4,
  "nbformat_minor": 0,
  "metadata": {
    "colab": {
      "name": "dl_projekt_DKZ",
      "provenance": [],
      "collapsed_sections": []
    },
    "kernelspec": {
      "name": "python3",
      "display_name": "Python 3"
    },
    "accelerator": "GPU"
  },
  "cells": [
    {
      "cell_type": "code",
      "metadata": {
        "id": "KFNBJTRJO1OH",
        "colab_type": "code",
        "colab": {}
      },
      "source": [
        "from tensorflow import keras\n",
        "import tensorflow as tf\n",
        "import numpy as np\n",
        "import matplotlib.pyplot as plt\n",
        "import os\n",
        "from glob import glob\n",
        "from tensorflow.keras.layers import *\n",
        "import cv2\n",
        "import pickle\n",
        "from scipy.ndimage import median_filter, convolve\n",
        "from sklearn.model_selection import train_test_split\n",
        "from sklearn.metrics import confusion_matrix\n",
        "import sklearn\n",
        "\n",
        "from keras.models import *\n",
        "from keras.layers import *\n",
        "from keras.optimizers import *\n",
        "from keras.callbacks import ModelCheckpoint, LearningRateScheduler\n",
        "from keras import backend as keras\n"
      ],
      "execution_count": 33,
      "outputs": []
    },
    {
      "cell_type": "code",
      "metadata": {
        "id": "LIrKQEZ6O-bd",
        "colab_type": "code",
        "colab": {
          "base_uri": "https://localhost:8080/",
          "height": 54
        },
        "outputId": "6355d7cf-b8a4-454d-8ee4-01c0fcec30bb"
      },
      "source": [
        "from google.colab import drive\n",
        "drive.mount('/content/drive')"
      ],
      "execution_count": 3,
      "outputs": [
        {
          "output_type": "stream",
          "text": [
            "Drive already mounted at /content/drive; to attempt to forcibly remount, call drive.mount(\"/content/drive\", force_remount=True).\n"
          ],
          "name": "stdout"
        }
      ]
    },
    {
      "cell_type": "code",
      "metadata": {
        "id": "hqVIAB8DO-vM",
        "colab_type": "code",
        "colab": {
          "base_uri": "https://localhost:8080/",
          "height": 34
        },
        "outputId": "d9c5bef3-0339-40f6-f9c1-96dc65c014b5"
      },
      "source": [
        "ls '/content/drive/My Drive/flowers/'"
      ],
      "execution_count": 4,
      "outputs": [
        {
          "output_type": "stream",
          "text": [
            "\u001b[0m\u001b[01;34mdaisy\u001b[0m/  \u001b[01;34mdandelion\u001b[0m/  \u001b[01;34mflowers\u001b[0m/  \u001b[01;34mrose\u001b[0m/  \u001b[01;34msunflower\u001b[0m/  \u001b[01;34mtulip\u001b[0m/\n"
          ],
          "name": "stdout"
        }
      ]
    },
    {
      "cell_type": "code",
      "metadata": {
        "id": "1nZI7U-3ZrgY",
        "colab_type": "code",
        "colab": {}
      },
      "source": [
        "data_dir = \"/content/drive/My Drive/flowers\"\n",
        "\n",
        "categories = ['daisy', 'dandelion', 'rose', 'sunflower', 'tulip']"
      ],
      "execution_count": 5,
      "outputs": []
    },
    {
      "cell_type": "code",
      "metadata": {
        "id": "4_GBWVirZAH4",
        "colab_type": "code",
        "colab": {}
      },
      "source": [
        "data = []\n",
        "def make_data():\n",
        "    for category in categories:\n",
        "        path = os.path.join(data_dir, category)\n",
        "        label = categories.index(category)\n",
        "        \n",
        "        for img_name in os.listdir(path):\n",
        "            image_path = os.path.join(path, img_name)\n",
        "            image = cv2.imread(image_path)\n",
        "            \n",
        "            try:\n",
        "                image = cv2.cvtColor(image, cv2.COLOR_BGR2RGB)\n",
        "                image = cv2.resize(image, (224,224))\n",
        "                \n",
        "                image = np.array(image, dtype=np.float32)\n",
        "                \n",
        "                data.append([image, label])\n",
        "            except Exception as e:\n",
        "                pass\n",
        "    print(len(data))\n",
        "    \n",
        "    pik = open('data.pickle', 'wb')\n",
        "    pickle.dump(data,pik)\n",
        "    pik.close()"
      ],
      "execution_count": 6,
      "outputs": []
    },
    {
      "cell_type": "code",
      "metadata": {
        "id": "Hmvf1Z8yLiVR",
        "colab_type": "code",
        "colab": {
          "base_uri": "https://localhost:8080/",
          "height": 34
        },
        "outputId": "d6e6192f-64a2-43c5-e809-b16b2f831127"
      },
      "source": [
        "make_data()"
      ],
      "execution_count": 7,
      "outputs": [
        {
          "output_type": "stream",
          "text": [
            "4346\n"
          ],
          "name": "stdout"
        }
      ]
    },
    {
      "cell_type": "code",
      "metadata": {
        "id": "Ar1sY6Gkftk9",
        "colab_type": "code",
        "colab": {}
      },
      "source": [
        "def load_data():\n",
        "    pick = open('data.pickle','rb')\n",
        "    data = pickle.load(pick)\n",
        "    pick.close()\n",
        "    \n",
        "    np.random.shuffle(data)\n",
        "    \n",
        "    feature = []\n",
        "    labels = []\n",
        "    \n",
        "    for img, label in data:\n",
        "        feature.append(img)\n",
        "        labels.append(label)\n",
        "        \n",
        "    feature = np.array(feature, dtype=np.float32)\n",
        "    labels = np.array(labels)\n",
        "    \n",
        "    feature = feature/255.0\n",
        "    \n",
        "    return [feature, labels]"
      ],
      "execution_count": 8,
      "outputs": []
    },
    {
      "cell_type": "code",
      "metadata": {
        "id": "O4HaXjO_Z1n_",
        "colab_type": "code",
        "colab": {}
      },
      "source": [
        "(feature, labels) = load_data()"
      ],
      "execution_count": null,
      "outputs": []
    },
    {
      "cell_type": "code",
      "metadata": {
        "id": "PJw7bQ9oj4oZ",
        "colab_type": "code",
        "colab": {
          "base_uri": "https://localhost:8080/",
          "height": 167
        },
        "outputId": "cdf683cb-ab6f-43bb-9a8c-e4f317827d9a"
      },
      "source": [
        "labels"
      ],
      "execution_count": 1,
      "outputs": [
        {
          "output_type": "error",
          "ename": "NameError",
          "evalue": "ignored",
          "traceback": [
            "\u001b[0;31m---------------------------------------------------------------------------\u001b[0m",
            "\u001b[0;31mNameError\u001b[0m                                 Traceback (most recent call last)",
            "\u001b[0;32m<ipython-input-1-0a1df294b701>\u001b[0m in \u001b[0;36m<module>\u001b[0;34m()\u001b[0m\n\u001b[0;32m----> 1\u001b[0;31m \u001b[0mlabels\u001b[0m\u001b[0;34m\u001b[0m\u001b[0;34m\u001b[0m\u001b[0m\n\u001b[0m",
            "\u001b[0;31mNameError\u001b[0m: name 'labels' is not defined"
          ]
        }
      ]
    },
    {
      "cell_type": "code",
      "metadata": {
        "id": "e89J-58EZ3t3",
        "colab_type": "code",
        "colab": {}
      },
      "source": [
        "\n",
        "labels = labels.reshape((-1,1))"
      ],
      "execution_count": 10,
      "outputs": []
    },
    {
      "cell_type": "code",
      "metadata": {
        "id": "bYnih8rcZ9xa",
        "colab_type": "code",
        "colab": {
          "base_uri": "https://localhost:8080/",
          "height": 34
        },
        "outputId": "e65ab03b-abdb-416d-ce3b-75f5a6f8b12b"
      },
      "source": [
        "\n",
        "labels.shape"
      ],
      "execution_count": 11,
      "outputs": [
        {
          "output_type": "execute_result",
          "data": {
            "text/plain": [
              "(4346, 1)"
            ]
          },
          "metadata": {
            "tags": []
          },
          "execution_count": 11
        }
      ]
    },
    {
      "cell_type": "code",
      "metadata": {
        "id": "oc36w_6_K7Uy",
        "colab_type": "code",
        "colab": {}
      },
      "source": [
        "\n",
        "\n",
        "x_train, x_test, y_train, y_test = train_test_split (feature, labels, test_size = 0.1)"
      ],
      "execution_count": 12,
      "outputs": []
    },
    {
      "cell_type": "code",
      "metadata": {
        "id": "-DS3f0dSRljE",
        "colab_type": "code",
        "colab": {
          "base_uri": "https://localhost:8080/",
          "height": 34
        },
        "outputId": "6805f9eb-2b6e-48eb-9025-20034fb86d82"
      },
      "source": [
        "x_train.shape"
      ],
      "execution_count": 13,
      "outputs": [
        {
          "output_type": "execute_result",
          "data": {
            "text/plain": [
              "(3911, 224, 224, 3)"
            ]
          },
          "metadata": {
            "tags": []
          },
          "execution_count": 13
        }
      ]
    },
    {
      "cell_type": "code",
      "metadata": {
        "id": "ObUG9CsySPrx",
        "colab_type": "code",
        "colab": {
          "base_uri": "https://localhost:8080/",
          "height": 34
        },
        "outputId": "3ed6214b-54e0-4390-ae88-7813b39125ea"
      },
      "source": [
        "y_test.shape"
      ],
      "execution_count": 51,
      "outputs": [
        {
          "output_type": "execute_result",
          "data": {
            "text/plain": [
              "(435, 1)"
            ]
          },
          "metadata": {
            "tags": []
          },
          "execution_count": 51
        }
      ]
    },
    {
      "cell_type": "code",
      "metadata": {
        "id": "qVeRDXMVQHCG",
        "colab_type": "code",
        "colab": {
          "base_uri": "https://localhost:8080/",
          "height": 369
        },
        "outputId": "6cf5c67c-5b83-4d08-e4b4-3ac05b941390"
      },
      "source": [
        "input_shape = (224,224,3)\n",
        "input = tf.keras.layers.Input(input_shape, dtype = tf.uint8)\n",
        "x = tf.cast(input, tf.float32)\n",
        "x = tf.keras.applications.mobilenet_v2.preprocess_input(x)\n",
        "#x = tf.keras.layers.experimental.preprocessing.RandomRotation(0.5)(x)\n",
        "#x = tf.keras.layers.experimental.preprocessing.RandomFlip()(x)\n",
        "\n",
        "base_model = tf.keras.applications.MobileNetV2(\n",
        "    weights='imagenet',  # Load weights pre-trained on ImageNet.\n",
        "    input_shape=input_shape,\n",
        "    include_top=False)\n",
        "base_model.trainable = False\n",
        "x = base_model(input, training=False)\n",
        "x = tf.keras.layers.GlobalAveragePooling2D()(x)\n",
        "x = tf.keras.layers.Dropout(0.2)(x)\n",
        "output = tf.keras.layers.Dense(5)(x)\n",
        "output = tf.keras.layers.Softmax()(output)\n",
        "\n",
        "model = tf.keras.Model(input, output)\n",
        "model.summary()"
      ],
      "execution_count": 45,
      "outputs": [
        {
          "output_type": "stream",
          "text": [
            "Model: \"functional_7\"\n",
            "_________________________________________________________________\n",
            "Layer (type)                 Output Shape              Param #   \n",
            "=================================================================\n",
            "input_7 (InputLayer)         [(None, 224, 224, 3)]     0         \n",
            "_________________________________________________________________\n",
            "mobilenetv2_1.00_224 (Functi (None, 7, 7, 1280)        2257984   \n",
            "_________________________________________________________________\n",
            "global_average_pooling2d_3 ( (None, 1280)              0         \n",
            "_________________________________________________________________\n",
            "dropout_3 (Dropout)          (None, 1280)              0         \n",
            "_________________________________________________________________\n",
            "dense_5 (Dense)              (None, 5)                 6405      \n",
            "_________________________________________________________________\n",
            "softmax_3 (Softmax)          (None, 5)                 0         \n",
            "=================================================================\n",
            "Total params: 2,264,389\n",
            "Trainable params: 6,405\n",
            "Non-trainable params: 2,257,984\n",
            "_________________________________________________________________\n"
          ],
          "name": "stdout"
        }
      ]
    },
    {
      "cell_type": "code",
      "metadata": {
        "id": "1JQNYggZTPc-",
        "colab_type": "code",
        "colab": {}
      },
      "source": [
        "model.compile(\n",
        "    optimizer=tf.keras.optimizers.Adam(),\n",
        "    loss=tf.keras.losses.SparseCategoricalCrossentropy(),\n",
        "    metrics=[\"accuracy\"]\n",
        ")"
      ],
      "execution_count": 46,
      "outputs": []
    },
    {
      "cell_type": "code",
      "metadata": {
        "id": "Z48Z_TdDU9kO",
        "colab_type": "code",
        "colab": {
          "base_uri": "https://localhost:8080/",
          "height": 477
        },
        "outputId": "977e9640-3846-479e-e967-129bf4d01c7a"
      },
      "source": [
        "batch_size = 64\n",
        "epochs = 20\n",
        "patience = 5\n",
        "model.fit(x=x_train,y=y_train, batch_size=batch_size, epochs=epochs, validation_data=(x_test, y_test), \n",
        "          callbacks = [tf.keras.callbacks.EarlyStopping(patience=patience)])"
      ],
      "execution_count": 25,
      "outputs": [
        {
          "output_type": "stream",
          "text": [
            "Epoch 1/20\n",
            "62/62 [==============================] - 5s 75ms/step - loss: 1.6630 - accuracy: 0.2659 - val_loss: 1.5101 - val_accuracy: 0.3517\n",
            "Epoch 2/20\n",
            "62/62 [==============================] - 4s 64ms/step - loss: 1.6151 - accuracy: 0.2928 - val_loss: 1.4819 - val_accuracy: 0.3632\n",
            "Epoch 3/20\n",
            "62/62 [==============================] - 4s 64ms/step - loss: 1.5584 - accuracy: 0.3086 - val_loss: 1.4584 - val_accuracy: 0.3816\n",
            "Epoch 4/20\n",
            "62/62 [==============================] - 4s 63ms/step - loss: 1.5279 - accuracy: 0.3283 - val_loss: 1.4638 - val_accuracy: 0.3862\n",
            "Epoch 5/20\n",
            "62/62 [==============================] - 4s 64ms/step - loss: 1.5188 - accuracy: 0.3296 - val_loss: 1.5012 - val_accuracy: 0.3816\n",
            "Epoch 6/20\n",
            "62/62 [==============================] - 4s 64ms/step - loss: 1.5045 - accuracy: 0.3454 - val_loss: 1.5412 - val_accuracy: 0.3034\n",
            "Epoch 7/20\n",
            "62/62 [==============================] - 4s 64ms/step - loss: 1.4962 - accuracy: 0.3426 - val_loss: 1.4546 - val_accuracy: 0.4184\n",
            "Epoch 8/20\n",
            "62/62 [==============================] - 4s 64ms/step - loss: 1.4690 - accuracy: 0.3615 - val_loss: 1.4584 - val_accuracy: 0.3885\n",
            "Epoch 9/20\n",
            "62/62 [==============================] - 4s 64ms/step - loss: 1.4619 - accuracy: 0.3733 - val_loss: 1.4896 - val_accuracy: 0.3770\n",
            "Epoch 10/20\n",
            "62/62 [==============================] - 4s 63ms/step - loss: 1.4658 - accuracy: 0.3577 - val_loss: 1.4661 - val_accuracy: 0.3977\n",
            "Epoch 11/20\n",
            "62/62 [==============================] - 4s 63ms/step - loss: 1.4642 - accuracy: 0.3667 - val_loss: 1.4752 - val_accuracy: 0.3678\n",
            "Epoch 12/20\n",
            "62/62 [==============================] - 4s 64ms/step - loss: 1.4463 - accuracy: 0.3692 - val_loss: 1.4586 - val_accuracy: 0.4138\n"
          ],
          "name": "stdout"
        },
        {
          "output_type": "execute_result",
          "data": {
            "text/plain": [
              "<tensorflow.python.keras.callbacks.History at 0x7f261760db70>"
            ]
          },
          "metadata": {
            "tags": []
          },
          "execution_count": 25
        }
      ]
    },
    {
      "cell_type": "code",
      "metadata": {
        "id": "EXw0wELJTdE4",
        "colab_type": "code",
        "colab": {}
      },
      "source": [
        "y_pred = model.predict(x_test)"
      ],
      "execution_count": 47,
      "outputs": []
    },
    {
      "cell_type": "code",
      "metadata": {
        "id": "_nM6XjxwjMfy",
        "colab_type": "code",
        "colab": {
          "base_uri": "https://localhost:8080/",
          "height": 34
        },
        "outputId": "5f8c8494-96e6-4fd3-b49a-d32de3f97491"
      },
      "source": [
        "y_pred.shape"
      ],
      "execution_count": 48,
      "outputs": [
        {
          "output_type": "execute_result",
          "data": {
            "text/plain": [
              "(435, 5)"
            ]
          },
          "metadata": {
            "tags": []
          },
          "execution_count": 48
        }
      ]
    },
    {
      "cell_type": "code",
      "metadata": {
        "id": "eJUmtCpYjMKT",
        "colab_type": "code",
        "colab": {
          "base_uri": "https://localhost:8080/",
          "height": 34
        },
        "outputId": "7731fe35-8d54-4d83-b94e-d2343d40b943"
      },
      "source": [
        "x_test.shape"
      ],
      "execution_count": 49,
      "outputs": [
        {
          "output_type": "execute_result",
          "data": {
            "text/plain": [
              "(435, 224, 224, 3)"
            ]
          },
          "metadata": {
            "tags": []
          },
          "execution_count": 49
        }
      ]
    },
    {
      "cell_type": "code",
      "metadata": {
        "id": "dDHxXbXPjYEY",
        "colab_type": "code",
        "colab": {
          "base_uri": "https://localhost:8080/",
          "height": 34
        },
        "outputId": "9d68673f-bd47-4a6d-d30f-2185aac055fa"
      },
      "source": [
        "y_test.shape"
      ],
      "execution_count": 50,
      "outputs": [
        {
          "output_type": "execute_result",
          "data": {
            "text/plain": [
              "(435, 1)"
            ]
          },
          "metadata": {
            "tags": []
          },
          "execution_count": 50
        }
      ]
    },
    {
      "cell_type": "code",
      "metadata": {
        "id": "tnarPzJwiD6f",
        "colab_type": "code",
        "colab": {
          "base_uri": "https://localhost:8080/",
          "height": 314
        },
        "outputId": "7fc5e507-8da1-4895-f65a-67b0d90f4e84"
      },
      "source": [
        "sklearn.metrics.confusion_matrix(y_test, y_pred)"
      ],
      "execution_count": 40,
      "outputs": [
        {
          "output_type": "error",
          "ename": "ValueError",
          "evalue": "ignored",
          "traceback": [
            "\u001b[0;31m---------------------------------------------------------------------------\u001b[0m",
            "\u001b[0;31mValueError\u001b[0m                                Traceback (most recent call last)",
            "\u001b[0;32m<ipython-input-40-8d04e5ff954f>\u001b[0m in \u001b[0;36m<module>\u001b[0;34m()\u001b[0m\n\u001b[0;32m----> 1\u001b[0;31m \u001b[0msklearn\u001b[0m\u001b[0;34m.\u001b[0m\u001b[0mmetrics\u001b[0m\u001b[0;34m.\u001b[0m\u001b[0mconfusion_matrix\u001b[0m\u001b[0;34m(\u001b[0m\u001b[0my_test\u001b[0m\u001b[0;34m,\u001b[0m \u001b[0my_pred\u001b[0m\u001b[0;34m)\u001b[0m\u001b[0;34m\u001b[0m\u001b[0;34m\u001b[0m\u001b[0m\n\u001b[0m",
            "\u001b[0;32m/usr/local/lib/python3.6/dist-packages/sklearn/metrics/_classification.py\u001b[0m in \u001b[0;36mconfusion_matrix\u001b[0;34m(y_true, y_pred, labels, sample_weight, normalize)\u001b[0m\n\u001b[1;32m    266\u001b[0m \u001b[0;34m\u001b[0m\u001b[0m\n\u001b[1;32m    267\u001b[0m     \"\"\"\n\u001b[0;32m--> 268\u001b[0;31m     \u001b[0my_type\u001b[0m\u001b[0;34m,\u001b[0m \u001b[0my_true\u001b[0m\u001b[0;34m,\u001b[0m \u001b[0my_pred\u001b[0m \u001b[0;34m=\u001b[0m \u001b[0m_check_targets\u001b[0m\u001b[0;34m(\u001b[0m\u001b[0my_true\u001b[0m\u001b[0;34m,\u001b[0m \u001b[0my_pred\u001b[0m\u001b[0;34m)\u001b[0m\u001b[0;34m\u001b[0m\u001b[0;34m\u001b[0m\u001b[0m\n\u001b[0m\u001b[1;32m    269\u001b[0m     \u001b[0;32mif\u001b[0m \u001b[0my_type\u001b[0m \u001b[0;32mnot\u001b[0m \u001b[0;32min\u001b[0m \u001b[0;34m(\u001b[0m\u001b[0;34m\"binary\"\u001b[0m\u001b[0;34m,\u001b[0m \u001b[0;34m\"multiclass\"\u001b[0m\u001b[0;34m)\u001b[0m\u001b[0;34m:\u001b[0m\u001b[0;34m\u001b[0m\u001b[0;34m\u001b[0m\u001b[0m\n\u001b[1;32m    270\u001b[0m         \u001b[0;32mraise\u001b[0m \u001b[0mValueError\u001b[0m\u001b[0;34m(\u001b[0m\u001b[0;34m\"%s is not supported\"\u001b[0m \u001b[0;34m%\u001b[0m \u001b[0my_type\u001b[0m\u001b[0;34m)\u001b[0m\u001b[0;34m\u001b[0m\u001b[0;34m\u001b[0m\u001b[0m\n",
            "\u001b[0;32m/usr/local/lib/python3.6/dist-packages/sklearn/metrics/_classification.py\u001b[0m in \u001b[0;36m_check_targets\u001b[0;34m(y_true, y_pred)\u001b[0m\n\u001b[1;32m     88\u001b[0m     \u001b[0;32mif\u001b[0m \u001b[0mlen\u001b[0m\u001b[0;34m(\u001b[0m\u001b[0my_type\u001b[0m\u001b[0;34m)\u001b[0m \u001b[0;34m>\u001b[0m \u001b[0;36m1\u001b[0m\u001b[0;34m:\u001b[0m\u001b[0;34m\u001b[0m\u001b[0;34m\u001b[0m\u001b[0m\n\u001b[1;32m     89\u001b[0m         raise ValueError(\"Classification metrics can't handle a mix of {0} \"\n\u001b[0;32m---> 90\u001b[0;31m                          \"and {1} targets\".format(type_true, type_pred))\n\u001b[0m\u001b[1;32m     91\u001b[0m \u001b[0;34m\u001b[0m\u001b[0m\n\u001b[1;32m     92\u001b[0m     \u001b[0;31m# We can't have more than one value on y_type => The set is no more needed\u001b[0m\u001b[0;34m\u001b[0m\u001b[0;34m\u001b[0m\u001b[0;34m\u001b[0m\u001b[0m\n",
            "\u001b[0;31mValueError\u001b[0m: Classification metrics can't handle a mix of multiclass and continuous-multioutput targets"
          ]
        }
      ]
    }
  ]
}