{
  "nbformat": 4,
  "nbformat_minor": 0,
  "metadata": {
    "colab": {
      "name": "dl_projekt.ipynb",
      "provenance": [],
      "collapsed_sections": []
    },
    "kernelspec": {
      "name": "python3",
      "display_name": "Python 3"
    },
    "accelerator": "GPU"
  },
  "cells": [
    {
      "cell_type": "code",
      "metadata": {
        "id": "KFNBJTRJO1OH",
        "colab_type": "code",
        "colab": {}
      },
      "source": [
        "from tensorflow import keras\n",
        "import tensorflow as tf\n",
        "import numpy as np\n",
        "import matplotlib.pyplot as plt\n",
        "import os\n",
        "from glob import glob\n",
        "from tensorflow.keras.layers import Input, Conv2D, Conv2DTranspose, MaxPooling2D, Concatenate\n",
        "import cv2\n",
        "import pickle\n",
        "from scipy.ndimage import median_filter, convolve\n",
        "from sklearn.model_selection import train_test_split"
      ],
      "execution_count": null,
      "outputs": []
    },
    {
      "cell_type": "code",
      "metadata": {
        "id": "LIrKQEZ6O-bd",
        "colab_type": "code",
        "colab": {
          "base_uri": "https://localhost:8080/",
          "height": 122
        },
        "outputId": "1737b5d3-a24f-4ba7-f293-a496695c39f6"
      },
      "source": [
        "from google.colab import drive\n",
        "drive.mount('/content/drive')"
      ],
      "execution_count": null,
      "outputs": [
        {
          "output_type": "stream",
          "text": [
            "Go to this URL in a browser: https://accounts.google.com/o/oauth2/auth?client_id=947318989803-6bn6qk8qdgf4n4g3pfee6491hc0brc4i.apps.googleusercontent.com&redirect_uri=urn%3aietf%3awg%3aoauth%3a2.0%3aoob&scope=email%20https%3a%2f%2fwww.googleapis.com%2fauth%2fdocs.test%20https%3a%2f%2fwww.googleapis.com%2fauth%2fdrive%20https%3a%2f%2fwww.googleapis.com%2fauth%2fdrive.photos.readonly%20https%3a%2f%2fwww.googleapis.com%2fauth%2fpeopleapi.readonly&response_type=code\n",
            "\n",
            "Enter your authorization code:\n",
            "··········\n",
            "Mounted at /content/drive\n"
          ],
          "name": "stdout"
        }
      ]
    },
    {
      "cell_type": "code",
      "metadata": {
        "id": "hqVIAB8DO-vM",
        "colab_type": "code",
        "colab": {
          "base_uri": "https://localhost:8080/",
          "height": 34
        },
        "outputId": "97bd880e-f62a-42d3-bc69-f95b984211f3"
      },
      "source": [
        "ls '/content/drive/My Drive/flowers'"
      ],
      "execution_count": null,
      "outputs": [
        {
          "output_type": "stream",
          "text": [
            "\u001b[0m\u001b[01;34mdaisy\u001b[0m/  \u001b[01;34mdandelion\u001b[0m/  \u001b[01;34mrose\u001b[0m/  \u001b[01;34msunflower\u001b[0m/  \u001b[01;34mtulip\u001b[0m/\n"
          ],
          "name": "stdout"
        }
      ]
    },
    {
      "cell_type": "code",
      "metadata": {
        "id": "1nZI7U-3ZrgY",
        "colab_type": "code",
        "colab": {}
      },
      "source": [
        "data_dir = \"/content/drive/My Drive/flowers\"\n",
        "\n",
        "categories = ['daisy', 'dandelion', 'rose', 'sunflower', 'tulip']"
      ],
      "execution_count": null,
      "outputs": []
    },
    {
      "cell_type": "code",
      "metadata": {
        "id": "4_GBWVirZAH4",
        "colab_type": "code",
        "colab": {}
      },
      "source": [
        "data = []\n",
        "def make_data():\n",
        "    for category in categories:\n",
        "        path = os.path.join(data_dir, category)\n",
        "        label = categories.index(category)\n",
        "        \n",
        "        for img_name in os.listdir(path):\n",
        "            image_path = os.path.join(path, img_name)\n",
        "            image = cv2.imread(image_path)\n",
        "            \n",
        "            try:\n",
        "                image = cv2.cvtColor(image, cv2.COLOR_BGR2RGB)\n",
        "                image = cv2.resize(image, (224,224))\n",
        "                \n",
        "                image = np.array(image, dtype=np.float32)\n",
        "                \n",
        "                data.append([image, label])\n",
        "            except Exception as e:\n",
        "                pass\n",
        "    print(len(data))\n",
        "    \n",
        "    pik = open('data.pickle', 'wb')\n",
        "    pickle.dump(data,pik)\n",
        "    pik.close()"
      ],
      "execution_count": null,
      "outputs": []
    },
    {
      "cell_type": "code",
      "metadata": {
        "id": "MNE6oRoMZ1db",
        "colab_type": "code",
        "colab": {
          "base_uri": "https://localhost:8080/",
          "height": 34
        },
        "outputId": "0c732052-03ba-4e24-dc77-4bc99369baea"
      },
      "source": [
        "make_data()"
      ],
      "execution_count": null,
      "outputs": [
        {
          "output_type": "stream",
          "text": [
            "4323\n"
          ],
          "name": "stdout"
        }
      ]
    },
    {
      "cell_type": "code",
      "metadata": {
        "id": "Ar1sY6Gkftk9",
        "colab_type": "code",
        "colab": {}
      },
      "source": [
        "def load_data():\n",
        "    pick = open('data.pickle','rb')\n",
        "    data = pickle.load(pick)\n",
        "    pick.close()\n",
        "    \n",
        "    np.random.shuffle(data)\n",
        "    \n",
        "    feature = []\n",
        "    labels = []\n",
        "    \n",
        "    for img, label in data:\n",
        "        feature.append(img)\n",
        "        labels.append(label)\n",
        "        \n",
        "    feature = np.array(feature, dtype=np.float32)\n",
        "    labels = np.array(labels)\n",
        "    \n",
        "    feature = feature/255.0\n",
        "    \n",
        "    return [feature, labels]"
      ],
      "execution_count": null,
      "outputs": []
    },
    {
      "cell_type": "code",
      "metadata": {
        "id": "JPpEV-M5UVfO",
        "colab_type": "code",
        "colab": {}
      },
      "source": [
        "(feature, labels) = load_data()"
      ],
      "execution_count": null,
      "outputs": []
    },
    {
      "cell_type": "code",
      "metadata": {
        "id": "bXIreIuXI4iI",
        "colab_type": "code",
        "colab": {}
      },
      "source": [
        "x_train, x_test, y_train, y_test = train_test_split (feature, labels, test_size = 0.1)"
      ],
      "execution_count": null,
      "outputs": []
    },
    {
      "cell_type": "code",
      "metadata": {
        "id": "Vov0Va3oLvsk",
        "colab_type": "code",
        "colab": {
          "base_uri": "https://localhost:8080/",
          "height": 561
        },
        "outputId": "2202df84-ed41-41d4-a5d7-0a96b3a206c6"
      },
      "source": [
        "# model sieci\n",
        "input_layer = tf.keras.layers.Input([224,224,3])\n",
        "\n",
        "conv1 = tf.keras.layers.Conv2D(filters = 32, kernel_size=(5,5),padding='same', activation='relu') (input_layer)\n",
        "\n",
        "pool1 = tf.keras.layers.MaxPooling2D(pool_size=(2,2)) (conv1)\n",
        "\n",
        "conv2 = tf.keras.layers.Conv2D(filters = 64, kernel_size=(3,3),padding='same', activation='relu') (pool1)\n",
        "\n",
        "pool2 = tf.keras.layers.MaxPooling2D(pool_size=(2,2), strides=(2,2)) (conv2)\n",
        "\n",
        "conv3 = tf.keras.layers.Conv2D(filters = 96, kernel_size=(3,3),padding='same', activation='relu') (pool2)\n",
        "\n",
        "pool3 = tf.keras.layers.MaxPooling2D(pool_size=(2,2), strides=(2,2)) (conv3)\n",
        "\n",
        "conv4 = tf.keras.layers.Conv2D(filters = 96, kernel_size=(3,3),padding='same', activation='relu') (pool3)\n",
        "\n",
        "pool4 = tf.keras.layers.MaxPooling2D(pool_size=(2,2), strides=(2,2)) (conv4)\n",
        "\n",
        "flt1 = tf.keras.layers.Flatten() (pool4)\n",
        "\n",
        "dn1 = tf.keras.layers.Dense(512, activation='relu') (flt1)\n",
        "\n",
        "out = tf.keras.layers.Dense(5, activation='softmax') (dn1)\n",
        "\n",
        "model = tf.keras.Model(input_layer, out, name='outdated_network')\n",
        "model.summary()"
      ],
      "execution_count": null,
      "outputs": [
        {
          "output_type": "stream",
          "text": [
            "Model: \"outdated_network\"\n",
            "_________________________________________________________________\n",
            "Layer (type)                 Output Shape              Param #   \n",
            "=================================================================\n",
            "input_1 (InputLayer)         [(None, 224, 224, 3)]     0         \n",
            "_________________________________________________________________\n",
            "conv2d (Conv2D)              (None, 224, 224, 32)      2432      \n",
            "_________________________________________________________________\n",
            "max_pooling2d (MaxPooling2D) (None, 112, 112, 32)      0         \n",
            "_________________________________________________________________\n",
            "conv2d_1 (Conv2D)            (None, 112, 112, 64)      18496     \n",
            "_________________________________________________________________\n",
            "max_pooling2d_1 (MaxPooling2 (None, 56, 56, 64)        0         \n",
            "_________________________________________________________________\n",
            "conv2d_2 (Conv2D)            (None, 56, 56, 96)        55392     \n",
            "_________________________________________________________________\n",
            "max_pooling2d_2 (MaxPooling2 (None, 28, 28, 96)        0         \n",
            "_________________________________________________________________\n",
            "conv2d_3 (Conv2D)            (None, 28, 28, 96)        83040     \n",
            "_________________________________________________________________\n",
            "max_pooling2d_3 (MaxPooling2 (None, 14, 14, 96)        0         \n",
            "_________________________________________________________________\n",
            "flatten (Flatten)            (None, 18816)             0         \n",
            "_________________________________________________________________\n",
            "dense (Dense)                (None, 512)               9634304   \n",
            "_________________________________________________________________\n",
            "dense_1 (Dense)              (None, 5)                 2565      \n",
            "=================================================================\n",
            "Total params: 9,796,229\n",
            "Trainable params: 9,796,229\n",
            "Non-trainable params: 0\n",
            "_________________________________________________________________\n"
          ],
          "name": "stdout"
        }
      ]
    },
    {
      "cell_type": "code",
      "metadata": {
        "id": "WMF69rTNOtS3",
        "colab_type": "code",
        "colab": {}
      },
      "source": [
        "# compile mój\n",
        "#model.compile (optimizer ='adam', loss = 'sparse_categorical_crossentropy', metrics =['accuracy'])"
      ],
      "execution_count": null,
      "outputs": []
    },
    {
      "cell_type": "code",
      "metadata": {
        "id": "f8O2mUQGPWdd",
        "colab_type": "code",
        "colab": {}
      },
      "source": [
        "model.compile(\n",
        "    optimizer=tf.keras.optimizers.Adam(),\n",
        "    loss=tf.keras.losses.SparseCategoricalCrossentropy(),\n",
        "    metrics=[\"accuracy\"]\n",
        ")"
      ],
      "execution_count": null,
      "outputs": []
    },
    {
      "cell_type": "code",
      "metadata": {
        "id": "ZqdQkfGgPZO9",
        "colab_type": "code",
        "colab": {
          "base_uri": "https://localhost:8080/",
          "height": 714
        },
        "outputId": "9dd591af-a95c-4259-af10-6a3a6ff8bfbf"
      },
      "source": [
        "#fitowanie modelu moje\n",
        "#model.fit(x_train, y_train, batch_size = 100, epochs = 10)"
      ],
      "execution_count": null,
      "outputs": [
        {
          "output_type": "stream",
          "text": [
            "Epoch 1/10\n",
            "39/39 [==============================] - 436s 11s/step - loss: 1.4521 - accuracy: 0.3856\n",
            "Epoch 2/10\n",
            "39/39 [==============================] - 425s 11s/step - loss: 1.0864 - accuracy: 0.5676\n",
            "Epoch 3/10\n",
            "39/39 [==============================] - 430s 11s/step - loss: 0.9491 - accuracy: 0.6334\n",
            "Epoch 4/10\n",
            "39/39 [==============================] - 428s 11s/step - loss: 0.8729 - accuracy: 0.6632\n",
            "Epoch 5/10\n",
            "39/39 [==============================] - 435s 11s/step - loss: 0.7730 - accuracy: 0.7069\n",
            "Epoch 6/10\n",
            "39/39 [==============================] - 437s 11s/step - loss: 0.6638 - accuracy: 0.7473\n",
            "Epoch 7/10\n",
            "39/39 [==============================] - 426s 11s/step - loss: 0.4949 - accuracy: 0.8149\n",
            "Epoch 8/10\n",
            "18/39 [============>.................] - ETA: 3:45 - loss: 0.3709 - accuracy: 0.8667Epoch 1/10\n",
            "39/39 [==============================] - 436s 11s/step - loss: 1.4521 - accuracy: 0.3856\n",
            "Epoch 2/10\n",
            "39/39 [==============================] - 425s 11s/step - loss: 1.0864 - accuracy: 0.5676\n",
            "Epoch 3/10\n",
            "39/39 [==============================] - 430s 11s/step - loss: 0.9491 - accuracy: 0.6334\n",
            "Epoch 4/10\n",
            "39/39 [==============================] - 428s 11s/step - loss: 0.8729 - accuracy: 0.6632\n",
            "Epoch 5/10\n",
            "39/39 [==============================] - 435s 11s/step - loss: 0.7730 - accuracy: 0.7069\n",
            "Epoch 6/10\n",
            "39/39 [==============================] - 437s 11s/step - loss: 0.6638 - accuracy: 0.7473\n",
            "Epoch 7/10\n",
            "39/39 [==============================] - 426s 11s/step - loss: 0.4949 - accuracy: 0.8149\n",
            "Epoch 8/10\n",
            "39/39 [==============================] - 432s 11s/step - loss: 0.3764 - accuracy: 0.8640\n",
            "39/39 [==============================] - 432s 11s/step - loss: 0.3764 - accuracy: 0.8640\n",
            "Epoch 9/10\n",
            "Epoch 9/10\n",
            "39/39 [==============================] - 430s 11s/step - loss: 0.2418 - accuracy: 0.9108\n",
            "39/39 [==============================] - 430s 11s/step - loss: 0.2418 - accuracy: 0.9108\n",
            "Epoch 10/10\n",
            "Epoch 10/10\n",
            "39/39 [==============================] - 426s 11s/step - loss: 0.1330 - accuracy: 0.9568\n",
            "39/39 [==============================] - 426s 11s/step - loss: 0.1330 - accuracy: 0.9568\n"
          ],
          "name": "stdout"
        },
        {
          "output_type": "execute_result",
          "data": {
            "text/plain": [
              "<tensorflow.python.keras.callbacks.History at 0x7f9e341176a0>"
            ]
          },
          "metadata": {
            "tags": []
          },
          "execution_count": 13
        },
        {
          "output_type": "execute_result",
          "data": {
            "text/plain": [
              "<tensorflow.python.keras.callbacks.History at 0x7f9e341176a0>"
            ]
          },
          "metadata": {
            "tags": []
          },
          "execution_count": 13
        }
      ]
    },
    {
      "cell_type": "code",
      "metadata": {
        "id": "wOPqievot1uu",
        "colab_type": "code",
        "colab": {
          "base_uri": "https://localhost:8080/",
          "height": 272
        },
        "outputId": "c0039736-f550-431b-a943-eef8133dab6b"
      },
      "source": [
        "batch_size = 100\n",
        "epochs = 20\n",
        "patience = 5\n",
        "model.fit(x_train, y_train, batch_size=batch_size, epochs=epochs, validation_data=(x_test, y_test), \n",
        "          callbacks = [tf.keras.callbacks.EarlyStopping(patience=patience)])"
      ],
      "execution_count": null,
      "outputs": [
        {
          "output_type": "stream",
          "text": [
            "Epoch 1/20\n",
            "39/39 [==============================] - 4s 99ms/step - loss: 0.0265 - accuracy: 0.9920 - val_loss: 2.3190 - val_accuracy: 0.6674\n",
            "Epoch 2/20\n",
            "39/39 [==============================] - 4s 98ms/step - loss: 0.0362 - accuracy: 0.9905 - val_loss: 2.0787 - val_accuracy: 0.6351\n",
            "Epoch 3/20\n",
            "39/39 [==============================] - 4s 100ms/step - loss: 0.0357 - accuracy: 0.9910 - val_loss: 2.1275 - val_accuracy: 0.6767\n",
            "Epoch 4/20\n",
            "39/39 [==============================] - 4s 100ms/step - loss: 0.0134 - accuracy: 0.9979 - val_loss: 2.4827 - val_accuracy: 0.6674\n",
            "Epoch 5/20\n",
            "39/39 [==============================] - 4s 100ms/step - loss: 0.0139 - accuracy: 0.9982 - val_loss: 2.4594 - val_accuracy: 0.6651\n",
            "Epoch 6/20\n",
            "39/39 [==============================] - 4s 101ms/step - loss: 0.0094 - accuracy: 0.9990 - val_loss: 2.2285 - val_accuracy: 0.6744\n",
            "Epoch 7/20\n",
            "39/39 [==============================] - 4s 100ms/step - loss: 0.0050 - accuracy: 0.9987 - val_loss: 2.2884 - val_accuracy: 0.6767\n"
          ],
          "name": "stdout"
        },
        {
          "output_type": "execute_result",
          "data": {
            "text/plain": [
              "<tensorflow.python.keras.callbacks.History at 0x7f74202f26a0>"
            ]
          },
          "metadata": {
            "tags": []
          },
          "execution_count": 17
        }
      ]
    },
    {
      "cell_type": "code",
      "metadata": {
        "id": "SE0XoMGAlu-Q",
        "colab_type": "code",
        "colab": {}
      },
      "source": [
        "# zapisywanie modelu do pliku na colabie\n",
        "model.save('outdated_network.h5')"
      ],
      "execution_count": null,
      "outputs": []
    },
    {
      "cell_type": "code",
      "metadata": {
        "id": "MYCTjxzVmTwP",
        "colab_type": "code",
        "colab": {
          "base_uri": "https://localhost:8080/",
          "height": 34
        },
        "outputId": "67369413-2e69-45e5-9f32-5c31700d370e"
      },
      "source": [
        "# zapisywanie modelu na komputer lokalnie\n",
        "from google.colab import files\n",
        "files.download('outdated_network.h5') "
      ],
      "execution_count": null,
      "outputs": [
        {
          "output_type": "display_data",
          "data": {
            "application/javascript": [
              "\n",
              "    async function download(id, filename, size) {\n",
              "      if (!google.colab.kernel.accessAllowed) {\n",
              "        return;\n",
              "      }\n",
              "      const div = document.createElement('div');\n",
              "      const label = document.createElement('label');\n",
              "      label.textContent = `Downloading \"${filename}\": `;\n",
              "      div.appendChild(label);\n",
              "      const progress = document.createElement('progress');\n",
              "      progress.max = size;\n",
              "      div.appendChild(progress);\n",
              "      document.body.appendChild(div);\n",
              "\n",
              "      const buffers = [];\n",
              "      let downloaded = 0;\n",
              "\n",
              "      const channel = await google.colab.kernel.comms.open(id);\n",
              "      // Send a message to notify the kernel that we're ready.\n",
              "      channel.send({})\n",
              "\n",
              "      for await (const message of channel.messages) {\n",
              "        // Send a message to notify the kernel that we're ready.\n",
              "        channel.send({})\n",
              "        if (message.buffers) {\n",
              "          for (const buffer of message.buffers) {\n",
              "            buffers.push(buffer);\n",
              "            downloaded += buffer.byteLength;\n",
              "            progress.value = downloaded;\n",
              "          }\n",
              "        }\n",
              "      }\n",
              "      const blob = new Blob(buffers, {type: 'application/binary'});\n",
              "      const a = document.createElement('a');\n",
              "      a.href = window.URL.createObjectURL(blob);\n",
              "      a.download = filename;\n",
              "      div.appendChild(a);\n",
              "      a.click();\n",
              "      div.remove();\n",
              "    }\n",
              "  "
            ],
            "text/plain": [
              "<IPython.core.display.Javascript object>"
            ]
          },
          "metadata": {
            "tags": []
          }
        },
        {
          "output_type": "display_data",
          "data": {
            "application/javascript": [
              "download(\"download_b91fc7e4-c144-44ae-9fb9-5409325d841d\", \"outdated_network_99.h5\", 117617192)"
            ],
            "text/plain": [
              "<IPython.core.display.Javascript object>"
            ]
          },
          "metadata": {
            "tags": []
          }
        }
      ]
    },
    {
      "cell_type": "code",
      "metadata": {
        "id": "4zZD8I-uoau9",
        "colab_type": "code",
        "colab": {
          "base_uri": "https://localhost:8080/",
          "height": 51
        },
        "outputId": "dcdac629-4024-48ff-b2b2-031e4ab4b1d5"
      },
      "source": [
        "model.evaluate(x_test, y_test, verbose = 1)"
      ],
      "execution_count": null,
      "outputs": [
        {
          "output_type": "stream",
          "text": [
            "14/14 [==============================] - 0s 14ms/step - loss: 2.2884 - accuracy: 0.6767\n"
          ],
          "name": "stdout"
        },
        {
          "output_type": "execute_result",
          "data": {
            "text/plain": [
              "[2.2884154319763184, 0.6766743659973145]"
            ]
          },
          "metadata": {
            "tags": []
          },
          "execution_count": 18
        }
      ]
    }
  ]
}