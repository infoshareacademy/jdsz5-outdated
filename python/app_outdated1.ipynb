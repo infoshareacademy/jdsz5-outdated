{
 "cells": [
  {
   "cell_type": "code",
   "execution_count": 1,
   "metadata": {},
   "outputs": [],
   "source": [
    "from functions1 import Datasets, import_data, show_current, set_current, merge_data, show_columns, describe_data, head_data, sprawdz_rozklad, porownaj_srednie, przedzialy_ufnosci_srednia\n",
    "from functions1 import boxplot, selection_range_slider, time_plot, line_plot, bar_plot, plot_hist, bootstrap_gender\n",
    "import pandas as pd\n",
    "from ipywidgets import interact, interactive, fixed, interact_manual\n",
    "import ipywidgets as widgets\n",
    "from matplotlib import pyplot as plt"
   ]
  },
  {
   "cell_type": "code",
   "execution_count": 2,
   "metadata": {},
   "outputs": [
    {
     "data": {
      "application/javascript": [
       "IPython.OutputArea.prototype._should_scroll = function(lines) {\n",
       "    return false;\n",
       "}\n"
      ],
      "text/plain": [
       "<IPython.core.display.Javascript object>"
      ]
     },
     "metadata": {},
     "output_type": "display_data"
    }
   ],
   "source": [
    "%%javascript\n",
    "IPython.OutputArea.prototype._should_scroll = function(lines) {\n",
    "    return false;\n",
    "}"
   ]
  },
  {
   "cell_type": "markdown",
   "metadata": {},
   "source": [
    "#### Zaimportuj dataset"
   ]
  },
  {
   "cell_type": "code",
   "execution_count": 3,
   "metadata": {
    "scrolled": false
   },
   "outputs": [
    {
     "name": "stdout",
     "output_type": "stream",
     "text": [
      "Dataset patient zostal zaimportowany\n",
      "Dataset region zostal zaimportowany\n",
      "Dataset weather zostal zaimportowany\n"
     ]
    }
   ],
   "source": [
    "import_data()"
   ]
  },
  {
   "cell_type": "markdown",
   "metadata": {},
   "source": [
    "#### Wybierz dataset z ktorym chcesz pracowac"
   ]
  },
  {
   "cell_type": "code",
   "execution_count": 4,
   "metadata": {},
   "outputs": [
    {
     "data": {
      "application/vnd.jupyter.widget-view+json": {
       "model_id": "bab25c2a26ae4430a715d212386915a4",
       "version_major": 2,
       "version_minor": 0
      },
      "text/plain": [
       "interactive(children=(Dropdown(description='dataset', options=(('patient', {'path': 'data/PatientInfo.csv', 's…"
      ]
     },
     "metadata": {},
     "output_type": "display_data"
    }
   ],
   "source": [
    "interact(set_current, dataset=[('patient', Datasets['patient']), ('region', Datasets['region']), ('weather', Datasets['weather'])]);"
   ]
  },
  {
   "cell_type": "markdown",
   "metadata": {},
   "source": [
    "#### Polacz z innym datasetem"
   ]
  },
  {
   "cell_type": "code",
   "execution_count": 6,
   "metadata": {
    "scrolled": true
   },
   "outputs": [
    {
     "data": {
      "application/vnd.jupyter.widget-view+json": {
       "model_id": "f27feebe15154f888fdc8175231b1d30",
       "version_major": 2,
       "version_minor": 0
      },
      "text/plain": [
       "interactive(children=(Dropdown(description='dataset', options=('patient', 'region', 'weather'), value='patient…"
      ]
     },
     "metadata": {},
     "output_type": "display_data"
    }
   ],
   "source": [
    "interact(merge_data, dataset=['patient', 'region', 'weather']);\n"
   ]
  },
  {
   "cell_type": "markdown",
   "metadata": {},
   "source": [
    "#### Pokaz dataset, na ktorym obecnie pracujesz"
   ]
  },
  {
   "cell_type": "code",
   "execution_count": 7,
   "metadata": {
    "scrolled": true
   },
   "outputs": [
    {
     "name": "stdout",
     "output_type": "stream",
     "text": [
      "Obecnie pracujesz na tabeli patient-region\n"
     ]
    }
   ],
   "source": [
    "show_current()"
   ]
  },
  {
   "cell_type": "markdown",
   "metadata": {},
   "source": [
    "#### Wypisz dostepne columny"
   ]
  },
  {
   "cell_type": "code",
   "execution_count": 8,
   "metadata": {},
   "outputs": [
    {
     "name": "stdout",
     "output_type": "stream",
     "text": [
      "1. patient_id\n",
      "2. sex\n",
      "3. birth_year\n",
      "4. age\n",
      "5. country\n",
      "6. province\n",
      "7. city\n",
      "8. infection_case\n",
      "9. symptom_onset_date\n",
      "10. confirmed_date\n",
      "11. released_date\n",
      "12. deceased_date\n",
      "13. state\n",
      "14. code\n",
      "15. latitude\n",
      "16. longitude\n",
      "17. elementary_school_count\n",
      "18. kindergarten_count\n",
      "19. university_count\n",
      "20. academy_ratio\n",
      "21. elderly_population_ratio\n",
      "22. elderly_alone_ratio\n",
      "23. nursing_home_count\n"
     ]
    }
   ],
   "source": [
    "show_columns()"
   ]
  },
  {
   "cell_type": "markdown",
   "metadata": {},
   "source": [
    "#### Opisz dataset"
   ]
  },
  {
   "cell_type": "code",
   "execution_count": 9,
   "metadata": {
    "scrolled": true
   },
   "outputs": [
    {
     "data": {
      "text/html": [
       "<div>\n",
       "<style scoped>\n",
       "    .dataframe tbody tr th:only-of-type {\n",
       "        vertical-align: middle;\n",
       "    }\n",
       "\n",
       "    .dataframe tbody tr th {\n",
       "        vertical-align: top;\n",
       "    }\n",
       "\n",
       "    .dataframe thead th {\n",
       "        text-align: right;\n",
       "    }\n",
       "</style>\n",
       "<table border=\"1\" class=\"dataframe\">\n",
       "  <thead>\n",
       "    <tr style=\"text-align: right;\">\n",
       "      <th></th>\n",
       "      <th>patient_id</th>\n",
       "      <th>birth_year</th>\n",
       "      <th>code</th>\n",
       "      <th>latitude</th>\n",
       "      <th>longitude</th>\n",
       "      <th>elementary_school_count</th>\n",
       "      <th>kindergarten_count</th>\n",
       "      <th>university_count</th>\n",
       "      <th>academy_ratio</th>\n",
       "      <th>elderly_population_ratio</th>\n",
       "      <th>elderly_alone_ratio</th>\n",
       "      <th>nursing_home_count</th>\n",
       "    </tr>\n",
       "  </thead>\n",
       "  <tbody>\n",
       "    <tr>\n",
       "      <th>count</th>\n",
       "      <td>2.787000e+03</td>\n",
       "      <td>2787.000000</td>\n",
       "      <td>2787.000000</td>\n",
       "      <td>2787.000000</td>\n",
       "      <td>2787.000000</td>\n",
       "      <td>2787.000000</td>\n",
       "      <td>2787.000000</td>\n",
       "      <td>2787.000000</td>\n",
       "      <td>2787.000000</td>\n",
       "      <td>2787.000000</td>\n",
       "      <td>2787.000000</td>\n",
       "      <td>2787.000000</td>\n",
       "    </tr>\n",
       "    <tr>\n",
       "      <th>mean</th>\n",
       "      <td>3.508251e+09</td>\n",
       "      <td>1975.166128</td>\n",
       "      <td>35159.372085</td>\n",
       "      <td>36.659743</td>\n",
       "      <td>127.812423</td>\n",
       "      <td>38.951920</td>\n",
       "      <td>64.984212</td>\n",
       "      <td>4.111231</td>\n",
       "      <td>1.481435</td>\n",
       "      <td>16.759577</td>\n",
       "      <td>7.609329</td>\n",
       "      <td>764.283459</td>\n",
       "    </tr>\n",
       "    <tr>\n",
       "      <th>std</th>\n",
       "      <td>2.178813e+09</td>\n",
       "      <td>20.216507</td>\n",
       "      <td>21736.853163</td>\n",
       "      <td>0.853852</td>\n",
       "      <td>0.890443</td>\n",
       "      <td>23.720915</td>\n",
       "      <td>43.787818</td>\n",
       "      <td>3.661146</td>\n",
       "      <td>0.589561</td>\n",
       "      <td>6.257647</td>\n",
       "      <td>4.292330</td>\n",
       "      <td>613.365676</td>\n",
       "    </tr>\n",
       "    <tr>\n",
       "      <th>min</th>\n",
       "      <td>1.000000e+09</td>\n",
       "      <td>1916.000000</td>\n",
       "      <td>10010.000000</td>\n",
       "      <td>33.488936</td>\n",
       "      <td>126.297950</td>\n",
       "      <td>4.000000</td>\n",
       "      <td>5.000000</td>\n",
       "      <td>0.000000</td>\n",
       "      <td>0.320000</td>\n",
       "      <td>7.690000</td>\n",
       "      <td>3.300000</td>\n",
       "      <td>24.000000</td>\n",
       "    </tr>\n",
       "    <tr>\n",
       "      <th>25%</th>\n",
       "      <td>1.400000e+09</td>\n",
       "      <td>1961.000000</td>\n",
       "      <td>14040.000000</td>\n",
       "      <td>35.825056</td>\n",
       "      <td>127.028613</td>\n",
       "      <td>23.000000</td>\n",
       "      <td>34.000000</td>\n",
       "      <td>1.000000</td>\n",
       "      <td>1.250000</td>\n",
       "      <td>13.170000</td>\n",
       "      <td>5.300000</td>\n",
       "      <td>427.000000</td>\n",
       "    </tr>\n",
       "    <tr>\n",
       "      <th>50%</th>\n",
       "      <td>2.000001e+09</td>\n",
       "      <td>1975.000000</td>\n",
       "      <td>20280.000000</td>\n",
       "      <td>36.814980</td>\n",
       "      <td>127.216552</td>\n",
       "      <td>31.000000</td>\n",
       "      <td>61.000000</td>\n",
       "      <td>3.000000</td>\n",
       "      <td>1.340000</td>\n",
       "      <td>16.180000</td>\n",
       "      <td>6.700000</td>\n",
       "      <td>494.000000</td>\n",
       "    </tr>\n",
       "    <tr>\n",
       "      <th>75%</th>\n",
       "      <td>6.001000e+09</td>\n",
       "      <td>1994.000000</td>\n",
       "      <td>60010.000000</td>\n",
       "      <td>37.483804</td>\n",
       "      <td>128.741544</td>\n",
       "      <td>43.000000</td>\n",
       "      <td>71.000000</td>\n",
       "      <td>7.000000</td>\n",
       "      <td>1.720000</td>\n",
       "      <td>16.590000</td>\n",
       "      <td>7.000000</td>\n",
       "      <td>1001.000000</td>\n",
       "    </tr>\n",
       "    <tr>\n",
       "      <th>max</th>\n",
       "      <td>7.000000e+09</td>\n",
       "      <td>2020.000000</td>\n",
       "      <td>70000.000000</td>\n",
       "      <td>37.903568</td>\n",
       "      <td>129.416575</td>\n",
       "      <td>113.000000</td>\n",
       "      <td>195.000000</td>\n",
       "      <td>10.000000</td>\n",
       "      <td>4.180000</td>\n",
       "      <td>40.260000</td>\n",
       "      <td>24.700000</td>\n",
       "      <td>3088.000000</td>\n",
       "    </tr>\n",
       "  </tbody>\n",
       "</table>\n",
       "</div>"
      ],
      "text/plain": [
       "         patient_id   birth_year          code     latitude    longitude  \\\n",
       "count  2.787000e+03  2787.000000   2787.000000  2787.000000  2787.000000   \n",
       "mean   3.508251e+09  1975.166128  35159.372085    36.659743   127.812423   \n",
       "std    2.178813e+09    20.216507  21736.853163     0.853852     0.890443   \n",
       "min    1.000000e+09  1916.000000  10010.000000    33.488936   126.297950   \n",
       "25%    1.400000e+09  1961.000000  14040.000000    35.825056   127.028613   \n",
       "50%    2.000001e+09  1975.000000  20280.000000    36.814980   127.216552   \n",
       "75%    6.001000e+09  1994.000000  60010.000000    37.483804   128.741544   \n",
       "max    7.000000e+09  2020.000000  70000.000000    37.903568   129.416575   \n",
       "\n",
       "       elementary_school_count  kindergarten_count  university_count  \\\n",
       "count              2787.000000         2787.000000       2787.000000   \n",
       "mean                 38.951920           64.984212          4.111231   \n",
       "std                  23.720915           43.787818          3.661146   \n",
       "min                   4.000000            5.000000          0.000000   \n",
       "25%                  23.000000           34.000000          1.000000   \n",
       "50%                  31.000000           61.000000          3.000000   \n",
       "75%                  43.000000           71.000000          7.000000   \n",
       "max                 113.000000          195.000000         10.000000   \n",
       "\n",
       "       academy_ratio  elderly_population_ratio  elderly_alone_ratio  \\\n",
       "count    2787.000000               2787.000000          2787.000000   \n",
       "mean        1.481435                 16.759577             7.609329   \n",
       "std         0.589561                  6.257647             4.292330   \n",
       "min         0.320000                  7.690000             3.300000   \n",
       "25%         1.250000                 13.170000             5.300000   \n",
       "50%         1.340000                 16.180000             6.700000   \n",
       "75%         1.720000                 16.590000             7.000000   \n",
       "max         4.180000                 40.260000            24.700000   \n",
       "\n",
       "       nursing_home_count  \n",
       "count         2787.000000  \n",
       "mean           764.283459  \n",
       "std            613.365676  \n",
       "min             24.000000  \n",
       "25%            427.000000  \n",
       "50%            494.000000  \n",
       "75%           1001.000000  \n",
       "max           3088.000000  "
      ]
     },
     "execution_count": 9,
     "metadata": {},
     "output_type": "execute_result"
    }
   ],
   "source": [
    "describe_data()"
   ]
  },
  {
   "cell_type": "markdown",
   "metadata": {},
   "source": [
    "#### Pokaz pierwsze wiersze"
   ]
  },
  {
   "cell_type": "code",
   "execution_count": 10,
   "metadata": {
    "scrolled": false
   },
   "outputs": [
    {
     "data": {
      "text/html": [
       "<div>\n",
       "<style scoped>\n",
       "    .dataframe tbody tr th:only-of-type {\n",
       "        vertical-align: middle;\n",
       "    }\n",
       "\n",
       "    .dataframe tbody tr th {\n",
       "        vertical-align: top;\n",
       "    }\n",
       "\n",
       "    .dataframe thead th {\n",
       "        text-align: right;\n",
       "    }\n",
       "</style>\n",
       "<table border=\"1\" class=\"dataframe\">\n",
       "  <thead>\n",
       "    <tr style=\"text-align: right;\">\n",
       "      <th></th>\n",
       "      <th>patient_id</th>\n",
       "      <th>sex</th>\n",
       "      <th>birth_year</th>\n",
       "      <th>age</th>\n",
       "      <th>country</th>\n",
       "      <th>province</th>\n",
       "      <th>city</th>\n",
       "      <th>infection_case</th>\n",
       "      <th>symptom_onset_date</th>\n",
       "      <th>confirmed_date</th>\n",
       "      <th>...</th>\n",
       "      <th>code</th>\n",
       "      <th>latitude</th>\n",
       "      <th>longitude</th>\n",
       "      <th>elementary_school_count</th>\n",
       "      <th>kindergarten_count</th>\n",
       "      <th>university_count</th>\n",
       "      <th>academy_ratio</th>\n",
       "      <th>elderly_population_ratio</th>\n",
       "      <th>elderly_alone_ratio</th>\n",
       "      <th>nursing_home_count</th>\n",
       "    </tr>\n",
       "  </thead>\n",
       "  <tbody>\n",
       "    <tr>\n",
       "      <th>0</th>\n",
       "      <td>1000000001</td>\n",
       "      <td>male</td>\n",
       "      <td>1964.0</td>\n",
       "      <td>50s</td>\n",
       "      <td>Korea</td>\n",
       "      <td>Seoul</td>\n",
       "      <td>Gangseo-gu</td>\n",
       "      <td>overseas inflow</td>\n",
       "      <td>2020-01-22</td>\n",
       "      <td>2020-01-23</td>\n",
       "      <td>...</td>\n",
       "      <td>10040</td>\n",
       "      <td>37.551166</td>\n",
       "      <td>126.849506</td>\n",
       "      <td>36</td>\n",
       "      <td>56</td>\n",
       "      <td>1</td>\n",
       "      <td>1.17</td>\n",
       "      <td>14.39</td>\n",
       "      <td>5.7</td>\n",
       "      <td>1080</td>\n",
       "    </tr>\n",
       "    <tr>\n",
       "      <th>1</th>\n",
       "      <td>1000000027</td>\n",
       "      <td>male</td>\n",
       "      <td>1968.0</td>\n",
       "      <td>50s</td>\n",
       "      <td>Korea</td>\n",
       "      <td>Seoul</td>\n",
       "      <td>Gangseo-gu</td>\n",
       "      <td>overseas inflow</td>\n",
       "      <td>NaN</td>\n",
       "      <td>2020-02-23</td>\n",
       "      <td>...</td>\n",
       "      <td>10040</td>\n",
       "      <td>37.551166</td>\n",
       "      <td>126.849506</td>\n",
       "      <td>36</td>\n",
       "      <td>56</td>\n",
       "      <td>1</td>\n",
       "      <td>1.17</td>\n",
       "      <td>14.39</td>\n",
       "      <td>5.7</td>\n",
       "      <td>1080</td>\n",
       "    </tr>\n",
       "    <tr>\n",
       "      <th>2</th>\n",
       "      <td>1000000106</td>\n",
       "      <td>male</td>\n",
       "      <td>1986.0</td>\n",
       "      <td>30s</td>\n",
       "      <td>Korea</td>\n",
       "      <td>Seoul</td>\n",
       "      <td>Gangseo-gu</td>\n",
       "      <td>contact with patient</td>\n",
       "      <td>NaN</td>\n",
       "      <td>2020-03-06</td>\n",
       "      <td>...</td>\n",
       "      <td>10040</td>\n",
       "      <td>37.551166</td>\n",
       "      <td>126.849506</td>\n",
       "      <td>36</td>\n",
       "      <td>56</td>\n",
       "      <td>1</td>\n",
       "      <td>1.17</td>\n",
       "      <td>14.39</td>\n",
       "      <td>5.7</td>\n",
       "      <td>1080</td>\n",
       "    </tr>\n",
       "    <tr>\n",
       "      <th>3</th>\n",
       "      <td>1000000144</td>\n",
       "      <td>female</td>\n",
       "      <td>1971.0</td>\n",
       "      <td>40s</td>\n",
       "      <td>Korea</td>\n",
       "      <td>Seoul</td>\n",
       "      <td>Gangseo-gu</td>\n",
       "      <td>Guro-gu Call Center</td>\n",
       "      <td>NaN</td>\n",
       "      <td>2020-03-09</td>\n",
       "      <td>...</td>\n",
       "      <td>10040</td>\n",
       "      <td>37.551166</td>\n",
       "      <td>126.849506</td>\n",
       "      <td>36</td>\n",
       "      <td>56</td>\n",
       "      <td>1</td>\n",
       "      <td>1.17</td>\n",
       "      <td>14.39</td>\n",
       "      <td>5.7</td>\n",
       "      <td>1080</td>\n",
       "    </tr>\n",
       "    <tr>\n",
       "      <th>4</th>\n",
       "      <td>1000000150</td>\n",
       "      <td>female</td>\n",
       "      <td>1960.0</td>\n",
       "      <td>60s</td>\n",
       "      <td>Korea</td>\n",
       "      <td>Seoul</td>\n",
       "      <td>Gangseo-gu</td>\n",
       "      <td>Guro-gu Call Center</td>\n",
       "      <td>NaN</td>\n",
       "      <td>2020-03-09</td>\n",
       "      <td>...</td>\n",
       "      <td>10040</td>\n",
       "      <td>37.551166</td>\n",
       "      <td>126.849506</td>\n",
       "      <td>36</td>\n",
       "      <td>56</td>\n",
       "      <td>1</td>\n",
       "      <td>1.17</td>\n",
       "      <td>14.39</td>\n",
       "      <td>5.7</td>\n",
       "      <td>1080</td>\n",
       "    </tr>\n",
       "  </tbody>\n",
       "</table>\n",
       "<p>5 rows × 23 columns</p>\n",
       "</div>"
      ],
      "text/plain": [
       "   patient_id     sex  birth_year  age country province        city  \\\n",
       "0  1000000001    male      1964.0  50s   Korea    Seoul  Gangseo-gu   \n",
       "1  1000000027    male      1968.0  50s   Korea    Seoul  Gangseo-gu   \n",
       "2  1000000106    male      1986.0  30s   Korea    Seoul  Gangseo-gu   \n",
       "3  1000000144  female      1971.0  40s   Korea    Seoul  Gangseo-gu   \n",
       "4  1000000150  female      1960.0  60s   Korea    Seoul  Gangseo-gu   \n",
       "\n",
       "         infection_case symptom_onset_date confirmed_date         ...          \\\n",
       "0       overseas inflow         2020-01-22     2020-01-23         ...           \n",
       "1       overseas inflow                NaN     2020-02-23         ...           \n",
       "2  contact with patient                NaN     2020-03-06         ...           \n",
       "3   Guro-gu Call Center                NaN     2020-03-09         ...           \n",
       "4   Guro-gu Call Center                NaN     2020-03-09         ...           \n",
       "\n",
       "    code   latitude   longitude  elementary_school_count  kindergarten_count  \\\n",
       "0  10040  37.551166  126.849506                       36                  56   \n",
       "1  10040  37.551166  126.849506                       36                  56   \n",
       "2  10040  37.551166  126.849506                       36                  56   \n",
       "3  10040  37.551166  126.849506                       36                  56   \n",
       "4  10040  37.551166  126.849506                       36                  56   \n",
       "\n",
       "   university_count  academy_ratio  elderly_population_ratio  \\\n",
       "0                 1           1.17                     14.39   \n",
       "1                 1           1.17                     14.39   \n",
       "2                 1           1.17                     14.39   \n",
       "3                 1           1.17                     14.39   \n",
       "4                 1           1.17                     14.39   \n",
       "\n",
       "   elderly_alone_ratio  nursing_home_count  \n",
       "0                  5.7                1080  \n",
       "1                  5.7                1080  \n",
       "2                  5.7                1080  \n",
       "3                  5.7                1080  \n",
       "4                  5.7                1080  \n",
       "\n",
       "[5 rows x 23 columns]"
      ]
     },
     "execution_count": 10,
     "metadata": {},
     "output_type": "execute_result"
    }
   ],
   "source": [
    "head_data()"
   ]
  },
  {
   "cell_type": "markdown",
   "metadata": {},
   "source": [
    "#### Wyrysuj histogram"
   ]
  },
  {
   "cell_type": "code",
   "execution_count": 11,
   "metadata": {
    "scrolled": true
   },
   "outputs": [
    {
     "data": {
      "application/vnd.jupyter.widget-view+json": {
       "model_id": "f7608da9c10b4ae288cf6d173f69bf80",
       "version_major": 2,
       "version_minor": 0
      },
      "text/plain": [
       "interactive(children=(Dropdown(description='numerical', options=('birth_year', 'elementary_school_count', 'kin…"
      ]
     },
     "metadata": {},
     "output_type": "display_data"
    }
   ],
   "source": [
    "interact(plot_hist, numerical=Datasets[Datasets['current_dataset']]['numerical']);"
   ]
  },
  {
   "cell_type": "markdown",
   "metadata": {},
   "source": [
    "#### Wyrysuj boxplot"
   ]
  },
  {
   "cell_type": "code",
   "execution_count": 12,
   "metadata": {
    "scrolled": true
   },
   "outputs": [
    {
     "data": {
      "application/vnd.jupyter.widget-view+json": {
       "model_id": "1ced22334c4643ff9de89aa65b7085ea",
       "version_major": 2,
       "version_minor": 0
      },
      "text/plain": [
       "interactive(children=(Dropdown(description='categorical', options=('sex', 'age', 'country', 'province', 'city'…"
      ]
     },
     "metadata": {},
     "output_type": "display_data"
    }
   ],
   "source": [
    "interact(boxplot, categorical=Datasets[Datasets['current_dataset']]['categorical'], numerical=Datasets[Datasets['current_dataset']]['numerical']);"
   ]
  },
  {
   "cell_type": "markdown",
   "metadata": {},
   "source": [
    "#### Wyrysuj time plot"
   ]
  },
  {
   "cell_type": "code",
   "execution_count": 13,
   "metadata": {
    "scrolled": true
   },
   "outputs": [
    {
     "data": {
      "application/vnd.jupyter.widget-view+json": {
       "model_id": "477b030b99a14c41bd32660682bbd31c",
       "version_major": 2,
       "version_minor": 0
      },
      "text/plain": [
       "interactive(children=(Dropdown(description='data', options=('code', 'patient_id'), value='code'), Dropdown(des…"
      ]
     },
     "metadata": {},
     "output_type": "display_data"
    }
   ],
   "source": [
    "interact(time_plot, data=Datasets[Datasets['current_dataset']]['count_col'], dates=Datasets[Datasets['current_dataset']]['dates'], date_range = selection_range_slider);\n"
   ]
  },
  {
   "cell_type": "markdown",
   "metadata": {},
   "source": [
    "#### Wyrysuj wykres liniowy"
   ]
  },
  {
   "cell_type": "code",
   "execution_count": 14,
   "metadata": {
    "scrolled": false
   },
   "outputs": [
    {
     "data": {
      "application/vnd.jupyter.widget-view+json": {
       "model_id": "cc0a32730a8a41089734fb9f8b75fd68",
       "version_major": 2,
       "version_minor": 0
      },
      "text/plain": [
       "interactive(children=(Dropdown(description='dates', options=('symptom_onset_date', 'confirmed_date', 'released…"
      ]
     },
     "metadata": {},
     "output_type": "display_data"
    }
   ],
   "source": [
    "interact(line_plot, data=Datasets[Datasets['current_dataset']]['count_col'], dates=Datasets[Datasets['current_dataset']]['dates'], groupping=Datasets[Datasets['current_dataset']]['categorical']);"
   ]
  },
  {
   "cell_type": "markdown",
   "metadata": {},
   "source": [
    "#### Wyrysuj bar plot"
   ]
  },
  {
   "cell_type": "code",
   "execution_count": 15,
   "metadata": {
    "scrolled": true
   },
   "outputs": [
    {
     "data": {
      "application/vnd.jupyter.widget-view+json": {
       "model_id": "66a34af27fdc4bbcb482c6a6ade43476",
       "version_major": 2,
       "version_minor": 0
      },
      "text/plain": [
       "interactive(children=(Dropdown(description='column', options=('sex', 'age', 'country', 'province', 'city', 'in…"
      ]
     },
     "metadata": {},
     "output_type": "display_data"
    }
   ],
   "source": [
    "interact(bar_plot, data=Datasets[Datasets['current_dataset']]['count_col'], column=Datasets[Datasets['current_dataset']]['categorical']);"
   ]
  },
  {
   "cell_type": "markdown",
   "metadata": {},
   "source": [
    "#### Sprawdz przedzialy ufnosci"
   ]
  },
  {
   "cell_type": "code",
   "execution_count": 16,
   "metadata": {},
   "outputs": [
    {
     "data": {
      "application/vnd.jupyter.widget-view+json": {
       "model_id": "6c5869668b9c479098ca23c2817464d3",
       "version_major": 2,
       "version_minor": 0
      },
      "text/plain": [
       "interactive(children=(Dropdown(description='data', options=('birth_year', 'elementary_school_count', 'kinderga…"
      ]
     },
     "metadata": {},
     "output_type": "display_data"
    }
   ],
   "source": [
    "interact(przedzialy_ufnosci_srednia, data=Datasets[Datasets['current_dataset']]['numerical'], confidence=[0.90, 0.95, 0.99]);\n",
    "pass"
   ]
  },
  {
   "cell_type": "markdown",
   "metadata": {},
   "source": [
    "#### Sprawdź normalność rozkładu"
   ]
  },
  {
   "cell_type": "code",
   "execution_count": 17,
   "metadata": {
    "scrolled": true
   },
   "outputs": [
    {
     "data": {
      "application/vnd.jupyter.widget-view+json": {
       "model_id": "067c4dee55914e6a820b67ea93eb6dde",
       "version_major": 2,
       "version_minor": 0
      },
      "text/plain": [
       "interactive(children=(Dropdown(description='column', options=('patient_id', 'birth_year', 'code', 'latitude', …"
      ]
     },
     "metadata": {},
     "output_type": "display_data"
    }
   ],
   "source": [
    "sprawdz_rozklad()"
   ]
  },
  {
   "cell_type": "markdown",
   "metadata": {},
   "source": [
    "#### Porownaj Srednie"
   ]
  },
  {
   "cell_type": "code",
   "execution_count": 18,
   "metadata": {
    "scrolled": true
   },
   "outputs": [
    {
     "data": {
      "application/vnd.jupyter.widget-view+json": {
       "model_id": "27eb81019b0249b69c03d313bbe25f0b",
       "version_major": 2,
       "version_minor": 0
      },
      "text/plain": [
       "interactive(children=(Dropdown(description='column1', options=('patient_id', 'sex', 'birth_year', 'age', 'coun…"
      ]
     },
     "metadata": {},
     "output_type": "display_data"
    }
   ],
   "source": [
    "porownaj_srednie();"
   ]
  },
  {
   "cell_type": "markdown",
   "metadata": {},
   "source": [
    "#### Boostrap "
   ]
  },
  {
   "cell_type": "code",
   "execution_count": 19,
   "metadata": {
    "scrolled": true
   },
   "outputs": [
    {
     "name": "stdout",
     "output_type": "stream",
     "text": [
      "Wynik testu istotny w 6.2% symulacji\n"
     ]
    }
   ],
   "source": [
    "bootstrap_gender()"
   ]
  }
 ],
 "metadata": {
  "kernelspec": {
   "display_name": "Python 3",
   "language": "python",
   "name": "python3"
  },
  "language_info": {
   "codemirror_mode": {
    "name": "ipython",
    "version": 3
   },
   "file_extension": ".py",
   "mimetype": "text/x-python",
   "name": "python",
   "nbconvert_exporter": "python",
   "pygments_lexer": "ipython3",
   "version": "3.7.1"
  }
 },
 "nbformat": 4,
 "nbformat_minor": 2
}
