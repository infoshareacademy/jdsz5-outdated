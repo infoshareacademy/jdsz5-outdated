{
 "cells": [
  {
   "cell_type": "code",
   "execution_count": 10,
   "metadata": {},
   "outputs": [],
   "source": [
    "from functions import Datasets, import_data, description, obliczanie_wieku, przedzialy_ufnosci_srednia, sprawdz_rozklad, porownaj_srednie\n",
    "from functions import boxplot, line_plot, time_plot, bar_plot, plot_hist\n",
    "import pandas as pd\n",
    "from ipywidgets import interact, interactive, fixed, interact_manual\n",
    "import ipywidgets as widgets"
   ]
  },
  {
   "cell_type": "code",
   "execution_count": 2,
   "metadata": {},
   "outputs": [
    {
     "name": "stdout",
     "output_type": "stream",
     "text": [
      "Dostępne datasety: patient, region, weather\n"
     ]
    }
   ],
   "source": [
    "print(Datasets())"
   ]
  },
  {
   "cell_type": "markdown",
   "metadata": {},
   "source": [
    "1. Pobranie danych "
   ]
  },
  {
   "cell_type": "code",
   "execution_count": 13,
   "metadata": {},
   "outputs": [],
   "source": [
    "patient = import_data(Datasets.patient)\n",
    "region = import_data(Datasets.region)\n",
    "weather = import_data(Datasets.weather)\n",
    "patient_region = pd.merge(patient, region, how='inner', on=['province', 'city'])\n",
    "patient_weather = pd.merge(patient, weather, how='inner', left_on=['confirmed_date', 'province'], right_on=['date', 'province'])"
   ]
  },
  {
   "cell_type": "markdown",
   "metadata": {},
   "source": [
    "2. Dostępne kolumny"
   ]
  },
  {
   "cell_type": "code",
   "execution_count": 16,
   "metadata": {},
   "outputs": [
    {
     "name": "stdout",
     "output_type": "stream",
     "text": [
      "Index(['patient_id', 'global_num', 'sex', 'birth_year', 'age', 'country',\n",
      "       'province', 'city', 'disease', 'infection_case', 'infection_order',\n",
      "       'infected_by', 'contact_number', 'symptom_onset_date', 'confirmed_date',\n",
      "       'released_date', 'deceased_date', 'state'],\n",
      "      dtype='object')\n",
      "Index(['code', 'province', 'city', 'latitude', 'longitude',\n",
      "       'elementary_school_count', 'kindergarten_count', 'university_count',\n",
      "       'academy_ratio', 'elderly_population_ratio', 'elderly_alone_ratio',\n",
      "       'nursing_home_count'],\n",
      "      dtype='object')\n",
      "Index(['code', 'province', 'date', 'avg_temp', 'min_temp', 'max_temp',\n",
      "       'precipitation', 'max_wind_speed', 'most_wind_direction',\n",
      "       'avg_relative_humidity'],\n",
      "      dtype='object')\n",
      "Index(['patient_id', 'global_num', 'sex', 'birth_year', 'age', 'country',\n",
      "       'province', 'city', 'disease', 'infection_case', 'infection_order',\n",
      "       'infected_by', 'contact_number', 'symptom_onset_date', 'confirmed_date',\n",
      "       'released_date', 'deceased_date', 'state', 'code', 'latitude',\n",
      "       'longitude', 'elementary_school_count', 'kindergarten_count',\n",
      "       'university_count', 'academy_ratio', 'elderly_population_ratio',\n",
      "       'elderly_alone_ratio', 'nursing_home_count'],\n",
      "      dtype='object')\n",
      "Index(['patient_id', 'global_num', 'sex', 'birth_year', 'age', 'country',\n",
      "       'province', 'city', 'disease', 'infection_case', 'infection_order',\n",
      "       'infected_by', 'contact_number', 'symptom_onset_date', 'confirmed_date',\n",
      "       'released_date', 'deceased_date', 'state', 'code', 'date', 'avg_temp',\n",
      "       'min_temp', 'max_temp', 'precipitation', 'max_wind_speed',\n",
      "       'most_wind_direction', 'avg_relative_humidity'],\n",
      "      dtype='object')\n"
     ]
    }
   ],
   "source": [
    "print(patient.columns)\n",
    "print(region.columns)\n",
    "print(weather.columns)\n",
    "print(patient_region.columns)\n",
    "print(patient_weather.columns)"
   ]
  },
  {
   "cell_type": "markdown",
   "metadata": {},
   "source": [
    "3. Wyrysowanie histogramu dla wybranej kolumny - wskaż jeden DataFrame z (patient, region, weather)  \n",
    "oraz numer kolumny "
   ]
  },
  {
   "cell_type": "code",
   "execution_count": 5,
   "metadata": {
    "scrolled": true
   },
   "outputs": [
    {
     "name": "stderr",
     "output_type": "stream",
     "text": [
      "/home/maciekg84/anaconda3/lib/python3.7/site-packages/numpy/lib/histograms.py:839: RuntimeWarning: invalid value encountered in greater_equal\n",
      "  keep = (tmp_a >= first_edge)\n",
      "/home/maciekg84/anaconda3/lib/python3.7/site-packages/numpy/lib/histograms.py:840: RuntimeWarning: invalid value encountered in less_equal\n",
      "  keep &= (tmp_a <= last_edge)\n"
     ]
    },
    {
     "data": {
      "image/png": "[encoded data removed]",
      "text/plain": [
       "<Figure size 432x288 with 1 Axes>"
      ]
     },
     "metadata": {
      "needs_background": "light"
     },
     "output_type": "display_data"
    }
   ],
   "source": [
    "plot_hist(patient, column = patient.columns[3])"
   ]
  },
  {
   "cell_type": "markdown",
   "metadata": {},
   "source": [
    "4. Przedstawienie podstawowych charakterystyk dla wybranej bazy - wskaż jeden DataFrame z (patient, region, weather)  "
   ]
  },
  {
   "cell_type": "code",
   "execution_count": 6,
   "metadata": {
    "scrolled": true
   },
   "outputs": [
    {
     "data": {
      "application/vnd.jupyter.widget-view+json": {
       "model_id": "fd50dbda60ea48c0a905047e672a8780",
       "version_major": 2,
       "version_minor": 0
      },
      "text/plain": [
       "interactive(children=(Dropdown(description='x', options=(('patient', 'patient'), ('region', 'region'), ('weath…"
      ]
     },
     "metadata": {},
     "output_type": "display_data"
    },
    {
     "data": {
      "text/plain": [
       "<function functions.description(x)>"
      ]
     },
     "execution_count": 6,
     "metadata": {},
     "output_type": "execute_result"
    }
   ],
   "source": [
    "interact(description, x=[('patient', 'patient'), ('region', 'region'), ('weather', 'weather')])"
   ]
  },
  {
   "cell_type": "markdown",
   "metadata": {},
   "source": [
    "5. Wyrysowanie boxplota dla wybranych kolumn - wskaż jeden DataFrame z (patient, region, weather), podaj nazwe kolumny grupujacej oraz kolumne z wartosciami"
   ]
  },
  {
   "cell_type": "code",
   "execution_count": 8,
   "metadata": {
    "scrolled": false
   },
   "outputs": [
    {
     "data": {
      "image/png": "[encoded data removed]",
      "text/plain": [
       "<Figure size 432x288 with 1 Axes>"
      ]
     },
     "metadata": {
      "needs_background": "light"
     },
     "output_type": "display_data"
    }
   ],
   "source": [
    "boxplot(patient, 'sex', 'birth_year')"
   ]
  },
  {
   "cell_type": "markdown",
   "metadata": {},
   "source": [
    "6. Wyrysowanie wykresu liniowego dla wybranego przedzialu czasowego - wskaż jeden DataFrame z (patient, region, weather), podaj nazwe kolumny z wartosciami oraz nazwe kolumny z datami. Opcjonalnie wybierz przedzial czasowy podajac argumenty start i end."
   ]
  },
  {
   "cell_type": "code",
   "execution_count": 9,
   "metadata": {
    "scrolled": false
   },
   "outputs": [
    {
     "data": {
      "image/png": "[encoded data removed]",
      "text/plain": [
       "<Figure size 432x288 with 1 Axes>"
      ]
     },
     "metadata": {
      "needs_background": "light"
     },
     "output_type": "display_data"
    }
   ],
   "source": [
    "# Argumenty 'start', 'end' sa opcjonalne\n",
    "time_plot(patient, 'patient_id', 'confirmed_date', start='2020-03-20', end='2020-04-01')"
   ]
  },
  {
   "cell_type": "markdown",
   "metadata": {},
   "source": [
    "7. Wyrysowanie wykresu liniowego dla wybranych kolumn - wskaż jeden DataFrame z (patient, region, weather), podaj nazwe kolumny dla osi x, nazwe kolumny grupujacej oraz koulmy z wartosciami. Opcjonalnie podaj wartosc agregatu (domyslnie ustawiony jako count)"
   ]
  },
  {
   "cell_type": "code",
   "execution_count": 10,
   "metadata": {
    "scrolled": true
   },
   "outputs": [
    {
     "data": {
      "text/plain": [
       "<matplotlib.axes._subplots.AxesSubplot at 0x7f194886a550>"
      ]
     },
     "execution_count": 10,
     "metadata": {},
     "output_type": "execute_result"
    },
    {
     "data": {
      "image/png": "[encoded data removed]",
      "text/plain": [
       "<Figure size 432x288 with 1 Axes>"
      ]
     },
     "metadata": {
      "needs_background": "light"
     },
     "output_type": "display_data"
    }
   ],
   "source": [
    "line_plot(patient, 'confirmed_date', 'sex', 'patient_id', 'count')"
   ]
  },
  {
   "cell_type": "markdown",
   "metadata": {},
   "source": [
    "8. Wyrysowanie barplota dla wybranych kolumn - wskaż jeden DataFrame z (patient, region, weather), podaj nazwe kolumny grupujacej oraz kolumne z wartosciami. Opcjonalnie podaj wartosc agregatu (domyslnie ustawiony jako count)"
   ]
  },
  {
   "cell_type": "code",
   "execution_count": 11,
   "metadata": {
    "scrolled": false
   },
   "outputs": [
    {
     "data": {
      "text/plain": [
       "<matplotlib.axes._subplots.AxesSubplot at 0x7f194877b790>"
      ]
     },
     "execution_count": 11,
     "metadata": {},
     "output_type": "execute_result"
    },
    {
     "data": {
      "image/png": "[encoded data removed]",
      "text/plain": [
       "<Figure size 432x288 with 1 Axes>"
      ]
     },
     "metadata": {
      "needs_background": "light"
     },
     "output_type": "display_data"
    }
   ],
   "source": [
    "bar_plot(patient, 'age', 'patient_id', 'sum')"
   ]
  },
  {
   "cell_type": "markdown",
   "metadata": {},
   "source": [
    "9. Obliczanie przedzialow ufnosci dla sredniej - wskaż jeden DataFrame z (patient, region, weather), podaj nazwe kolumny z wartosciami oraz poziom ufnosci"
   ]
  },
  {
   "cell_type": "code",
   "execution_count": 12,
   "metadata": {},
   "outputs": [
    {
     "name": "stderr",
     "output_type": "stream",
     "text": [
      "/home/bartosz/Pulpit/kurs_ds/projekt-sql/jdsz5-outdated/python/functions.py:235: FutureWarning: The pandas.datetime class is deprecated and will be removed from pandas in a future version. Import from datetime module instead.\n",
      "  f = lambda x: pd.datetime.now().year - x\n"
     ]
    },
    {
     "data": {
      "text/plain": [
       "'Srednia: 45.04326756663205. Przedzialy ufnosci: 44.30361575190735, 45.782919381356756'"
      ]
     },
     "execution_count": 12,
     "metadata": {},
     "output_type": "execute_result"
    }
   ],
   "source": [
    "przedzialy_ufnosci_srednia(obliczanie_wieku(patient, 'birth_year'), 0.95)"
   ]
  },
  {
   "cell_type": "markdown",
   "metadata": {},
   "source": [
    "10. Sprawdź normalność rozkładu"
   ]
  },
  {
   "cell_type": "code",
   "execution_count": 8,
   "metadata": {},
   "outputs": [
    {
     "name": "stderr",
     "output_type": "stream",
     "text": [
      "/home/maciekg84/anaconda3/lib/python3.7/site-packages/scipy/stats/_distn_infrastructure.py:903: RuntimeWarning: invalid value encountered in greater\n",
      "  return (a < x) & (x < b)\n",
      "/home/maciekg84/anaconda3/lib/python3.7/site-packages/scipy/stats/_distn_infrastructure.py:903: RuntimeWarning: invalid value encountered in less\n",
      "  return (a < x) & (x < b)\n",
      "/home/maciekg84/anaconda3/lib/python3.7/site-packages/scipy/stats/_distn_infrastructure.py:1827: RuntimeWarning: invalid value encountered in greater_equal\n",
      "  cond2 = (x >= np.asarray(_b)) & cond0\n"
     ]
    },
    {
     "name": "stdout",
     "output_type": "stream",
     "text": [
      "Dn = nan, p-value = nan, wartość p-value jest mniejsza od Dn\n",
      "Wartość pvalue jest niższa od statystyki Dn - nie można uznać, że próba pochodzi z rozkładu normalnego\n"
     ]
    },
    {
     "data": {
      "image/png": "[encoded data removed]",
      "text/plain": [
       "<Figure size 432x288 with 1 Axes>"
      ]
     },
     "metadata": {
      "needs_background": "light"
     },
     "output_type": "display_data"
    }
   ],
   "source": [
    "sprawdz_rozklad(weather.max_temp)"
   ]
  },
  {
   "cell_type": "markdown",
   "metadata": {},
   "source": [
    "11. Przeprowadź test 2 średnich - ilość chorych (rok urodzenia z podziałem na płci) "
   ]
  },
  {
   "cell_type": "code",
   "execution_count": 11,
   "metadata": {},
   "outputs": [
    {
     "name": "stdout",
     "output_type": "stream",
     "text": [
      "Wartość p-value 0.0 jest mniejsza niż wartość a 0.05\n",
      "Istnieją przesłanki do odrzucenia hipotezy zerowej na rzecz alternatywnej - średnia mx jest niższa od średniej my\n"
     ]
    }
   ],
   "source": [
    "porownaj_srednie(patient.loc[patient.sex == 'female', 'birth_year'], patient.loc[patient.sex == 'male', 'birth_year'])"
   ]
  }
 ],
 "metadata": {
  "kernelspec": {
   "display_name": "Python 3",
   "language": "python",
   "name": "python3"
  },
  "language_info": {
   "codemirror_mode": {
    "name": "ipython",
    "version": 3
   },
   "file_extension": ".py",
   "mimetype": "text/x-python",
   "name": "python",
   "nbconvert_exporter": "python",
   "pygments_lexer": "ipython3",
   "version": "3.7.4"
  }
 },
 "nbformat": 4,
 "nbformat_minor": 2
}
