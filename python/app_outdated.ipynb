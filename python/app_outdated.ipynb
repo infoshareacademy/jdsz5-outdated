{
 "cells": [
  {
   "cell_type": "code",
   "execution_count": 1,
   "metadata": {},
   "outputs": [],
   "source": [
    "from functions import Datasets, import_data, plot_hist, description"
   ]
  },
  {
   "cell_type": "code",
   "execution_count": 2,
   "metadata": {},
   "outputs": [
    {
     "name": "stdout",
     "output_type": "stream",
     "text": [
      "Dostępne datasety: patient, region, weather\n"
     ]
    }
   ],
   "source": [
    "print(Datasets())"
   ]
  },
  {
   "cell_type": "markdown",
   "metadata": {},
   "source": [
    "1. Pobranie danych "
   ]
  },
  {
   "cell_type": "code",
   "execution_count": 3,
   "metadata": {},
   "outputs": [],
   "source": [
    "patient = import_data(Datasets.patient)\n",
    "region = import_data(Datasets.region)\n",
    "weather = import_data(Datasets.weather)"
   ]
  },
  {
   "cell_type": "markdown",
   "metadata": {},
   "source": [
    "2. Dostępne kolumny"
   ]
  },
  {
   "cell_type": "code",
   "execution_count": 4,
   "metadata": {},
   "outputs": [
    {
     "name": "stdout",
     "output_type": "stream",
     "text": [
      "Index(['patient_id', 'global_num', 'sex', 'birth_year', 'age', 'country',\n",
      "       'province', 'city', 'disease', 'infection_case', 'infection_order',\n",
      "       'infected_by', 'contact_number', 'symptom_onset_date', 'confirmed_date',\n",
      "       'released_date', 'deceased_date', 'state'],\n",
      "      dtype='object')\n",
      "Index(['code', 'province', 'city', 'latitude', 'longitude',\n",
      "       'elementary_school_count', 'kindergarten_count', 'university_count',\n",
      "       'academy_ratio', 'elderly_population_ratio', 'elderly_alone_ratio',\n",
      "       'nursing_home_count'],\n",
      "      dtype='object')\n",
      "Index(['code', 'province', 'date', 'avg_temp', 'min_temp', 'max_temp',\n",
      "       'precipitation', 'max_wind_speed', 'most_wind_direction',\n",
      "       'avg_relative_humidity'],\n",
      "      dtype='object')\n"
     ]
    }
   ],
   "source": [
    "print(patient.columns)\n",
    "print(region.columns)\n",
    "print(weather.columns)"
   ]
  },
  {
   "cell_type": "markdown",
   "metadata": {},
   "source": [
    "3. Wyrysowanie histogramu dla wybranej kolumny - wskaż jeden DataFrame z (patient, region, weather)  \n",
    "oraz numer kolumny "
   ]
  },
  {
   "cell_type": "code",
   "execution_count": 5,
   "metadata": {
    "scrolled": false
   },
   "outputs": [
    {
     "name": "stderr",
     "output_type": "stream",
     "text": [
      "C:\\ProgramData\\Anaconda3\\lib\\site-packages\\numpy\\lib\\histograms.py:839: RuntimeWarning: invalid value encountered in greater_equal\n",
      "  keep = (tmp_a >= first_edge)\n",
      "C:\\ProgramData\\Anaconda3\\lib\\site-packages\\numpy\\lib\\histograms.py:840: RuntimeWarning: invalid value encountered in less_equal\n",
      "  keep &= (tmp_a <= last_edge)\n"
     ]
    },
    {
     "data": {
      "image/png": "[encoded data removed]",
      "text/plain": [
       "<Figure size 432x288 with 1 Axes>"
      ]
     },
     "metadata": {
      "needs_background": "light"
     },
     "output_type": "display_data"
    }
   ],
   "source": [
    "plot_hist(patient, column = patient.columns[3])"
   ]
  },
  {
   "cell_type": "markdown",
   "metadata": {},
   "source": [
    "4. Przedstawienie podstawowych charakterystyk dla wybranej bazy - wskaż jeden DataFrame z (patient, region, weather)  "
   ]
  },
  {
   "cell_type": "code",
   "execution_count": 8,
   "metadata": {},
   "outputs": [
    {
     "data": {
      "text/html": [
       "<div>\n",
       "<style scoped>\n",
       "    .dataframe tbody tr th:only-of-type {\n",
       "        vertical-align: middle;\n",
       "    }\n",
       "\n",
       "    .dataframe tbody tr th {\n",
       "        vertical-align: top;\n",
       "    }\n",
       "\n",
       "    .dataframe thead th {\n",
       "        text-align: right;\n",
       "    }\n",
       "</style>\n",
       "<table border=\"1\" class=\"dataframe\">\n",
       "  <thead>\n",
       "    <tr style=\"text-align: right;\">\n",
       "      <th></th>\n",
       "      <th>code</th>\n",
       "      <th>latitude</th>\n",
       "      <th>longitude</th>\n",
       "      <th>elementary_school_count</th>\n",
       "      <th>kindergarten_count</th>\n",
       "      <th>university_count</th>\n",
       "      <th>academy_ratio</th>\n",
       "      <th>elderly_population_ratio</th>\n",
       "      <th>elderly_alone_ratio</th>\n",
       "      <th>nursing_home_count</th>\n",
       "    </tr>\n",
       "  </thead>\n",
       "  <tbody>\n",
       "    <tr>\n",
       "      <th>count</th>\n",
       "      <td>244.000000</td>\n",
       "      <td>244.000000</td>\n",
       "      <td>244.000000</td>\n",
       "      <td>244.000000</td>\n",
       "      <td>244.000000</td>\n",
       "      <td>244.000000</td>\n",
       "      <td>244.000000</td>\n",
       "      <td>244.000000</td>\n",
       "      <td>244.000000</td>\n",
       "      <td>244.000000</td>\n",
       "    </tr>\n",
       "    <tr>\n",
       "      <th>mean</th>\n",
       "      <td>32912.090164</td>\n",
       "      <td>36.396996</td>\n",
       "      <td>127.661401</td>\n",
       "      <td>74.180328</td>\n",
       "      <td>107.901639</td>\n",
       "      <td>4.151639</td>\n",
       "      <td>1.294754</td>\n",
       "      <td>20.923730</td>\n",
       "      <td>10.644672</td>\n",
       "      <td>1159.258197</td>\n",
       "    </tr>\n",
       "    <tr>\n",
       "      <th>std</th>\n",
       "      <td>19373.349736</td>\n",
       "      <td>1.060304</td>\n",
       "      <td>0.904781</td>\n",
       "      <td>402.713482</td>\n",
       "      <td>588.788320</td>\n",
       "      <td>22.513041</td>\n",
       "      <td>0.592898</td>\n",
       "      <td>8.087428</td>\n",
       "      <td>5.604886</td>\n",
       "      <td>6384.185085</td>\n",
       "    </tr>\n",
       "    <tr>\n",
       "      <th>min</th>\n",
       "      <td>10000.000000</td>\n",
       "      <td>33.488936</td>\n",
       "      <td>126.263554</td>\n",
       "      <td>4.000000</td>\n",
       "      <td>4.000000</td>\n",
       "      <td>0.000000</td>\n",
       "      <td>0.190000</td>\n",
       "      <td>7.690000</td>\n",
       "      <td>3.300000</td>\n",
       "      <td>11.000000</td>\n",
       "    </tr>\n",
       "    <tr>\n",
       "      <th>25%</th>\n",
       "      <td>14027.500000</td>\n",
       "      <td>35.405263</td>\n",
       "      <td>126.927663</td>\n",
       "      <td>14.750000</td>\n",
       "      <td>16.000000</td>\n",
       "      <td>0.000000</td>\n",
       "      <td>0.870000</td>\n",
       "      <td>14.117500</td>\n",
       "      <td>6.100000</td>\n",
       "      <td>111.000000</td>\n",
       "    </tr>\n",
       "    <tr>\n",
       "      <th>50%</th>\n",
       "      <td>30075.000000</td>\n",
       "      <td>36.386601</td>\n",
       "      <td>127.384250</td>\n",
       "      <td>22.000000</td>\n",
       "      <td>31.000000</td>\n",
       "      <td>1.000000</td>\n",
       "      <td>1.270000</td>\n",
       "      <td>18.530000</td>\n",
       "      <td>8.750000</td>\n",
       "      <td>300.000000</td>\n",
       "    </tr>\n",
       "    <tr>\n",
       "      <th>75%</th>\n",
       "      <td>51062.500000</td>\n",
       "      <td>37.466119</td>\n",
       "      <td>128.473953</td>\n",
       "      <td>36.250000</td>\n",
       "      <td>55.250000</td>\n",
       "      <td>3.000000</td>\n",
       "      <td>1.612500</td>\n",
       "      <td>27.262500</td>\n",
       "      <td>14.625000</td>\n",
       "      <td>694.500000</td>\n",
       "    </tr>\n",
       "    <tr>\n",
       "      <th>max</th>\n",
       "      <td>80000.000000</td>\n",
       "      <td>38.380571</td>\n",
       "      <td>130.905883</td>\n",
       "      <td>6087.000000</td>\n",
       "      <td>8837.000000</td>\n",
       "      <td>340.000000</td>\n",
       "      <td>4.180000</td>\n",
       "      <td>40.260000</td>\n",
       "      <td>24.700000</td>\n",
       "      <td>94865.000000</td>\n",
       "    </tr>\n",
       "  </tbody>\n",
       "</table>\n",
       "</div>"
      ],
      "text/plain": [
       "               code    latitude   longitude  elementary_school_count  \\\n",
       "count    244.000000  244.000000  244.000000               244.000000   \n",
       "mean   32912.090164   36.396996  127.661401                74.180328   \n",
       "std    19373.349736    1.060304    0.904781               402.713482   \n",
       "min    10000.000000   33.488936  126.263554                 4.000000   \n",
       "25%    14027.500000   35.405263  126.927663                14.750000   \n",
       "50%    30075.000000   36.386601  127.384250                22.000000   \n",
       "75%    51062.500000   37.466119  128.473953                36.250000   \n",
       "max    80000.000000   38.380571  130.905883              6087.000000   \n",
       "\n",
       "       kindergarten_count  university_count  academy_ratio  \\\n",
       "count          244.000000        244.000000     244.000000   \n",
       "mean           107.901639          4.151639       1.294754   \n",
       "std            588.788320         22.513041       0.592898   \n",
       "min              4.000000          0.000000       0.190000   \n",
       "25%             16.000000          0.000000       0.870000   \n",
       "50%             31.000000          1.000000       1.270000   \n",
       "75%             55.250000          3.000000       1.612500   \n",
       "max           8837.000000        340.000000       4.180000   \n",
       "\n",
       "       elderly_population_ratio  elderly_alone_ratio  nursing_home_count  \n",
       "count                244.000000           244.000000          244.000000  \n",
       "mean                  20.923730            10.644672         1159.258197  \n",
       "std                    8.087428             5.604886         6384.185085  \n",
       "min                    7.690000             3.300000           11.000000  \n",
       "25%                   14.117500             6.100000          111.000000  \n",
       "50%                   18.530000             8.750000          300.000000  \n",
       "75%                   27.262500            14.625000          694.500000  \n",
       "max                   40.260000            24.700000        94865.000000  "
      ]
     },
     "execution_count": 8,
     "metadata": {},
     "output_type": "execute_result"
    }
   ],
   "source": [
    "description(region)"
   ]
  }
 ],
 "metadata": {
  "kernelspec": {
   "display_name": "Python 3",
   "language": "python",
   "name": "python3"
  },
  "language_info": {
   "codemirror_mode": {
    "name": "ipython",
    "version": 3
   },
   "file_extension": ".py",
   "mimetype": "text/x-python",
   "name": "python",
   "nbconvert_exporter": "python",
   "pygments_lexer": "ipython3",
   "version": "3.7.6"
  }
 },
 "nbformat": 4,
 "nbformat_minor": 2
}
