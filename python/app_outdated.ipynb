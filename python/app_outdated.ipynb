{
 "cells": [
  {
   "cell_type": "code",
   "execution_count": 1,
   "metadata": {},
   "outputs": [],
   "source": [
    "from functions import Datasets, import_data, plot_hist"
   ]
  },
  {
   "cell_type": "code",
   "execution_count": 2,
   "metadata": {},
   "outputs": [
    {
     "name": "stdout",
     "output_type": "stream",
     "text": [
      "Dostępne datasety: patient, region, weather\n"
     ]
    }
   ],
   "source": [
    "print(Datasets())"
   ]
  },
  {
   "cell_type": "markdown",
   "metadata": {},
   "source": [
    "1. Pobranie danych "
   ]
  },
  {
   "cell_type": "code",
   "execution_count": 9,
   "metadata": {},
   "outputs": [],
   "source": [
    "patient = import_data(Datasets.patient)\n",
    "region = import_data(Datasets.region)\n",
    "weather = import_data(Datasets.weather)"
   ]
  },
  {
   "cell_type": "markdown",
   "metadata": {},
   "source": [
    "2. Dostępne kolumny"
   ]
  },
  {
   "cell_type": "code",
   "execution_count": 21,
   "metadata": {},
   "outputs": [
    {
     "name": "stdout",
     "output_type": "stream",
     "text": [
      "Index(['patient_id', 'global_num', 'sex', 'birth_year', 'age', 'country',\n",
      "       'province', 'city', 'disease', 'infection_case', 'infection_order',\n",
      "       'infected_by', 'contact_number', 'symptom_onset_date', 'confirmed_date',\n",
      "       'released_date', 'deceased_date', 'state'],\n",
      "      dtype='object')\n",
      "Index(['code', 'province', 'city', 'latitude', 'longitude',\n",
      "       'elementary_school_count', 'kindergarten_count', 'university_count',\n",
      "       'academy_ratio', 'elderly_population_ratio', 'elderly_alone_ratio',\n",
      "       'nursing_home_count'],\n",
      "      dtype='object')\n",
      "Index(['code', 'province', 'date', 'avg_temp', 'min_temp', 'max_temp',\n",
      "       'precipitation', 'max_wind_speed', 'most_wind_direction',\n",
      "       'avg_relative_humidity'],\n",
      "      dtype='object')\n"
     ]
    }
   ],
   "source": [
    "print(patient.columns)\n",
    "print(region.columns)\n",
    "print(weather.columns)"
   ]
  },
  {
   "cell_type": "markdown",
   "metadata": {},
   "source": [
    "3. Wyrysowanie histogramu dla wybranej kolumny - wskaż jeden DataFrame z (patient, region, weather)  \n",
    "oraz numer kolumny "
   ]
  },
  {
   "cell_type": "code",
   "execution_count": 47,
   "metadata": {},
   "outputs": [
    {
     "data": {
      "image/png": "[encoded data removed]",
      "text/plain": [
       "<Figure size 432x288 with 1 Axes>"
      ]
     },
     "metadata": {
      "needs_background": "light"
     },
     "output_type": "display_data"
    }
   ],
   "source": [
    "plot_hist(patient, column = patient.columns[1])"
   ]
  }
 ],
 "metadata": {
  "kernelspec": {
   "display_name": "Python 3",
   "language": "python",
   "name": "python3"
  },
  "language_info": {
   "codemirror_mode": {
    "name": "ipython",
    "version": 3
   },
   "file_extension": ".py",
   "mimetype": "text/x-python",
   "name": "python",
   "nbconvert_exporter": "python",
   "pygments_lexer": "ipython3",
   "version": "3.7.4"
  }
 },
 "nbformat": 4,
 "nbformat_minor": 2
}
