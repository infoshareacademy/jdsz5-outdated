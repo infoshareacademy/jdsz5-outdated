{
 "cells": [
  {
   "cell_type": "code",
   "execution_count": 2,
   "metadata": {},
   "outputs": [],
   "source": [
    "import pandas as pd\n",
    "import numpy as np\n",
    "import pandas.util.testing as tm\n",
    "import seaborn as sns\n",
    "sns.set()\n",
    "from pandas_profiling import ProfileReport\n",
    "import matplotlib.pyplot as plt\n",
    "from sklearn.model_selection import train_test_split, RandomizedSearchCV, GridSearchCV\n",
    "from sklearn.ensemble import RandomForestRegressor\n",
    "from sklearn.svm import SVR\n",
    "from sklearn.preprocessing import StandardScaler, RobustScaler\n",
    "from sklearn.linear_model import LinearRegression\n",
    "from xgboost import XGBRegressor\n",
    "from sklearn.neighbors import KNeighborsRegressor\n",
    "from sklearn.metrics import mean_squared_error, mean_absolute_error \n",
    "import os\n",
    "import datetime \n",
    "import math\n",
    "import re"
   ]
  },
  {
   "cell_type": "markdown",
   "metadata": {},
   "source": [
    "__OPIS DANYCH__ /Dorota"
   ]
  },
  {
   "cell_type": "code",
   "execution_count": null,
   "metadata": {},
   "outputs": [],
   "source": [
    "f = open(\"data/data_description.txt\", \"r\")\n",
    "print(f.read())"
   ]
  },
  {
   "cell_type": "markdown",
   "metadata": {},
   "source": [
    "__IMPORT I BADANIE DANYCH__ /Maciek"
   ]
  },
  {
   "cell_type": "code",
   "execution_count": null,
   "metadata": {},
   "outputs": [],
   "source": [
    "#import i ustawienie formatów\n",
    "df = pd.read_csv('AmesHousing.csv')\n",
    "pd.set_option('display.max_columns', 2000)\n",
    "pd.set_option('display.max_rows', 85)\n",
    "pd.options.display.float_format = '{:20.2f}'.format"
   ]
  },
  {
   "cell_type": "code",
   "execution_count": null,
   "metadata": {},
   "outputs": [],
   "source": [
    "df.head(10)"
   ]
  },
  {
   "cell_type": "code",
   "execution_count": null,
   "metadata": {},
   "outputs": [],
   "source": [
    "#ustawienie indexu\n",
    "df = df.set_index(\"Order\")"
   ]
  },
  {
   "cell_type": "code",
   "execution_count": null,
   "metadata": {},
   "outputs": [],
   "source": [
    "print(\"Shape of df: \", df.shape)"
   ]
  },
  {
   "cell_type": "code",
   "execution_count": null,
   "metadata": {},
   "outputs": [],
   "source": [
    "df.info()"
   ]
  },
  {
   "cell_type": "code",
   "execution_count": null,
   "metadata": {},
   "outputs": [],
   "source": [
    "ProfileReport(df, title='Opis danych', minimal=True)\n",
    "#profile.to_file(output_file=\"raport_min.html\") #możliwość wyrzucenia raportu do pliku HTML"
   ]
  },
  {
   "cell_type": "code",
   "execution_count": null,
   "metadata": {},
   "outputs": [],
   "source": [
    "# opis danych numerycznych\n",
    "df.describe(include=[np.number], percentiles=[.5]) \\\n",
    "    .transpose().drop(\"count\", axis=1)"
   ]
  },
  {
   "cell_type": "code",
   "execution_count": null,
   "metadata": {},
   "outputs": [],
   "source": [
    "# dane kategoryczne\n",
    "obj = list(df.loc[:,df.dtypes == 'object'].columns.values)\n",
    "obj"
   ]
  },
  {
   "cell_type": "code",
   "execution_count": null,
   "metadata": {},
   "outputs": [],
   "source": [
    "# dane kategoryczne opis kategorii\n",
    "df.describe(include=[np.object]).transpose() \\\n",
    "    .drop(\"count\", axis=1)"
   ]
  },
  {
   "cell_type": "markdown",
   "metadata": {},
   "source": [
    "__CENY DOMÓW__"
   ]
  },
  {
   "cell_type": "code",
   "execution_count": null,
   "metadata": {},
   "outputs": [],
   "source": [
    "df['SalePrice'].describe()"
   ]
  },
  {
   "cell_type": "code",
   "execution_count": null,
   "metadata": {},
   "outputs": [],
   "source": [
    "plt.figure(figsize=(10,8))\n",
    "bar = sns.distplot(df['SalePrice'])\n",
    "bar.legend([\"Skewness: {:.2f}\".format(df['SalePrice'].skew())]);"
   ]
  },
  {
   "cell_type": "markdown",
   "metadata": {},
   "source": [
    "__MAPA KORELACJI__"
   ]
  },
  {
   "cell_type": "code",
   "execution_count": null,
   "metadata": {},
   "outputs": [],
   "source": [
    "plt.figure(figsize=(30,30))\n",
    "ax = sns.heatmap(df.corr(), cmap = \"coolwarm\", annot=True, linewidth=2)"
   ]
  },
  {
   "cell_type": "code",
   "execution_count": null,
   "metadata": {},
   "outputs": [],
   "source": [
    "# zmienne o wysokim współczynniku korelacji\n",
    "high_corr = df.corr()\n",
    "high_corr_features = high_corr.index[abs(high_corr[\"SalePrice\"]) >= 0.5] \n",
    "high_corr_features"
   ]
  },
  {
   "cell_type": "code",
   "execution_count": null,
   "metadata": {},
   "outputs": [],
   "source": [
    "# mapa zmiennych o wysokim współczynniku korelacji\n",
    "plt.figure(figsize=(20,8))\n",
    "ax = sns.heatmap(df[high_corr_features].corr(), cmap = \"coolwarm\", annot=True, linewidth=3)"
   ]
  },
  {
   "cell_type": "code",
   "execution_count": null,
   "metadata": {},
   "outputs": [],
   "source": [
    "# wysoka korelacja a cena\n",
    "plt.figure(figsize=(16,9))\n",
    "for i in range(len(high_corr_features)):\n",
    "    if i <= 9:\n",
    "        plt.subplot(3,4,i+1)\n",
    "        plt.subplots_adjust(hspace = 0.5,wspace = 0.5)\n",
    "        sns.regplot(data=df, x = high_corr_features[i], y = 'SalePrice')"
   ]
  },
  {
   "cell_type": "markdown",
   "metadata": {},
   "source": [
    "__BRAKI W DANYCH - UZUPŁNIENIE DANYCH__"
   ]
  },
  {
   "cell_type": "code",
   "execution_count": null,
   "metadata": {},
   "outputs": [],
   "source": [
    "#mapa braków w danych\n",
    "plt.figure(figsize=(30,15))\n",
    "sns.heatmap(df.isnull())"
   ]
  },
  {
   "cell_type": "code",
   "execution_count": null,
   "metadata": {},
   "outputs": [],
   "source": [
    "#braki danych ilościowo i procentowo\n",
    "num_missing = df.isna().sum()\n",
    "num_missing = num_missing[num_missing > 0]\n",
    "percent_missing = num_missing * 100 / df.shape[0]\n",
    "pd.concat([num_missing, percent_missing], axis=1, \n",
    "          keys=['Missing Values', 'Percentage']).\\\n",
    "          sort_values(by=\"Missing Values\", ascending=False)"
   ]
  },
  {
   "cell_type": "code",
   "execution_count": null,
   "metadata": {},
   "outputs": [],
   "source": [
    "missing_col = df.columns[df.isnull().any()]\n",
    "missing_col"
   ]
  },
  {
   "cell_type": "code",
   "execution_count": null,
   "metadata": {},
   "outputs": [],
   "source": [
    "# dane, gdzie brak danych oznacza 0\n",
    "df[\"Pool QC\"].fillna(\"No Pool\", inplace=True)\n",
    "df['Misc Feature'].fillna('No feature', inplace=True)\n",
    "df['Alley'].fillna('No Alley', inplace=True)\n",
    "df['Fence'].fillna('No Fence', inplace=True)\n",
    "df['Fireplace Qu'].fillna('No Fireplace', inplace=True)\n",
    "df['Lot Frontage'].fillna(0, inplace=True)\n",
    "df['Mas Vnr Area'].fillna(0, inplace=True)\n",
    "df['Mas Vnr Type'].fillna(\"None\", inplace=True)\n",
    "df['Electrical'].fillna(df['Electrical'].mode()[0], inplace=True)"
   ]
  },
  {
   "cell_type": "code",
   "execution_count": null,
   "metadata": {},
   "outputs": [],
   "source": [
    "# podgląd danych\n",
    "garage_columns = [col for col in df.columns if col.startswith(\"Garage\")]\n",
    "df[df['Garage Cars'].isna()][garage_columns]"
   ]
  },
  {
   "cell_type": "code",
   "execution_count": null,
   "metadata": {},
   "outputs": [],
   "source": [
    "# podgląd danych\n",
    "df[~pd.isna(df['Garage Type']) & \n",
    "        pd.isna(df['Garage Qual'])][garage_columns]"
   ]
  },
  {
   "cell_type": "code",
   "execution_count": null,
   "metadata": {},
   "outputs": [],
   "source": [
    "# uzupełnienie danych\n",
    "df['Garage Cars'].fillna(0, inplace=True)\n",
    "df['Garage Area'].fillna(0, inplace=True)\n",
    "\n",
    "df.loc[~pd.isna(df['Garage Type']) & \n",
    "            pd.isna(df['Garage Qual']), \"Garage Type\"] = \"No Garage\"\n",
    "\n",
    "for col in ['Garage Type', 'Garage Finish', 'Garage Qual', 'Garage Cond']:\n",
    "    df[col].fillna('No Garage', inplace=True)\n",
    "    \n",
    "df['Garage Yr Blt'].fillna(0, inplace=True)"
   ]
  },
  {
   "cell_type": "code",
   "execution_count": null,
   "metadata": {},
   "outputs": [],
   "source": [
    "#podgląd danych\n",
    "bsmt_columns = [col for col in df.columns if \"Bsmt\" in col]\n",
    "df[df['Bsmt Half Bath'].isna()][bsmt_columns]"
   ]
  },
  {
   "cell_type": "code",
   "execution_count": null,
   "metadata": {},
   "outputs": [],
   "source": [
    "# podgląd danych\n",
    "df[~pd.isna(df['Bsmt Cond']) & \n",
    "        pd.isna(df['Bsmt Exposure'])][bsmt_columns]"
   ]
  },
  {
   "cell_type": "code",
   "execution_count": null,
   "metadata": {},
   "outputs": [],
   "source": [
    "# podgląd danych\n",
    "df[~pd.isna(df['Bsmt Cond']) & \n",
    "        pd.isna(df['BsmtFin Type 2'])][bsmt_columns]"
   ]
  },
  {
   "cell_type": "code",
   "execution_count": null,
   "metadata": {},
   "outputs": [],
   "source": [
    "# uzupełnienie danych\n",
    "for col in [\"Bsmt Half Bath\", \"Bsmt Full Bath\", \"Total Bsmt SF\", \n",
    "            \"Bsmt Unf SF\", \"BsmtFin SF 2\", \"BsmtFin SF 1\"]:\n",
    "    df[col].fillna(0, inplace=True)\n",
    "\n",
    "df.loc[~pd.isna(df['Bsmt Cond']) & \n",
    "            pd.isna(df['Bsmt Exposure']), \"Bsmt Exposure\"] = \"No\"\n",
    "df.loc[~pd.isna(df['Bsmt Cond']) & \n",
    "            pd.isna(df['BsmtFin Type 2']), \"BsmtFin Type 2\"] = \"Unf\"\n",
    "\n",
    "for col in [\"Bsmt Exposure\", \"BsmtFin Type 2\", \n",
    "            \"BsmtFin Type 1\", \"Bsmt Qual\", \"Bsmt Cond\"]:\n",
    "    df[col].fillna(\"No Basement\", inplace=True)"
   ]
  },
  {
   "cell_type": "code",
   "execution_count": null,
   "metadata": {},
   "outputs": [],
   "source": [
    "# usunięcie kolumny PID (numer)\n",
    "df.drop(['PID'], axis=1, inplace=True)"
   ]
  },
  {
   "cell_type": "code",
   "execution_count": null,
   "metadata": {},
   "outputs": [],
   "source": [
    "df.isna().values.sum()"
   ]
  },
  {
   "cell_type": "markdown",
   "metadata": {},
   "source": [
    "__Zamiana zmiennych kategorczynych__"
   ]
  },
  {
   "cell_type": "code",
   "execution_count": 25,
   "metadata": {},
   "outputs": [],
   "source": [
    "mp = {'Ex':4,'Gd':3,'TA':2,'Fa':1,'Po':0}\n",
    "df['Exter Qual'] = df['Exter Qual'].map(mp)\n",
    "df['Exter Cond'] = df['Exter Cond'].map(mp)\n",
    "df['Heating QC'] = df['Heating QC'].map(mp)\n",
    "df['Kitchen Qual'] = df['Kitchen Qual'].map(mp)\n",
    "\n",
    "mp = {'Ex':5,'Gd':4,'TA':3,'Fa':2,'Po':1,'No Basement':0}\n",
    "df['Bsmt Qual'] = df['Bsmt Qual'].map(mp)\n",
    "df['Bsmt Cond'] = df['Bsmt Cond'].map(mp)\n",
    "df['Bsmt Exposure'] = df['Bsmt Exposure'].map(\n",
    "    {'Gd':4,'Av':3,'Mn':2,'No':1,'No Basement':0})\n",
    "\n",
    "mp = {'GLQ':6,'ALQ':5,'BLQ':4,'Rec':3,'LwQ':2,'Unf':1,'No Basement':0}\n",
    "df['BsmtFin Type 1'] = df['BsmtFin Type 1'].map(mp)\n",
    "df['BsmtFin Type 2'] = df['BsmtFin Type 2'].map(mp)\n",
    "\n",
    "df['Central Air'] = df['Central Air'].map({'Y':1,'N':0})\n",
    "df['Functional'] = df['Functional'].map(\n",
    "    {'Typ':7,'Min1':6,'Min2':5,'Mod':4,'Maj1':3,\n",
    "     'Maj2':2,'Sev':1,'Sal':0})\n",
    "df['Fireplace Qu'] = df['Fireplace Qu'].map(\n",
    "    {'Ex':5,'Gd':4,'TA':3,'Fa':2,'Po':1,'No Fireplace':0})\n",
    "df['Garage Finish'] = df['Garage Finish'].map(\n",
    "    {'Fin':3,'RFn':2,'Unf':1,'No Garage':0})\n",
    "df['Garage Qual'] = df['Garage Qual'].map(\n",
    "    {'Ex':5,'Gd':4,'TA':3,'Fa':2,'Po':1,'No Garage':0})\n",
    "df['Garage Cond'] = df['Garage Cond'].map(\n",
    "    {'Ex':5,'Gd':4,'TA':3,'Fa':2,'Po':1,'No Garage':0})\n",
    "df['Pool QC'] = df['Pool QC'].map(\n",
    "    {'Ex':4,'Gd':3,'TA':2,'Fa':1,'No Pool':0})\n",
    "df['Land Slope'] = df['Land Slope'].map(\n",
    "    {'Sev': 2, 'Mod': 1, 'Gtl': 0})\n",
    "df['Fence'] = df['Fence'].map(\n",
    "    {'GdPrv':4,'MnPrv':3,'GdWo':2,'MnWw':1,'No Fence':0})"
   ]
  },
  {
   "cell_type": "code",
   "execution_count": 26,
   "metadata": {},
   "outputs": [],
   "source": [
    "df = pd.get_dummies(df)"
   ]
  },
  {
   "cell_type": "markdown",
   "metadata": {},
   "source": [
    "__standaryzacja danych__"
   ]
  },
  {
   "cell_type": "code",
   "execution_count": 27,
   "metadata": {},
   "outputs": [],
   "source": [
    "scaler = StandardScaler()\n",
    "df.loc[:, df.columns != 'SalePrice'] = scaler.fit_transform(\n",
    "    df.loc[:, df.columns != 'SalePrice'])"
   ]
  },
  {
   "cell_type": "markdown",
   "metadata": {},
   "source": [
    "__Podział na x i y i zbiory treningowy i testowy__"
   ]
  },
  {
   "cell_type": "code",
   "execution_count": 28,
   "metadata": {},
   "outputs": [],
   "source": [
    "y = df['SalePrice']\n",
    "X = df.drop(['SalePrice'], axis=1)"
   ]
  },
  {
   "cell_type": "code",
   "execution_count": 29,
   "metadata": {},
   "outputs": [],
   "source": [
    "X_train, X_test, y_train, y_test = train_test_split(X, y, test_size = .25, random_state=3)"
   ]
  },
  {
   "cell_type": "markdown",
   "metadata": {},
   "source": [
    "## Zapisywanie wyników"
   ]
  },
  {
   "cell_type": "code",
   "execution_count": 30,
   "metadata": {},
   "outputs": [],
   "source": [
    "time_string = datetime.datetime.now().strftime('%Y%m%d_%H%M%S')"
   ]
  },
  {
   "cell_type": "code",
   "execution_count": 31,
   "metadata": {},
   "outputs": [],
   "source": [
    "def check_dir(name, path):\n",
    "    try:\n",
    "        os.mkdir(\"{0}/{1}\".format(path,name))\n",
    "    except:\n",
    "        print('dir exists')"
   ]
  },
  {
   "cell_type": "code",
   "execution_count": 32,
   "metadata": {},
   "outputs": [],
   "source": [
    "def cv_df(grid):\n",
    "    cv = grid.n_splits_\n",
    "    results = grid.cv_results_\n",
    "    #### ------ nazwy parametrow\n",
    "    names = list(results['params'][0].keys())\n",
    "    ###----- dataframe z zestawem parametrów\n",
    "    param_dict = {}\n",
    "    for n in names:\n",
    "        par_list = [ results['params'][i][n] for i in range(len(results['params'])) ]\n",
    "        param_dict[n] = par_list\n",
    "    param_pd = pd.DataFrame(param_dict)\n",
    "        \n",
    "    ##------ dodawanie wyników z każdego folda do wynikowego DF\n",
    "    results_pd= pd.DataFrame()\n",
    "    for i in range(cv):\n",
    "        tmp = param_pd.copy()\n",
    "        tmp['score'] = results['split{0}_test_score'.format(i)]\n",
    "        results_pd = results_pd.append(tmp)\n",
    "        \n",
    "    time_string = datetime.datetime.now().strftime('%Y%m%d_%H%M%S')\n",
    "    exp = \"[^(]*\"\n",
    "    \n",
    "    name = (re.search(exp, str(grid.estimator))).group()\n",
    "    \n",
    "    results_pd.to_csv(f'results//{name}_{time_string}.csv')\n",
    "    return results_pd"
   ]
  },
  {
   "cell_type": "markdown",
   "metadata": {},
   "source": [
    "# Linear Regression"
   ]
  },
  {
   "cell_type": "code",
   "execution_count": 120,
   "metadata": {},
   "outputs": [
    {
     "data": {
      "text/html": [
       "<div>\n",
       "<style scoped>\n",
       "    .dataframe tbody tr th:only-of-type {\n",
       "        vertical-align: middle;\n",
       "    }\n",
       "\n",
       "    .dataframe tbody tr th {\n",
       "        vertical-align: top;\n",
       "    }\n",
       "\n",
       "    .dataframe thead th {\n",
       "        text-align: right;\n",
       "    }\n",
       "</style>\n",
       "<table border=\"1\" class=\"dataframe\">\n",
       "  <thead>\n",
       "    <tr style=\"text-align: right;\">\n",
       "      <th></th>\n",
       "      <th>n_jobs</th>\n",
       "      <th>score</th>\n",
       "    </tr>\n",
       "  </thead>\n",
       "  <tbody>\n",
       "    <tr>\n",
       "      <th>0</th>\n",
       "      <td>1</td>\n",
       "      <td>-2765112137827198619877376.00</td>\n",
       "    </tr>\n",
       "    <tr>\n",
       "      <th>1</th>\n",
       "      <td>3</td>\n",
       "      <td>-2765112137827198619877376.00</td>\n",
       "    </tr>\n",
       "    <tr>\n",
       "      <th>2</th>\n",
       "      <td>5</td>\n",
       "      <td>-2765112137827198619877376.00</td>\n",
       "    </tr>\n",
       "    <tr>\n",
       "      <th>3</th>\n",
       "      <td>10</td>\n",
       "      <td>-2765112137827198619877376.00</td>\n",
       "    </tr>\n",
       "    <tr>\n",
       "      <th>4</th>\n",
       "      <td>15</td>\n",
       "      <td>-2765112137827198619877376.00</td>\n",
       "    </tr>\n",
       "    <tr>\n",
       "      <th>5</th>\n",
       "      <td>20</td>\n",
       "      <td>-2765112137827198619877376.00</td>\n",
       "    </tr>\n",
       "    <tr>\n",
       "      <th>6</th>\n",
       "      <td>30</td>\n",
       "      <td>-2765112137827198619877376.00</td>\n",
       "    </tr>\n",
       "    <tr>\n",
       "      <th>7</th>\n",
       "      <td>40</td>\n",
       "      <td>-2765112137827198619877376.00</td>\n",
       "    </tr>\n",
       "    <tr>\n",
       "      <th>8</th>\n",
       "      <td>50</td>\n",
       "      <td>-2765112137827198619877376.00</td>\n",
       "    </tr>\n",
       "    <tr>\n",
       "      <th>9</th>\n",
       "      <td>60</td>\n",
       "      <td>-2765112137827198619877376.00</td>\n",
       "    </tr>\n",
       "    <tr>\n",
       "      <th>0</th>\n",
       "      <td>1</td>\n",
       "      <td>-2044357372913150066688.00</td>\n",
       "    </tr>\n",
       "    <tr>\n",
       "      <th>1</th>\n",
       "      <td>3</td>\n",
       "      <td>-2044357372913150066688.00</td>\n",
       "    </tr>\n",
       "    <tr>\n",
       "      <th>2</th>\n",
       "      <td>5</td>\n",
       "      <td>-2044357372913150066688.00</td>\n",
       "    </tr>\n",
       "    <tr>\n",
       "      <th>3</th>\n",
       "      <td>10</td>\n",
       "      <td>-2044357372913150066688.00</td>\n",
       "    </tr>\n",
       "    <tr>\n",
       "      <th>4</th>\n",
       "      <td>15</td>\n",
       "      <td>-2044357372913150066688.00</td>\n",
       "    </tr>\n",
       "    <tr>\n",
       "      <th>5</th>\n",
       "      <td>20</td>\n",
       "      <td>-2044357372913150066688.00</td>\n",
       "    </tr>\n",
       "    <tr>\n",
       "      <th>6</th>\n",
       "      <td>30</td>\n",
       "      <td>-2044357372913150066688.00</td>\n",
       "    </tr>\n",
       "    <tr>\n",
       "      <th>7</th>\n",
       "      <td>40</td>\n",
       "      <td>-2044357372913150066688.00</td>\n",
       "    </tr>\n",
       "    <tr>\n",
       "      <th>8</th>\n",
       "      <td>50</td>\n",
       "      <td>-2044357372913150066688.00</td>\n",
       "    </tr>\n",
       "    <tr>\n",
       "      <th>9</th>\n",
       "      <td>60</td>\n",
       "      <td>-2044357372913150066688.00</td>\n",
       "    </tr>\n",
       "    <tr>\n",
       "      <th>0</th>\n",
       "      <td>1</td>\n",
       "      <td>-66225626952670434708946944.00</td>\n",
       "    </tr>\n",
       "    <tr>\n",
       "      <th>1</th>\n",
       "      <td>3</td>\n",
       "      <td>-66225626952670434708946944.00</td>\n",
       "    </tr>\n",
       "    <tr>\n",
       "      <th>2</th>\n",
       "      <td>5</td>\n",
       "      <td>-66225626952670434708946944.00</td>\n",
       "    </tr>\n",
       "    <tr>\n",
       "      <th>3</th>\n",
       "      <td>10</td>\n",
       "      <td>-66225626952670434708946944.00</td>\n",
       "    </tr>\n",
       "    <tr>\n",
       "      <th>4</th>\n",
       "      <td>15</td>\n",
       "      <td>-66225626952670434708946944.00</td>\n",
       "    </tr>\n",
       "    <tr>\n",
       "      <th>5</th>\n",
       "      <td>20</td>\n",
       "      <td>-66225626952670434708946944.00</td>\n",
       "    </tr>\n",
       "    <tr>\n",
       "      <th>6</th>\n",
       "      <td>30</td>\n",
       "      <td>-66225626952670434708946944.00</td>\n",
       "    </tr>\n",
       "    <tr>\n",
       "      <th>7</th>\n",
       "      <td>40</td>\n",
       "      <td>-66225626952670434708946944.00</td>\n",
       "    </tr>\n",
       "    <tr>\n",
       "      <th>8</th>\n",
       "      <td>50</td>\n",
       "      <td>-66225626952670434708946944.00</td>\n",
       "    </tr>\n",
       "    <tr>\n",
       "      <th>9</th>\n",
       "      <td>60</td>\n",
       "      <td>-66225626952670434708946944.00</td>\n",
       "    </tr>\n",
       "    <tr>\n",
       "      <th>0</th>\n",
       "      <td>1</td>\n",
       "      <td>-1299561641952117258190848.00</td>\n",
       "    </tr>\n",
       "    <tr>\n",
       "      <th>1</th>\n",
       "      <td>3</td>\n",
       "      <td>-1299561641952117258190848.00</td>\n",
       "    </tr>\n",
       "    <tr>\n",
       "      <th>2</th>\n",
       "      <td>5</td>\n",
       "      <td>-1299561641952117258190848.00</td>\n",
       "    </tr>\n",
       "    <tr>\n",
       "      <th>3</th>\n",
       "      <td>10</td>\n",
       "      <td>-1299561641952117258190848.00</td>\n",
       "    </tr>\n",
       "    <tr>\n",
       "      <th>4</th>\n",
       "      <td>15</td>\n",
       "      <td>-1299561641952117258190848.00</td>\n",
       "    </tr>\n",
       "    <tr>\n",
       "      <th>5</th>\n",
       "      <td>20</td>\n",
       "      <td>-1299561641952117258190848.00</td>\n",
       "    </tr>\n",
       "    <tr>\n",
       "      <th>6</th>\n",
       "      <td>30</td>\n",
       "      <td>-1299561641952117258190848.00</td>\n",
       "    </tr>\n",
       "    <tr>\n",
       "      <th>7</th>\n",
       "      <td>40</td>\n",
       "      <td>-1299561641952117258190848.00</td>\n",
       "    </tr>\n",
       "    <tr>\n",
       "      <th>8</th>\n",
       "      <td>50</td>\n",
       "      <td>-1299561641952117258190848.00</td>\n",
       "    </tr>\n",
       "    <tr>\n",
       "      <th>9</th>\n",
       "      <td>60</td>\n",
       "      <td>-1299561641952117258190848.00</td>\n",
       "    </tr>\n",
       "    <tr>\n",
       "      <th>0</th>\n",
       "      <td>1</td>\n",
       "      <td>-30918261421471369118351360.00</td>\n",
       "    </tr>\n",
       "    <tr>\n",
       "      <th>1</th>\n",
       "      <td>3</td>\n",
       "      <td>-30918261421471369118351360.00</td>\n",
       "    </tr>\n",
       "    <tr>\n",
       "      <th>2</th>\n",
       "      <td>5</td>\n",
       "      <td>-30918261421471369118351360.00</td>\n",
       "    </tr>\n",
       "    <tr>\n",
       "      <th>3</th>\n",
       "      <td>10</td>\n",
       "      <td>-30918261421471369118351360.00</td>\n",
       "    </tr>\n",
       "    <tr>\n",
       "      <th>4</th>\n",
       "      <td>15</td>\n",
       "      <td>-30918261421471369118351360.00</td>\n",
       "    </tr>\n",
       "    <tr>\n",
       "      <th>5</th>\n",
       "      <td>20</td>\n",
       "      <td>-30918261421471369118351360.00</td>\n",
       "    </tr>\n",
       "    <tr>\n",
       "      <th>6</th>\n",
       "      <td>30</td>\n",
       "      <td>-30918261421471369118351360.00</td>\n",
       "    </tr>\n",
       "    <tr>\n",
       "      <th>7</th>\n",
       "      <td>40</td>\n",
       "      <td>-30918261421471369118351360.00</td>\n",
       "    </tr>\n",
       "    <tr>\n",
       "      <th>8</th>\n",
       "      <td>50</td>\n",
       "      <td>-30918261421471369118351360.00</td>\n",
       "    </tr>\n",
       "    <tr>\n",
       "      <th>9</th>\n",
       "      <td>60</td>\n",
       "      <td>-30918261421471369118351360.00</td>\n",
       "    </tr>\n",
       "  </tbody>\n",
       "</table>\n",
       "</div>"
      ],
      "text/plain": [
       "   n_jobs                          score\n",
       "0       1  -2765112137827198619877376.00\n",
       "1       3  -2765112137827198619877376.00\n",
       "2       5  -2765112137827198619877376.00\n",
       "3      10  -2765112137827198619877376.00\n",
       "4      15  -2765112137827198619877376.00\n",
       "5      20  -2765112137827198619877376.00\n",
       "6      30  -2765112137827198619877376.00\n",
       "7      40  -2765112137827198619877376.00\n",
       "8      50  -2765112137827198619877376.00\n",
       "9      60  -2765112137827198619877376.00\n",
       "0       1     -2044357372913150066688.00\n",
       "1       3     -2044357372913150066688.00\n",
       "2       5     -2044357372913150066688.00\n",
       "3      10     -2044357372913150066688.00\n",
       "4      15     -2044357372913150066688.00\n",
       "5      20     -2044357372913150066688.00\n",
       "6      30     -2044357372913150066688.00\n",
       "7      40     -2044357372913150066688.00\n",
       "8      50     -2044357372913150066688.00\n",
       "9      60     -2044357372913150066688.00\n",
       "0       1 -66225626952670434708946944.00\n",
       "1       3 -66225626952670434708946944.00\n",
       "2       5 -66225626952670434708946944.00\n",
       "3      10 -66225626952670434708946944.00\n",
       "4      15 -66225626952670434708946944.00\n",
       "5      20 -66225626952670434708946944.00\n",
       "6      30 -66225626952670434708946944.00\n",
       "7      40 -66225626952670434708946944.00\n",
       "8      50 -66225626952670434708946944.00\n",
       "9      60 -66225626952670434708946944.00\n",
       "0       1  -1299561641952117258190848.00\n",
       "1       3  -1299561641952117258190848.00\n",
       "2       5  -1299561641952117258190848.00\n",
       "3      10  -1299561641952117258190848.00\n",
       "4      15  -1299561641952117258190848.00\n",
       "5      20  -1299561641952117258190848.00\n",
       "6      30  -1299561641952117258190848.00\n",
       "7      40  -1299561641952117258190848.00\n",
       "8      50  -1299561641952117258190848.00\n",
       "9      60  -1299561641952117258190848.00\n",
       "0       1 -30918261421471369118351360.00\n",
       "1       3 -30918261421471369118351360.00\n",
       "2       5 -30918261421471369118351360.00\n",
       "3      10 -30918261421471369118351360.00\n",
       "4      15 -30918261421471369118351360.00\n",
       "5      20 -30918261421471369118351360.00\n",
       "6      30 -30918261421471369118351360.00\n",
       "7      40 -30918261421471369118351360.00\n",
       "8      50 -30918261421471369118351360.00\n",
       "9      60 -30918261421471369118351360.00"
      ]
     },
     "execution_count": 120,
     "metadata": {},
     "output_type": "execute_result"
    }
   ],
   "source": [
    "params = {\n",
    "    \"n_jobs\" : [1,3,5,10,15,20,30,40,50,60]\n",
    "}\n",
    "\n",
    "regression = LinearRegression()\n",
    "\n",
    "grid = GridSearchCV(regression, params, cv=5)\n",
    "grid.fit(X_train, y_train)\n",
    "cv_df(grid)"
   ]
  },
  {
   "cell_type": "markdown",
   "metadata": {},
   "source": [
    "## RandomForestRegressor"
   ]
  },
  {
   "cell_type": "code",
   "execution_count": 35,
   "metadata": {},
   "outputs": [],
   "source": [
    "def rmse(predict, actual):\n",
    "    predict = np.array(predict)\n",
    "    actual = np.array(actual)\n",
    "\n",
    "    distance = predict - actual\n",
    "\n",
    "    square_distance = distance ** 2\n",
    "\n",
    "    mean_square_distance = square_distance.mean()\n",
    "\n",
    "    score = np.sqrt(mean_square_distance)\n",
    "\n",
    "    return score\n",
    "\n",
    "rmse_score = make_scorer(rmse, greater_is_better=False)\n",
    "\n"
   ]
  },
  {
   "cell_type": "code",
   "execution_count": 43,
   "metadata": {},
   "outputs": [
    {
     "name": "stdout",
     "output_type": "stream",
     "text": [
      "{'criterion': 'mse', 'max_depth': 15, 'min_samples_leaf': 10, 'n_estimators': 50}\n"
     ]
    }
   ],
   "source": [
    "# poszukiwanie najlepszych parametrów lasu\n",
    "params = {\n",
    "     #\"min_samples_split\": range(2, 21, 2),\n",
    "      \"min_samples_leaf\": [10,50, 100],\n",
    "      \"n_estimators\": [50,90, 125],\n",
    "      \"max_depth\": [5,10,15,20],\n",
    "      \"criterion\": ['mse']\n",
    " }\n",
    "\n",
    "forest = RandomForestRegressor()\n",
    "grid= GridSearchCV(forest, params, cv=5)\n",
    "grid.fit(X_train, y_train)\n",
    "cv_df(grid)\n",
    "print(grid.best_params_)\n",
    "# print(grid.score(X_test, y_test))"
   ]
  },
  {
   "cell_type": "code",
   "execution_count": 47,
   "metadata": {},
   "outputs": [
    {
     "name": "stdout",
     "output_type": "stream",
     "text": [
      "R^2 score: 0.9167701353912839\n",
      " RMSE: 24821.835445921293\n"
     ]
    }
   ],
   "source": [
    "# test najlepszych parametrów z RMSE scorerem\n",
    "forest_best = RandomForestRegressor(criterion = 'mse', max_depth= 15, min_samples_leaf = 10, n_estimators = 50)\n",
    "forest_best.fit(X_train, y_train)\n",
    "print(f'R^2 score: {forest_best.score(X_train, y_train)}')\n",
    "y_pred = forest_best.predict(X_test)\n",
    "rmse = math.sqrt(mean_squared_error(y_test, y_pred))\n",
    "print(f' RMSE: {rmse}')"
   ]
  },
  {
   "cell_type": "code",
   "execution_count": 52,
   "metadata": {},
   "outputs": [
    {
     "name": "stdout",
     "output_type": "stream",
     "text": [
      "R^2 Score: 0.89820956268543\n",
      "MAE: 16632.77275579809\n"
     ]
    }
   ],
   "source": [
    "forest_best = RandomForestRegressor(criterion = 'mae', max_depth= 15, min_samples_leaf = 10, n_estimators = 50)\n",
    "forest_best.fit(X_train, y_train)\n",
    "print(f'R^2 Score: {forest_best.score(X_train, y_train)}')\n",
    "y_pred = forest_best.predict(X_test)\n",
    "forest_best_mae = mean_absolute_error(y_test, y_pred)\n",
    "print(f'MAE: {forest_best_mae}')"
   ]
  },
  {
   "cell_type": "markdown",
   "metadata": {},
   "source": [
    "__XGBoost__"
   ]
  },
  {
   "cell_type": "code",
   "execution_count": 130,
   "metadata": {},
   "outputs": [
    {
     "ename": "KeyboardInterrupt",
     "evalue": "",
     "output_type": "error",
     "traceback": [
      "\u001b[1;31m---------------------------------------------------------------------------\u001b[0m",
      "\u001b[1;31mKeyboardInterrupt\u001b[0m                         Traceback (most recent call last)",
      "\u001b[1;32m<ipython-input-130-618b14ab7a07>\u001b[0m in \u001b[0;36m<module>\u001b[1;34m\u001b[0m\n\u001b[0;32m     16\u001b[0m                             \u001b[0mbest_model\u001b[0m \u001b[1;33m=\u001b[0m \u001b[1;34mf'score = {score} max_depth = {d} learning_rate = {l} n_estimators = {n}'\u001b[0m\u001b[1;33m\u001b[0m\u001b[1;33m\u001b[0m\u001b[0m\n\u001b[0;32m     17\u001b[0m     \u001b[0mprint\u001b[0m\u001b[1;33m(\u001b[0m\u001b[0mbest_model\u001b[0m\u001b[1;33m)\u001b[0m\u001b[1;33m\u001b[0m\u001b[1;33m\u001b[0m\u001b[0m\n\u001b[1;32m---> 18\u001b[1;33m \u001b[0mXGB_score\u001b[0m \u001b[1;33m(\u001b[0m\u001b[0mX_train\u001b[0m\u001b[1;33m,\u001b[0m \u001b[0my_train\u001b[0m\u001b[1;33m,\u001b[0m \u001b[0mX_test\u001b[0m\u001b[1;33m,\u001b[0m \u001b[0my_test\u001b[0m\u001b[1;33m)\u001b[0m\u001b[1;33m\u001b[0m\u001b[1;33m\u001b[0m\u001b[0m\n\u001b[0m",
      "\u001b[1;32m<ipython-input-130-618b14ab7a07>\u001b[0m in \u001b[0;36mXGB_score\u001b[1;34m(x_train, y_train, x_test, y_test)\u001b[0m\n\u001b[0;32m     10\u001b[0m                         model = XGBRegressor(objective=\"reg:squarederror\", \n\u001b[0;32m     11\u001b[0m                               seed=123, max_depth=d, learning_rate=l, n_estimators = n)\n\u001b[1;32m---> 12\u001b[1;33m                         \u001b[0mmodel\u001b[0m\u001b[1;33m.\u001b[0m\u001b[0mfit\u001b[0m\u001b[1;33m(\u001b[0m\u001b[0mx_train\u001b[0m\u001b[1;33m,\u001b[0m\u001b[0my_train\u001b[0m\u001b[1;33m)\u001b[0m\u001b[1;33m\u001b[0m\u001b[1;33m\u001b[0m\u001b[0m\n\u001b[0m\u001b[0;32m     13\u001b[0m                         \u001b[0mscore\u001b[0m \u001b[1;33m=\u001b[0m \u001b[0mmodel\u001b[0m\u001b[1;33m.\u001b[0m\u001b[0mscore\u001b[0m\u001b[1;33m(\u001b[0m\u001b[0mx_test\u001b[0m\u001b[1;33m,\u001b[0m\u001b[0my_test\u001b[0m\u001b[1;33m)\u001b[0m\u001b[1;33m\u001b[0m\u001b[1;33m\u001b[0m\u001b[0m\n\u001b[0;32m     14\u001b[0m                         \u001b[1;32mif\u001b[0m \u001b[0mscore\u001b[0m \u001b[1;33m>\u001b[0m \u001b[0mbest\u001b[0m\u001b[1;33m:\u001b[0m\u001b[1;33m\u001b[0m\u001b[1;33m\u001b[0m\u001b[0m\n",
      "\u001b[1;32m~\\Anaconda3.1\\lib\\site-packages\\xgboost\\sklearn.py\u001b[0m in \u001b[0;36mfit\u001b[1;34m(self, X, y, sample_weight, base_margin, eval_set, eval_metric, early_stopping_rounds, verbose, xgb_model, sample_weight_eval_set, callbacks)\u001b[0m\n\u001b[0;32m    542\u001b[0m                               \u001b[0mevals_result\u001b[0m\u001b[1;33m=\u001b[0m\u001b[0mevals_result\u001b[0m\u001b[1;33m,\u001b[0m \u001b[0mobj\u001b[0m\u001b[1;33m=\u001b[0m\u001b[0mobj\u001b[0m\u001b[1;33m,\u001b[0m \u001b[0mfeval\u001b[0m\u001b[1;33m=\u001b[0m\u001b[0mfeval\u001b[0m\u001b[1;33m,\u001b[0m\u001b[1;33m\u001b[0m\u001b[1;33m\u001b[0m\u001b[0m\n\u001b[0;32m    543\u001b[0m                               \u001b[0mverbose_eval\u001b[0m\u001b[1;33m=\u001b[0m\u001b[0mverbose\u001b[0m\u001b[1;33m,\u001b[0m \u001b[0mxgb_model\u001b[0m\u001b[1;33m=\u001b[0m\u001b[0mxgb_model\u001b[0m\u001b[1;33m,\u001b[0m\u001b[1;33m\u001b[0m\u001b[1;33m\u001b[0m\u001b[0m\n\u001b[1;32m--> 544\u001b[1;33m                               callbacks=callbacks)\n\u001b[0m\u001b[0;32m    545\u001b[0m \u001b[1;33m\u001b[0m\u001b[0m\n\u001b[0;32m    546\u001b[0m         \u001b[1;32mif\u001b[0m \u001b[0mevals_result\u001b[0m\u001b[1;33m:\u001b[0m\u001b[1;33m\u001b[0m\u001b[1;33m\u001b[0m\u001b[0m\n",
      "\u001b[1;32m~\\Anaconda3.1\\lib\\site-packages\\xgboost\\training.py\u001b[0m in \u001b[0;36mtrain\u001b[1;34m(params, dtrain, num_boost_round, evals, obj, feval, maximize, early_stopping_rounds, evals_result, verbose_eval, xgb_model, callbacks)\u001b[0m\n\u001b[0;32m    210\u001b[0m                            \u001b[0mevals\u001b[0m\u001b[1;33m=\u001b[0m\u001b[0mevals\u001b[0m\u001b[1;33m,\u001b[0m\u001b[1;33m\u001b[0m\u001b[1;33m\u001b[0m\u001b[0m\n\u001b[0;32m    211\u001b[0m                            \u001b[0mobj\u001b[0m\u001b[1;33m=\u001b[0m\u001b[0mobj\u001b[0m\u001b[1;33m,\u001b[0m \u001b[0mfeval\u001b[0m\u001b[1;33m=\u001b[0m\u001b[0mfeval\u001b[0m\u001b[1;33m,\u001b[0m\u001b[1;33m\u001b[0m\u001b[1;33m\u001b[0m\u001b[0m\n\u001b[1;32m--> 212\u001b[1;33m                            xgb_model=xgb_model, callbacks=callbacks)\n\u001b[0m\u001b[0;32m    213\u001b[0m \u001b[1;33m\u001b[0m\u001b[0m\n\u001b[0;32m    214\u001b[0m \u001b[1;33m\u001b[0m\u001b[0m\n",
      "\u001b[1;32m~\\Anaconda3.1\\lib\\site-packages\\xgboost\\training.py\u001b[0m in \u001b[0;36m_train_internal\u001b[1;34m(params, dtrain, num_boost_round, evals, obj, feval, xgb_model, callbacks)\u001b[0m\n\u001b[0;32m     73\u001b[0m         \u001b[1;31m# Skip the first update if it is a recovery step.\u001b[0m\u001b[1;33m\u001b[0m\u001b[1;33m\u001b[0m\u001b[1;33m\u001b[0m\u001b[0m\n\u001b[0;32m     74\u001b[0m         \u001b[1;32mif\u001b[0m \u001b[0mversion\u001b[0m \u001b[1;33m%\u001b[0m \u001b[1;36m2\u001b[0m \u001b[1;33m==\u001b[0m \u001b[1;36m0\u001b[0m\u001b[1;33m:\u001b[0m\u001b[1;33m\u001b[0m\u001b[1;33m\u001b[0m\u001b[0m\n\u001b[1;32m---> 75\u001b[1;33m             \u001b[0mbst\u001b[0m\u001b[1;33m.\u001b[0m\u001b[0mupdate\u001b[0m\u001b[1;33m(\u001b[0m\u001b[0mdtrain\u001b[0m\u001b[1;33m,\u001b[0m \u001b[0mi\u001b[0m\u001b[1;33m,\u001b[0m \u001b[0mobj\u001b[0m\u001b[1;33m)\u001b[0m\u001b[1;33m\u001b[0m\u001b[1;33m\u001b[0m\u001b[0m\n\u001b[0m\u001b[0;32m     76\u001b[0m             \u001b[0mbst\u001b[0m\u001b[1;33m.\u001b[0m\u001b[0msave_rabit_checkpoint\u001b[0m\u001b[1;33m(\u001b[0m\u001b[1;33m)\u001b[0m\u001b[1;33m\u001b[0m\u001b[1;33m\u001b[0m\u001b[0m\n\u001b[0;32m     77\u001b[0m             \u001b[0mversion\u001b[0m \u001b[1;33m+=\u001b[0m \u001b[1;36m1\u001b[0m\u001b[1;33m\u001b[0m\u001b[1;33m\u001b[0m\u001b[0m\n",
      "\u001b[1;32m~\\Anaconda3.1\\lib\\site-packages\\xgboost\\core.py\u001b[0m in \u001b[0;36mupdate\u001b[1;34m(self, dtrain, iteration, fobj)\u001b[0m\n\u001b[0;32m   1367\u001b[0m             _check_call(_LIB.XGBoosterUpdateOneIter(self.handle,\n\u001b[0;32m   1368\u001b[0m                                                     \u001b[0mctypes\u001b[0m\u001b[1;33m.\u001b[0m\u001b[0mc_int\u001b[0m\u001b[1;33m(\u001b[0m\u001b[0miteration\u001b[0m\u001b[1;33m)\u001b[0m\u001b[1;33m,\u001b[0m\u001b[1;33m\u001b[0m\u001b[1;33m\u001b[0m\u001b[0m\n\u001b[1;32m-> 1369\u001b[1;33m                                                     dtrain.handle))\n\u001b[0m\u001b[0;32m   1370\u001b[0m         \u001b[1;32melse\u001b[0m\u001b[1;33m:\u001b[0m\u001b[1;33m\u001b[0m\u001b[1;33m\u001b[0m\u001b[0m\n\u001b[0;32m   1371\u001b[0m             \u001b[0mpred\u001b[0m \u001b[1;33m=\u001b[0m \u001b[0mself\u001b[0m\u001b[1;33m.\u001b[0m\u001b[0mpredict\u001b[0m\u001b[1;33m(\u001b[0m\u001b[0mdtrain\u001b[0m\u001b[1;33m,\u001b[0m \u001b[0moutput_margin\u001b[0m\u001b[1;33m=\u001b[0m\u001b[1;32mTrue\u001b[0m\u001b[1;33m,\u001b[0m \u001b[0mtraining\u001b[0m\u001b[1;33m=\u001b[0m\u001b[1;32mTrue\u001b[0m\u001b[1;33m)\u001b[0m\u001b[1;33m\u001b[0m\u001b[1;33m\u001b[0m\u001b[0m\n",
      "\u001b[1;31mKeyboardInterrupt\u001b[0m: "
     ]
    }
   ],
   "source": [
    "def XGB_score (x_train, y_train, x_test, y_test):\n",
    "    max_depth = [3, 4, 5, 6, None]\n",
    "    learning_rate = [0.01, 0.05, 0.01, 0.3]\n",
    "    n_estimators = [10, 50, 100, 200, 500, 2500]\n",
    "    best = 0\n",
    "    best_model = ''\n",
    "    for d in max_depth:\n",
    "        for l in learning_rate:\n",
    "            for n in n_estimators:\n",
    "                        model = XGBRegressor(objective=\"reg:squarederror\", \n",
    "                              seed=123, max_depth=d, learning_rate=l, n_estimators = n)\n",
    "                        model.fit(x_train,y_train)\n",
    "                        score = model.score(x_test,y_test)\n",
    "                        if score > best:\n",
    "                            best = score\n",
    "                            best_model = f'score = {score} max_depth = {d} learning_rate = {l} n_estimators = {n}'\n",
    "    print(best_model)\n",
    "XGB_score (X_train, y_train, X_test, y_test)"
   ]
  },
  {
   "cell_type": "code",
   "execution_count": 52,
   "metadata": {},
   "outputs": [
    {
     "name": "stdout",
     "output_type": "stream",
     "text": [
      "rmse = 19156.757268922785 max_depth = 4 learning_rate = 0.05 n_estimators = 500\n"
     ]
    }
   ],
   "source": [
    "def XGB_rmse (x_train, y_train, x_test, y_test):    \n",
    "    max_depth = [3, 4, 5, 6, None]\n",
    "    learning_rate = [0.01, 0.05, 0.01, 0.3]\n",
    "    n_estimators = [10, 50, 100, 200, 500]\n",
    "    best = 1000000\n",
    "    best_model = ''\n",
    "    for d in max_depth:\n",
    "        for l in learning_rate:\n",
    "            for n in n_estimators:\n",
    "                        model = XGBRegressor(objective=\"reg:squarederror\", \n",
    "                              seed=123, max_depth=d, learning_rate=l, n_estimators = n)\n",
    "                        model.fit(X_train,y_train)\n",
    "                        y_pred = model.predict(X_test)\n",
    "                        rmse = math.sqrt(mean_squared_error(y_test, y_pred))\n",
    "                        if rmse < best:\n",
    "                            best = rmse\n",
    "                            best_model = f'rmse = {rmse} max_depth = {d} learning_rate = {l} n_estimators = {n}'\n",
    "    print(best_model)\n",
    "XGB_rmse (X_train, y_train, X_test, y_test)"
   ]
  },
  {
   "cell_type": "markdown",
   "metadata": {},
   "source": [
    "__XGBoost with RandomizedSearchCV__"
   ]
  },
  {
   "cell_type": "code",
   "execution_count": null,
   "metadata": {},
   "outputs": [],
   "source": [
    "parameter_space = \\\n",
    "    {\n",
    "        \"max_depth\": [4, 5, 6],\n",
    "        \"learning_rate\": [0.005, 0.009, 0.01],\n",
    "        \"n_estimators\": [700, 1000, 2500],\n",
    "        \"booster\": [\"gbtree\",],\n",
    "        \"gamma\": [7, 25, 100],\n",
    "        \"subsample\": [0.3, 0.6],\n",
    "        \"colsample_bytree\": [0.5, 0.7],\n",
    "        \"colsample_bylevel\": [0.5, 0.7,],\n",
    "        \"reg_alpha\": [1, 10, 33],\n",
    "        \"reg_lambda\": [1, 3, 10],\n",
    "    }\n",
    "\n",
    "clf = RandomizedSearchCV(XGBRegressor(random_state=3), \n",
    "                         parameter_space, cv=3, n_jobs=4,\n",
    "                         scoring=\"neg_mean_absolute_error\", \n",
    "                         random_state=3, n_iter=10)\n",
    "\n",
    "clf.fit(X_train, y_train)\n",
    "print(\"Best parameters:\")\n",
    "print(clf.best_params_)"
   ]
  },
  {
   "cell_type": "code",
   "execution_count": 39,
   "metadata": {},
   "outputs": [
    {
     "name": "stdout",
     "output_type": "stream",
     "text": [
      "XGBoost MAE = 12111.19181659277\n"
     ]
    }
   ],
   "source": [
    "xgb_model = XGBRegressor(**clf.best_params_)\n",
    "xgb_model.fit(X_train, y_train)\n",
    "y_pred = xgb_model.predict(X_test)\n",
    "xgb_mae = mean_absolute_error(y_test, y_pred)\n",
    "print(\"XGBoost MAE =\", xgb_mae)"
   ]
  },
  {
   "cell_type": "markdown",
   "metadata": {},
   "source": [
    "__XGBoost waga featurów__"
   ]
  },
  {
   "cell_type": "code",
   "execution_count": 63,
   "metadata": {},
   "outputs": [
    {
     "data": {
      "image/png": "[encoded data removed]",
      "text/plain": [
       "<Figure size 504x360 with 1 Axes>"
      ]
     },
     "metadata": {},
     "output_type": "display_data"
    }
   ],
   "source": [
    "xgb_feature_importances = xgb_model.feature_importances_\n",
    "xgb_feature_importances = pd.Series(\n",
    "    xgb_feature_importances, index=X_train.columns.values\n",
    "    ).sort_values(ascending=False).head(15)\n",
    "\n",
    "fig, ax = plt.subplots(figsize=(7, 5))\n",
    "sns.barplot(x=xgb_feature_importances, \n",
    "            y=xgb_feature_importances.index, \n",
    "            color=\"#003f5c\");\n",
    "plt.xlabel('Feature Importance');\n",
    "plt.ylabel('Feature');"
   ]
  },
  {
   "cell_type": "markdown",
   "metadata": {},
   "source": [
    "__SVR with gridsearch__"
   ]
  },
  {
   "cell_type": "code",
   "execution_count": 131,
   "metadata": {},
   "outputs": [
    {
     "ename": "NameError",
     "evalue": "name 'SVR' is not defined",
     "output_type": "error",
     "traceback": [
      "\u001b[1;31m---------------------------------------------------------------------------\u001b[0m",
      "\u001b[1;31mNameError\u001b[0m                                 Traceback (most recent call last)",
      "\u001b[1;32m<ipython-input-131-2602f50e3cf0>\u001b[0m in \u001b[0;36m<module>\u001b[1;34m\u001b[0m\n\u001b[0;32m      8\u001b[0m     }\n\u001b[0;32m      9\u001b[0m \u001b[1;33m\u001b[0m\u001b[0m\n\u001b[1;32m---> 10\u001b[1;33m clf = GridSearchCV(SVR(), parameter_space, cv=3, n_jobs=4,\n\u001b[0m\u001b[0;32m     11\u001b[0m                    scoring=\"neg_mean_absolute_error\")\n\u001b[0;32m     12\u001b[0m \u001b[1;33m\u001b[0m\u001b[0m\n",
      "\u001b[1;31mNameError\u001b[0m: name 'SVR' is not defined"
     ]
    }
   ],
   "source": [
    "parameter_space = \\\n",
    "    {\n",
    "        \"kernel\": [\"poly\", \"linear\", \"rbf\", \"sigmoid\"],\n",
    "        \"degree\": [3, 5],\n",
    "        \"coef0\": [0, 3, 7],\n",
    "        \"gamma\":[.001, 0.01, 1/X_train.shape[1]],\n",
    "        \"C\": [1, 10, 100],\n",
    "    }\n",
    "\n",
    "clf = GridSearchCV(SVR(), parameter_space, cv=3, n_jobs=4,\n",
    "                   scoring=\"neg_mean_absolute_error\")\n",
    "\n",
    "clf.fit(X_train, y_train)\n",
    "cv_df(clf)\n",
    "print(\"Best parameters:\")\n",
    "print(clf.best_params_)"
   ]
  },
  {
   "cell_type": "code",
   "execution_count": 59,
   "metadata": {},
   "outputs": [
    {
     "name": "stdout",
     "output_type": "stream",
     "text": [
      "Support Vector Regression MAE = 12675.935524811264\n"
     ]
    }
   ],
   "source": [
    "svr_model = SVR(**clf.best_params_)\n",
    "svr_model.fit(X_train, y_train)\n",
    "y_pred = svr_model.predict(X_test)\n",
    "svr_mae = mean_absolute_error(y_test, y_pred)\n",
    "print(\"Support Vector Regression MAE =\", svr_mae)"
   ]
  },
  {
   "cell_type": "markdown",
   "metadata": {},
   "source": [
    "__plotowanie wyników, na razie bez DataFrame'a\n",
    "wyniki przykładowe__"
   ]
  },
  {
   "cell_type": "code",
   "execution_count": 53,
   "metadata": {},
   "outputs": [
    {
     "data": {
      "image/png": "[encoded data removed]",
      "text/plain": [
       "<Figure size 576x396 with 1 Axes>"
      ]
     },
     "metadata": {},
     "output_type": "display_data"
    }
   ],
   "source": [
    "x = ['Random Forest', 'SVR', 'XGBoost']\n",
    "y = [16632.77275, 12675.93, 12111.19]\n",
    "colors = [\"#392834\", \"#5a3244\", \"#7e3c4d\"]\n",
    "fig, ax = plt.subplots()\n",
    "plt.barh(y=range(len(x)), tick_label=x, width=y, height=0.4, color=colors);\n",
    "ax.set(xlabel=\"MAE (smaller is better)\", ylabel=\"Model\");"
   ]
  },
  {
   "cell_type": "markdown",
   "metadata": {},
   "source": [
    "__KNeighborsRegressor__"
   ]
  },
  {
   "cell_type": "code",
   "execution_count": 29,
   "metadata": {},
   "outputs": [
    {
     "name": "stdout",
     "output_type": "stream",
     "text": [
      "{'algorithm': 'auto', 'leaf_size': 10, 'n_neighbors': 6, 'weights': 'distance'}\n",
      "0.7749029730049471\n",
      "KNeighborsRegressor_RMSE= 36730.32052267049\n"
     ]
    },
    {
     "data": {
      "text/html": [
       "<div>\n",
       "<style scoped>\n",
       "    .dataframe tbody tr th:only-of-type {\n",
       "        vertical-align: middle;\n",
       "    }\n",
       "\n",
       "    .dataframe tbody tr th {\n",
       "        vertical-align: top;\n",
       "    }\n",
       "\n",
       "    .dataframe thead th {\n",
       "        text-align: right;\n",
       "    }\n",
       "</style>\n",
       "<table border=\"1\" class=\"dataframe\">\n",
       "  <thead>\n",
       "    <tr style=\"text-align: right;\">\n",
       "      <th></th>\n",
       "      <th>algorithm</th>\n",
       "      <th>leaf_size</th>\n",
       "      <th>n_neighbors</th>\n",
       "      <th>weights</th>\n",
       "      <th>score</th>\n",
       "    </tr>\n",
       "  </thead>\n",
       "  <tbody>\n",
       "    <tr>\n",
       "      <th>0</th>\n",
       "      <td>auto</td>\n",
       "      <td>10</td>\n",
       "      <td>3</td>\n",
       "      <td>uniform</td>\n",
       "      <td>0.756884</td>\n",
       "    </tr>\n",
       "    <tr>\n",
       "      <th>1</th>\n",
       "      <td>auto</td>\n",
       "      <td>10</td>\n",
       "      <td>3</td>\n",
       "      <td>distance</td>\n",
       "      <td>0.757164</td>\n",
       "    </tr>\n",
       "    <tr>\n",
       "      <th>2</th>\n",
       "      <td>auto</td>\n",
       "      <td>10</td>\n",
       "      <td>4</td>\n",
       "      <td>uniform</td>\n",
       "      <td>0.768163</td>\n",
       "    </tr>\n",
       "    <tr>\n",
       "      <th>3</th>\n",
       "      <td>auto</td>\n",
       "      <td>10</td>\n",
       "      <td>4</td>\n",
       "      <td>distance</td>\n",
       "      <td>0.767627</td>\n",
       "    </tr>\n",
       "    <tr>\n",
       "      <th>4</th>\n",
       "      <td>auto</td>\n",
       "      <td>10</td>\n",
       "      <td>5</td>\n",
       "      <td>uniform</td>\n",
       "      <td>0.771310</td>\n",
       "    </tr>\n",
       "    <tr>\n",
       "      <th>...</th>\n",
       "      <td>...</td>\n",
       "      <td>...</td>\n",
       "      <td>...</td>\n",
       "      <td>...</td>\n",
       "      <td>...</td>\n",
       "    </tr>\n",
       "    <tr>\n",
       "      <th>155</th>\n",
       "      <td>brute</td>\n",
       "      <td>50</td>\n",
       "      <td>4</td>\n",
       "      <td>distance</td>\n",
       "      <td>0.734480</td>\n",
       "    </tr>\n",
       "    <tr>\n",
       "      <th>156</th>\n",
       "      <td>brute</td>\n",
       "      <td>50</td>\n",
       "      <td>5</td>\n",
       "      <td>uniform</td>\n",
       "      <td>0.754613</td>\n",
       "    </tr>\n",
       "    <tr>\n",
       "      <th>157</th>\n",
       "      <td>brute</td>\n",
       "      <td>50</td>\n",
       "      <td>5</td>\n",
       "      <td>distance</td>\n",
       "      <td>0.755379</td>\n",
       "    </tr>\n",
       "    <tr>\n",
       "      <th>158</th>\n",
       "      <td>brute</td>\n",
       "      <td>50</td>\n",
       "      <td>6</td>\n",
       "      <td>uniform</td>\n",
       "      <td>0.762877</td>\n",
       "    </tr>\n",
       "    <tr>\n",
       "      <th>159</th>\n",
       "      <td>brute</td>\n",
       "      <td>50</td>\n",
       "      <td>6</td>\n",
       "      <td>distance</td>\n",
       "      <td>0.764730</td>\n",
       "    </tr>\n",
       "  </tbody>\n",
       "</table>\n",
       "<p>800 rows × 5 columns</p>\n",
       "</div>"
      ],
      "text/plain": [
       "    algorithm  leaf_size  n_neighbors   weights     score\n",
       "0        auto         10            3   uniform  0.756884\n",
       "1        auto         10            3  distance  0.757164\n",
       "2        auto         10            4   uniform  0.768163\n",
       "3        auto         10            4  distance  0.767627\n",
       "4        auto         10            5   uniform  0.771310\n",
       "..        ...        ...          ...       ...       ...\n",
       "155     brute         50            4  distance  0.734480\n",
       "156     brute         50            5   uniform  0.754613\n",
       "157     brute         50            5  distance  0.755379\n",
       "158     brute         50            6   uniform  0.762877\n",
       "159     brute         50            6  distance  0.764730\n",
       "\n",
       "[800 rows x 5 columns]"
      ]
     },
     "execution_count": 29,
     "metadata": {},
     "output_type": "execute_result"
    }
   ],
   "source": [
    "params = {\n",
    "    'n_neighbors': [3, 4, 5, 6],\n",
    "    'weights': ['uniform','distance'],\n",
    "    'algorithm': ['auto', 'ball_tree', 'kd_tree', 'brute'],\n",
    "    'leaf_size': [10, 30, 30, 50, 50]\n",
    " }\n",
    "\n",
    "knn = KNeighborsRegressor()\n",
    "grid= GridSearchCV(knn, params, cv=5)\n",
    "grid.fit(X_train, y_train)\n",
    "cv_df(grid)\n",
    "print(grid.best_params_)\n",
    "print(grid.score(X_test, y_test))\n",
    "\n",
    "knn_model = KNeighborsRegressor(**grid.best_params_)\n",
    "knn_model.fit(X_train, y_train)\n",
    "y_pred = knn_model.predict(X_test)\n",
    "knn_rmse = math.sqrt(mean_squared_error(y_test, y_pred))\n",
    "print(\"KNeighborsRegressor_RMSE=\", knn_rmse)\n",
    "\n",
    "cv_df(grid)"
   ]
  },
  {
   "cell_type": "code",
   "execution_count": 5,
   "metadata": {},
   "outputs": [],
   "source": [
    "def KNN_score (X_train, y_train, X_test, y_test):\n",
    "    n_neighbors = [3, 4, 5, 6]\n",
    "    weights = ['uniform','distance']\n",
    "    algorithm = ['auto', 'ball_tree', 'kd_tree', 'brute']\n",
    "    leaf_size = [10, 30, 30, 50, 50]\n",
    "    best = 0\n",
    "    best_model = ''\n",
    "    for w in weights:\n",
    "        for l in leaf_size:\n",
    "            for n in n_neighbors:\n",
    "                for a in algorithm:\n",
    "                        model = KNeighborsRegressor(algorithm = a, \n",
    "                                weights = w, leaf_size = l, n_neighbors = n)\n",
    "                        model.fit(X_train,y_train)\n",
    "                        score = model.score(X_test,y_test)\n",
    "                        if score > best:\n",
    "                            best = score\n",
    "                            best_model = f'score = {score} algorithm = {a} weights = {w} leaf_size = {l} n_neighbors = {n}'\n",
    "    print(best_model)"
   ]
  },
  {
   "cell_type": "code",
   "execution_count": 44,
   "metadata": {},
   "outputs": [],
   "source": [
    "def KNN_rmse (x_train, y_train, x_test, y_test): \n",
    "    n_neighbors = [3, 4, 5, 6]\n",
    "    weights = ['uniform','distance']\n",
    "    algorithm = ['auto', 'ball_tree', 'kd_tree', 'brute']\n",
    "    leaf_size = [10, 30, 30, 50, 50]\n",
    "    best = 100000\n",
    "    best_model = ''\n",
    "    for w in weights:\n",
    "        for l in leaf_size:\n",
    "            for n in n_neighbors:\n",
    "                for a in algorithm:\n",
    "                        model = KNeighborsRegressor(algorithm = a, \n",
    "                                weights = w, leaf_size = l, n_neighbors = n)\n",
    "                        model.fit(X_train,y_train)\n",
    "                        y_pred = model.predict(X_test)\n",
    "                        mse = mean_squared_error(y_test, y_pred)\n",
    "                        y_pred = model.predict(X_test)\n",
    "                        rmse = math.sqrt(mean_squared_error(y_test, y_pred))\n",
    "                        if rmse < best:\n",
    "                            best = rmse\n",
    "                            best_model = f'rmse = {rmse} algorithm = {a} weights = {w} leaf_size = {l} n_neighbors = {n}'\n",
    "    print(best_model)"
   ]
  },
  {
   "cell_type": "code",
   "execution_count": 51,
   "metadata": {},
   "outputs": [
    {
     "name": "stdout",
     "output_type": "stream",
     "text": [
      "score = 0.7760308147468868 algorithm = auto weights = distance leaf_size = 10 n_neighbors = 6\n"
     ]
    }
   ],
   "source": [
    "KNN_score(X_train, y_train, X_test, y_test)"
   ]
  },
  {
   "cell_type": "code",
   "execution_count": 47,
   "metadata": {},
   "outputs": [
    {
     "name": "stdout",
     "output_type": "stream",
     "text": [
      "rmse = 36638.186898000924 algorithm = auto weights = distance leaf_size = 10 n_neighbors = 6\n"
     ]
    }
   ],
   "source": [
    "KNN_rmse(X_train, y_train, X_test, y_test)"
   ]
  },
  {
   "cell_type": "code",
   "execution_count": 125,
   "metadata": {},
   "outputs": [
    {
     "name": "stdout",
     "output_type": "stream",
     "text": [
      "['LinearRegression_20200710_194922.csv']\n",
      "./results/\n"
     ]
    }
   ],
   "source": [
    "print(os.listdir(directory))\n",
    "print(directory)"
   ]
  },
  {
   "cell_type": "code",
   "execution_count": 104,
   "metadata": {},
   "outputs": [],
   "source": [
    "#odczytywanie wyników"
   ]
  },
  {
   "cell_type": "code",
   "execution_count": 138,
   "metadata": {},
   "outputs": [
    {
     "data": {
      "text/html": [
       "<div>\n",
       "<style scoped>\n",
       "    .dataframe tbody tr th:only-of-type {\n",
       "        vertical-align: middle;\n",
       "    }\n",
       "\n",
       "    .dataframe tbody tr th {\n",
       "        vertical-align: top;\n",
       "    }\n",
       "\n",
       "    .dataframe thead th {\n",
       "        text-align: right;\n",
       "    }\n",
       "</style>\n",
       "<table border=\"1\" class=\"dataframe\">\n",
       "  <thead>\n",
       "    <tr style=\"text-align: right;\">\n",
       "      <th></th>\n",
       "      <th>model</th>\n",
       "      <th>n_jobs</th>\n",
       "      <th>score</th>\n",
       "      <th>criterion</th>\n",
       "      <th>max_depth</th>\n",
       "      <th>min_samples_leaf</th>\n",
       "      <th>n_estimators</th>\n",
       "      <th>C</th>\n",
       "      <th>gamma</th>\n",
       "      <th>degree</th>\n",
       "    </tr>\n",
       "  </thead>\n",
       "  <tbody>\n",
       "    <tr>\n",
       "      <th>0</th>\n",
       "      <td>LinearRegression_20200710_194922.csv</td>\n",
       "      <td>1.00</td>\n",
       "      <td>-2044357372913150066688.00</td>\n",
       "      <td>NaN</td>\n",
       "      <td>nan</td>\n",
       "      <td>nan</td>\n",
       "      <td>nan</td>\n",
       "      <td>nan</td>\n",
       "      <td>NaN</td>\n",
       "      <td>nan</td>\n",
       "    </tr>\n",
       "    <tr>\n",
       "      <th>1</th>\n",
       "      <td>RandomForestRegressor_20200710_195914.csv</td>\n",
       "      <td>nan</td>\n",
       "      <td>0.90</td>\n",
       "      <td>mse</td>\n",
       "      <td>13.00</td>\n",
       "      <td>25.00</td>\n",
       "      <td>125.00</td>\n",
       "      <td>nan</td>\n",
       "      <td>NaN</td>\n",
       "      <td>nan</td>\n",
       "    </tr>\n",
       "    <tr>\n",
       "      <th>2</th>\n",
       "      <td>SVR_20200710_200437.csv</td>\n",
       "      <td>nan</td>\n",
       "      <td>0.86</td>\n",
       "      <td>NaN</td>\n",
       "      <td>nan</td>\n",
       "      <td>nan</td>\n",
       "      <td>nan</td>\n",
       "      <td>10.00</td>\n",
       "      <td>scale</td>\n",
       "      <td>nan</td>\n",
       "    </tr>\n",
       "    <tr>\n",
       "      <th>3</th>\n",
       "      <td>SVR_20200710_201415.csv</td>\n",
       "      <td>nan</td>\n",
       "      <td>-0.02</td>\n",
       "      <td>NaN</td>\n",
       "      <td>nan</td>\n",
       "      <td>nan</td>\n",
       "      <td>nan</td>\n",
       "      <td>10.00</td>\n",
       "      <td>auto</td>\n",
       "      <td>9.00</td>\n",
       "    </tr>\n",
       "  </tbody>\n",
       "</table>\n",
       "</div>"
      ],
      "text/plain": [
       "                                       model               n_jobs  \\\n",
       "0       LinearRegression_20200710_194922.csv                 1.00   \n",
       "1  RandomForestRegressor_20200710_195914.csv                  nan   \n",
       "2                    SVR_20200710_200437.csv                  nan   \n",
       "3                    SVR_20200710_201415.csv                  nan   \n",
       "\n",
       "                       score criterion            max_depth  \\\n",
       "0 -2044357372913150066688.00       NaN                  nan   \n",
       "1                       0.90       mse                13.00   \n",
       "2                       0.86       NaN                  nan   \n",
       "3                      -0.02       NaN                  nan   \n",
       "\n",
       "      min_samples_leaf         n_estimators                    C  gamma  \\\n",
       "0                  nan                  nan                  nan    NaN   \n",
       "1                25.00               125.00                  nan    NaN   \n",
       "2                  nan                  nan                10.00  scale   \n",
       "3                  nan                  nan                10.00   auto   \n",
       "\n",
       "                degree  \n",
       "0                  nan  \n",
       "1                  nan  \n",
       "2                  nan  \n",
       "3                 9.00  "
      ]
     },
     "execution_count": 138,
     "metadata": {},
     "output_type": "execute_result"
    }
   ],
   "source": [
    "directory = os.curdir + \"/results/\"\n",
    "\n",
    "tabela = pd.DataFrame()\n",
    "\n",
    "for file in os.listdir(directory):\n",
    "    #iteracja przez wszystkie pliki w katalogu\n",
    "    \n",
    "    tmp = pd.read_csv(\"results/\" + file, index_col= False) \n",
    "    \n",
    "    # usunięcie zbędnej kolumny\n",
    "    tmp = tmp.drop(columns = 'Unnamed: 0', axis = 0)\n",
    "   \n",
    "    # zkolalizowanie najwyższego score'a\n",
    "    result = tmp['score'].idxmax()\n",
    "    \n",
    "    # przypisanie rzędu z najwyższym wyniku do słownika \n",
    "    max_score = dict(tmp.iloc[result])\n",
    "    \n",
    "    # wyciągnięcie nazwy modelu z pliku\n",
    "    max_score['model']  = str(file).split(' ')[0]\n",
    "    \n",
    "    # dodanie rekordu do tabeli\n",
    "    tabela = tabela.append((max_score), ignore_index = True)\n",
    "    \n",
    "tabela"
   ]
  }
 ],
 "metadata": {
  "kernelspec": {
   "display_name": "Python 3",
   "language": "python",
   "name": "python3"
  },
  "language_info": {
   "codemirror_mode": {
    "name": "ipython",
    "version": 3
   },
   "file_extension": ".py",
   "mimetype": "text/x-python",
   "name": "python",
   "nbconvert_exporter": "python",
   "pygments_lexer": "ipython3",
   "version": "3.7.6"
  }
 },
 "nbformat": 4,
 "nbformat_minor": 4
}
